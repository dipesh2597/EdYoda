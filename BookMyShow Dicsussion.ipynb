{
 "cells": [
  {
   "cell_type": "code",
   "execution_count": 3,
   "id": "bbfafff7",
   "metadata": {
    "scrolled": true
   },
   "outputs": [
    {
     "name": "stdout",
     "output_type": "stream",
     "text": [
      "<xml.etree.ElementTree.ElementTree object at 0x107960100>\n"
     ]
    }
   ],
   "source": [
    "import xml.etree.ElementTree as et\n",
    "t=et.parse(\"xml_data_sravan.xml\")\n",
    "print(t)\n"
   ]
  },
  {
   "cell_type": "code",
   "execution_count": null,
   "id": "b7e9290e",
   "metadata": {},
   "outputs": [],
   "source": [
    "Output= \"Your age is 95.\"\n",
    "\n",
    "your_output = \"Your age is 95\" or \"your age is 95\" or \"Your age is 95. \"\n"
   ]
  },
  {
   "cell_type": "code",
   "execution_count": null,
   "id": "3c15b5e1",
   "metadata": {},
   "outputs": [],
   "source": [
    "#design of Book My SHOW\n",
    "'''\n",
    "'''"
   ]
  },
  {
   "cell_type": "code",
   "execution_count": 8,
   "id": "c4130e6e",
   "metadata": {
    "scrolled": true
   },
   "outputs": [
    {
     "name": "stdout",
     "output_type": "stream",
     "text": [
      "Please Enter your preference:\n",
      "1. Yes\n",
      "2. No\n",
      "3. Exit\n",
      "Enter your choice number: 1\n",
      "You have selected Yes\n",
      "Please Enter your preference:\n",
      "1. Yes\n",
      "2. No\n",
      "3. Exit\n",
      "Enter your choice number: 2\n",
      "You have selected No\n",
      "Please Enter your preference:\n",
      "1. Yes\n",
      "2. No\n",
      "3. Exit\n",
      "Enter your choice number: 5\n",
      "Option Not Available. Please choose the option from below: \n",
      "Please Enter your preference:\n",
      "1. Yes\n",
      "2. No\n",
      "3. Exit\n",
      "Enter your choice number: 3\n",
      "You have selected Exit\n"
     ]
    }
   ],
   "source": [
    "# show these 4 options until I choose Exit:\n",
    "# Until i choose exit show me this: \n",
    "# 1. Yes\n",
    "# 2. No \n",
    "# 3. Exit\n",
    "\n",
    "# for i in range(int(float('inf'))):\n",
    "#     print(\"in for loop\")\n",
    "\n",
    "while True:\n",
    "    user_input = int(input(\"Please Enter your preference:\\n1. Yes\\n2. No\\n3. Exit\\nEnter your choice number: \"))\n",
    "    if user_input == 1:\n",
    "        print(\"You have selected Yes\")\n",
    "    elif user_input == 2:\n",
    "        print(\"You have selected No\")\n",
    "    elif user_input == 3:\n",
    "        print(\"You have selected Exit\")\n",
    "        break\n",
    "    else:\n",
    "        print(\"Option Not Available. Please choose the option from below: \")"
   ]
  },
  {
   "cell_type": "code",
   "execution_count": 1,
   "id": "0504856a",
   "metadata": {},
   "outputs": [
    {
     "name": "stdout",
     "output_type": "stream",
     "text": [
      "Ticekt Counter\n",
      "Enter number of row you want to book: 2\n",
      "Enter number of column you want to book: 3\n",
      "here is your price: \n",
      "Do you want to book?\n",
      "1. Yes\n",
      "2. No1\n",
      "We're booking your ticket\n"
     ]
    }
   ],
   "source": [
    "class Movie():\n",
    "    \n",
    "    def __init__(self,rows,columns):\n",
    "        self.rows = rows\n",
    "        self.columns = columns\n",
    "        \n",
    "        '''\n",
    "            1 2 3 4 5\n",
    "        1.  S S S S S\n",
    "        2.  S S S S S\n",
    "        '''\n",
    "        \n",
    "    def show_seats(self):\n",
    "        print(\"Here is seat allocation available for you: \")\n",
    "        for row in range(0,self.rows+1):\n",
    "            for column in range(0,self.columns+1):\n",
    "                if row == 0:\n",
    "                    if column == 0:\n",
    "                        print(\" \", end=\" \")\n",
    "                    else:\n",
    "                        print(column, end=\" \")\n",
    "                else:\n",
    "                    if column == 0:\n",
    "                        print(row, end=\" \")\n",
    "                    else:\n",
    "                        # if check for booked row and columns print(\"B\") else print(\"S\")\n",
    "                        print(\"S\", end=\" \")\n",
    "            print()\n",
    "        \n",
    "    def book_ticket(self):\n",
    "        print(\"Ticekt Counter\")\n",
    "        booking_row = input(\"Enter number of row you want to book: \")\n",
    "        booking_column = input(\"Enter number of column you want to book: \")\n",
    "        print(\"here is your price: \")\n",
    "        choice = int(input(\"Do you want to book?\\n1. Yes\\n2. No\"))\n",
    "        if choice == 1:\n",
    "            print(\"We're booking your ticket\")\n",
    "        elif choice == 2:\n",
    "            print(\"Cancelled Booking\")\n",
    "        \n",
    "# rows = int(input(\"Enter Number of rows: \"))\n",
    "# columns = int(input(\"Enter number of seats per row: \"))\n",
    "\n",
    "m1 = Movie(7,8)\n",
    "# m1.show_seats()\n",
    "m1.book_ticket()\n"
   ]
  }
 ],
 "metadata": {
  "kernelspec": {
   "display_name": "Python 3 (ipykernel)",
   "language": "python",
   "name": "python3"
  },
  "language_info": {
   "codemirror_mode": {
    "name": "ipython",
    "version": 3
   },
   "file_extension": ".py",
   "mimetype": "text/x-python",
   "name": "python",
   "nbconvert_exporter": "python",
   "pygments_lexer": "ipython3",
   "version": "3.9.7"
  }
 },
 "nbformat": 4,
 "nbformat_minor": 5
}
