{
 "cells": [
  {
   "cell_type": "code",
   "execution_count": 3,
   "id": "e516c6d1",
   "metadata": {
    "scrolled": true
   },
   "outputs": [
    {
     "name": "stdout",
     "output_type": "stream",
     "text": [
      "<xml.etree.ElementTree.ElementTree object at 0x107960100>\n"
     ]
    }
   ],
   "source": [
    "import xml.etree.ElementTree as et\n",
    "t=et.parse(\"xml_data_sravan.xml\")\n",
    "print(t)\n"
   ]
  },
  {
   "cell_type": "code",
   "execution_count": null,
   "id": "346f5901",
   "metadata": {},
   "outputs": [],
   "source": [
    "Output= \"Your age is 95.\"\n",
    "\n",
    "your_output = \"Your age is 95\" or \"your age is 95\" or \"Your age is 95. \"\n"
   ]
  },
  {
   "cell_type": "code",
   "execution_count": null,
   "id": "f7127d60",
   "metadata": {},
   "outputs": [],
   "source": [
    "#design of Book My SHOW\n",
    "'''\n",
    "'''"
   ]
  },
  {
   "cell_type": "code",
   "execution_count": 8,
   "id": "c27c87ec",
   "metadata": {
    "scrolled": true
   },
   "outputs": [
    {
     "name": "stdout",
     "output_type": "stream",
     "text": [
      "Please Enter your preference:\n",
      "1. Yes\n",
      "2. No\n",
      "3. Exit\n",
      "Enter your choice number: 1\n",
      "You have selected Yes\n",
      "Please Enter your preference:\n",
      "1. Yes\n",
      "2. No\n",
      "3. Exit\n",
      "Enter your choice number: 2\n",
      "You have selected No\n",
      "Please Enter your preference:\n",
      "1. Yes\n",
      "2. No\n",
      "3. Exit\n",
      "Enter your choice number: 5\n",
      "Option Not Available. Please choose the option from below: \n",
      "Please Enter your preference:\n",
      "1. Yes\n",
      "2. No\n",
      "3. Exit\n",
      "Enter your choice number: 3\n",
      "You have selected Exit\n"
     ]
    }
   ],
   "source": [
    "# show these 4 options until I choose Exit:\n",
    "# Until i choose exit show me this: \n",
    "# 1. Yes\n",
    "# 2. No \n",
    "# 3. Exit\n",
    "\n",
    "# for i in range(int(float('inf'))):\n",
    "#     print(\"in for loop\")\n",
    "\n",
    "while True:\n",
    "    user_input = int(input(\"Please Enter your preference:\\n1. Yes\\n2. No\\n3. Exit\\nEnter your choice number: \"))\n",
    "    if user_input == 1:\n",
    "        print(\"You have selected Yes\")\n",
    "    elif user_input == 2:\n",
    "        print(\"You have selected No\")\n",
    "    elif user_input == 3:\n",
    "        print(\"You have selected Exit\")\n",
    "        break\n",
    "    else:\n",
    "        print(\"Option Not Available. Please choose the option from below: \")"
   ]
  },
  {
   "cell_type": "code",
   "execution_count": 24,
   "id": "0d2b6d9a",
   "metadata": {
    "scrolled": true
   },
   "outputs": [],
   "source": [
    "class Movie():\n",
    "    \n",
    "    def __init__(self,rows,columns):\n",
    "        self.rows = rows\n",
    "        self.columns = columns\n",
    "        self.booking = {}\n",
    "        \n",
    "        '''\n",
    "            1 2 3 4 5\n",
    "        1.  S S S S S\n",
    "        2.  S S S S S\n",
    "        '''\n",
    "    def is_booked(self,row,col):\n",
    "        #logic\n",
    "        seat_id = str(row)+str(col)\n",
    "        if seat_id in self.booking:\n",
    "            return True\n",
    "        else:\n",
    "            return False\n",
    "        \n",
    "    def show_seats(self):\n",
    "        print(\"Here is seat allocation available for you: \")\n",
    "        for row in range(0,self.rows+1):\n",
    "            for column in range(0,self.columns+1):\n",
    "                if row == 0:\n",
    "                    if column == 0:\n",
    "                        print(\" \", end=\" \")\n",
    "                    else:\n",
    "                        print(column, end=\" \")\n",
    "                else:\n",
    "                    if column == 0:\n",
    "                        print(row, end=\" \")\n",
    "                    else:\n",
    "                        # if check for booked row and columns print(\"B\") else print(\"S\")\n",
    "                        if self.is_booked(row,column):\n",
    "                            print(\"B\", end=\" \")\n",
    "                        else:\n",
    "                            print(\"S\", end=\" \")\n",
    "            print()\n",
    "        \n",
    "    def book_ticket(self):\n",
    "        print(\"Ticket Counter\")\n",
    "        booking_row = int(input(\"Enter number of row you want to book: \"))\n",
    "        booking_column = int(input(\"Enter number of column you want to book: \"))\n",
    "        seat_id = str(row)+str(col)\n",
    "        #here is your price: Pricing rules\n",
    "        no_of_seats = self.rows*self.columns\n",
    "        if no_of_seats <= 60:\n",
    "            price = 10\n",
    "        else:\n",
    "            row_factor = self.rows//2\n",
    "            if booking_row <= row_factor:\n",
    "                price = 10\n",
    "            else:\n",
    "                price = 8\n",
    "        print(\"Here is the price of your ticket: \",price)\n",
    "        choice = int(input(\"Do you want to book?\\n1. Yes\\n2. No\\nEnter your choice: \"))\n",
    "        if choice == 1:\n",
    "            print(\"We're booking your ticket:\")\n",
    "            name = input(\"Please enter your name: \")\n",
    "            gender = input(\"Please enter your gender: \")\n",
    "            age = input(\"Please enter your age: \")\n",
    "            mob = input(\"Please enter your mobile number: \")\n",
    "            print(f\"saving details in booking for seadt_id: {seat_id}, current booking: \", self.booking)\n",
    "            details = {'name':name,'gender':gender,'age':age,'mob':mob}\n",
    "            self.booking[seat_id]=details\n",
    "            print(\"Details saved, current booking: \", self.booking)\n",
    "            print(\"Ticket Booked Successfully!!!\")\n",
    "        elif choice == 2:\n",
    "            print(\"Cancelled Booking\")\n",
    "\n"
   ]
  },
  {
   "cell_type": "code",
   "execution_count": 21,
   "id": "0fb643df",
   "metadata": {},
   "outputs": [
    {
     "name": "stdout",
     "output_type": "stream",
     "text": [
      "Enter Number of rows: 7\n",
      "Enter number of seats per row: 8\n",
      "Please Enter your preference:\n",
      "1. Show Seats\n",
      "2. Book Seats\n",
      "3. Statics\n",
      "4. Show booked ticket user details\n",
      "0. Exit\n",
      "Enter your choice number: 1\n",
      "Cinema:\n",
      "Here is seat allocation available for you: \n",
      "  1 2 3 4 5 6 7 8 \n",
      "1 S S S S S S S S \n",
      "2 S S S S S S S S \n",
      "3 S S S S S S S S \n",
      "4 S S S S S S S S \n",
      "5 S S S S S S S S \n",
      "6 S S S S S S S S \n",
      "7 S S S S S S S S \n",
      "Please Enter your preference:\n",
      "1. Show Seats\n",
      "2. Book Seats\n",
      "3. Statics\n",
      "4. Show booked ticket user details\n",
      "0. Exit\n",
      "Enter your choice number: 2\n",
      "Ticket Counter\n",
      "Enter number of row you want to book: 4\n",
      "Enter number of column you want to book: 4\n",
      "Here is the price of your ticket:  10\n",
      "Do you want to book?\n",
      "1. Yes\n",
      "2. No\n",
      "Enter your choice1\n",
      "We're booking your ticket:\n",
      "Please enter your name: d\n",
      "Please enter your gender: m\n",
      "Please enter your age: 24\n",
      "Please enter your mobile number: 1234\n",
      "Ticket Booked Successfully!!!\n",
      "Please Enter your preference:\n",
      "1. Show Seats\n",
      "2. Book Seats\n",
      "3. Statics\n",
      "4. Show booked ticket user details\n",
      "0. Exit\n",
      "Enter your choice number: 1\n",
      "Cinema:\n",
      "Here is seat allocation available for you: \n",
      "  1 2 3 4 5 6 7 8 \n",
      "1 S S S S S S S S \n",
      "2 S S S S S S S S \n",
      "3 S S S S S S S S \n",
      "4 S S S S S S S S \n",
      "5 S S S S S S S S \n",
      "6 S S S S S S S S \n",
      "7 S S S S S S S S \n",
      "Please Enter your preference:\n",
      "1. Show Seats\n",
      "2. Book Seats\n",
      "3. Statics\n",
      "4. Show booked ticket user details\n",
      "0. Exit\n",
      "Enter your choice number: 0\n",
      "You have selected Exit\n"
     ]
    }
   ],
   "source": [
    "rows = int(input(\"Enter Number of rows: \"))\n",
    "columns = int(input(\"Enter number of seats per row: \"))\n",
    "\n",
    "m1 = Movie(rows,columns)\n",
    "\n",
    "while True:\n",
    "    user_input = int(input(\"Please Enter your preference:\\n1. Show Seats\\n2. Book Seats\\n3. Statics\\n4. Show booked ticket user details\\n0. Exit\\nEnter your choice number: \"))\n",
    "    if user_input == 1:\n",
    "        print(\"Cinema:\")\n",
    "        m1.show_seats()\n",
    "    elif user_input == 2:\n",
    "        m1.book_ticket()\n",
    "    elif user_input == 3:\n",
    "        pass\n",
    "    elif user_input == 4:\n",
    "        pass\n",
    "    elif user_input == 0:\n",
    "        print(\"You have selected Exit\")\n",
    "        break\n",
    "    else:\n",
    "        print(\"Option Not Available. Please choose the option from below: \")\n",
    "\n"
   ]
  },
  {
   "cell_type": "code",
   "execution_count": 27,
   "id": "ca520b9d",
   "metadata": {},
   "outputs": [
    {
     "name": "stdout",
     "output_type": "stream",
     "text": [
      "Ticket Counter\n",
      "Enter number of row you want to book: 4\n",
      "Enter number of column you want to book: 4\n",
      "Here is the price of your ticket:  10\n",
      "Do you want to book?\n",
      "1. Yes\n",
      "2. No\n",
      "Enter your choice: 1\n",
      "We're booking your ticket:\n",
      "Please enter your name: d\n",
      "Please enter your gender: m\n",
      "Please enter your age: 24\n",
      "Please enter your mobile number: 12345\n",
      "saving details in booking for seadt_id: 44, current booking:  {}\n",
      "Details saved, current booking:  {'44': {'name': 'd', 'gender': 'm', 'age': '24', 'mob': '12345'}}\n",
      "Ticket Booked Successfully!!!\n"
     ]
    }
   ],
   "source": [
    "m2 = Movie(7,8)\n",
    "m2.booking\n",
    "m2.book_ticket()"
   ]
  },
  {
   "cell_type": "code",
   "execution_count": 3,
   "id": "ed26da4f",
   "metadata": {},
   "outputs": [
    {
     "name": "stdout",
     "output_type": "stream",
     "text": [
      "18\n",
      " Weird\n"
     ]
    }
   ],
   "source": [
    "a=int(input())\n",
    "\n",
    "if a%2==1 and a in range(1,7):\n",
    "    print(\"Weird\")\n",
    "elif a%2==0 and a in range(2,6):\n",
    "    print(\"Not Weird\")\n",
    "elif a%2==0 and a in range(6,21):\n",
    "    print(\" Weird\")\n",
    "else:\n",
    "    print(\"Not weird\")"
   ]
  },
  {
   "cell_type": "code",
   "execution_count": 12,
   "id": "a18a124d",
   "metadata": {},
   "outputs": [
    {
     "name": "stdout",
     "output_type": "stream",
     "text": [
      "2\n"
     ]
    }
   ],
   "source": [
    "print(5//2)"
   ]
  },
  {
   "cell_type": "code",
   "execution_count": 19,
   "id": "4523001f",
   "metadata": {},
   "outputs": [
    {
     "name": "stdout",
     "output_type": "stream",
     "text": [
      "[{'row': 1, 'col': 1, 'name': 'dipesh1'}, {'row': 2, 'col': 2, 'name': 'dipesh2'}, {'row': 3, 'col': 3, 'name': 'dipesh3'}, {'row': 4, 'col': 4, 'name': 'dipesh4'}, {'row': 5, 'col': 5, 'name': 'dipesh5'}]\n",
      "dipesh4\n",
      "not booked\n"
     ]
    }
   ],
   "source": [
    "#testing for saving the booking details and fetching also\n",
    "\n",
    "test_booking_lis = []\n",
    "\n",
    "name = 'dipesh'\n",
    "\n",
    "for i in range(1,6):\n",
    "    details = {'row':i,'col':i,'name':name+str(i)}\n",
    "    test_booking_lis.append(details)\n",
    "    \n",
    "print(test_booking_lis)\n",
    "\n",
    "row=4\n",
    "col=4\n",
    "\n",
    "for detail in test_booking_lis:\n",
    "    if detail['row']==row and detail['col']==col:\n",
    "        booked = True\n",
    "        print(detail['name'])\n",
    "    else:\n",
    "        booked = False\n",
    "        \n",
    "        \n",
    "# [\n",
    "#     {'row': 1, 'col': 1, 'name': 'dipesh1'}, \n",
    "#     {'row': 2, 'col': 2, 'name': 'dipesh2'}, \n",
    "#     {'row': 3, 'col': 3, 'name': 'dipesh3'}, \n",
    "#     {'row': 4, 'col': 4, 'name': 'dipesh4'}, \n",
    "#     {'row': 5, 'col': 5, 'name': 'dipesh5'}\n",
    "# ]         \n",
    "        \n",
    "if booked: # if booked == True or booked != None\n",
    "    print(\"booked\")\n",
    "else:\n",
    "    print(\"not booked\")"
   ]
  },
  {
   "cell_type": "code",
   "execution_count": 17,
   "id": "c6c2ae48",
   "metadata": {},
   "outputs": [
    {
     "name": "stdout",
     "output_type": "stream",
     "text": [
      "{'11': {'name': 'dipesh1', 'gender': 'male', 'age': 24, 'mob': 1234}, '22': {'name': 'dipesh2', 'gender': 'male', 'age': 24, 'mob': 1234}, '33': {'name': 'dipesh3', 'gender': 'male', 'age': 24, 'mob': 1234}, '44': {'name': 'dipesh4', 'gender': 'male', 'age': 24, 'mob': 1234}, '55': {'name': 'dipesh5', 'gender': 'male', 'age': 24, 'mob': 1234}}\n",
      "booked\n"
     ]
    }
   ],
   "source": [
    "test_booking_dic = {}\n",
    "\n",
    "name = 'dipesh'\n",
    "\n",
    "for i in range(1,6):\n",
    "    seat_id = str(i)+str(i) #\n",
    "    details = {'name':name+str(i),'gender':'male','age':24,'mob':1234}\n",
    "    test_booking_dic[seat_id]=details\n",
    "    \n",
    "print(test_booking_dic)\n",
    "# {\n",
    "#     '11': {'name': 'dipesh1', 'gender': 'male', 'age': 24, 'mob': 1234}, \n",
    "#     '22': {'name': 'dipesh2', 'gender': 'male', 'age': 24, 'mob': 1234}, \n",
    "#     '33': {'name': 'dipesh3', 'gender': 'male', 'age': 24, 'mob': 1234}, \n",
    "#     '44': {'name': 'dipesh4', 'gender': 'male', 'age': 24, 'mob': 1234}, \n",
    "#     '55': {'name': 'dipesh5', 'gender': 'male', 'age': 24, 'mob': 1234}\n",
    "# }\n",
    "booked\n",
    "row=4\n",
    "col=4\n",
    "\n",
    "seat_id = str(row)+str(col)    \n",
    "if seat_id in test_booking_dic: # if booked == True or booked != None\n",
    "    print(\"booked\")\n",
    "else:\n",
    "    print(\"not booked\")"
   ]
  },
  {
   "cell_type": "code",
   "execution_count": 22,
   "id": "3a6314a0",
   "metadata": {},
   "outputs": [
    {
     "data": {
      "text/plain": [
       "{}"
      ]
     },
     "execution_count": 22,
     "metadata": {},
     "output_type": "execute_result"
    }
   ],
   "source": [
    "m1.booking\n",
    "\n",
    "\n",
    "\n",
    "\n",
    "booking = {'row':row,'col':col}"
   ]
  },
  {
   "cell_type": "code",
   "execution_count": 3,
   "id": "e57afb45",
   "metadata": {},
   "outputs": [
    {
     "name": "stdout",
     "output_type": "stream",
     "text": [
      "1.2424\n"
     ]
    }
   ],
   "source": [
    "len({\"key\":\"value\"})\n",
    "\n",
    "\n",
    "print(round(1.24235436534,4))"
   ]
  }
 ],
 "metadata": {
  "kernelspec": {
   "display_name": "Python 3 (ipykernel)",
   "language": "python",
   "name": "python3"
  },
  "language_info": {
   "codemirror_mode": {
    "name": "ipython",
    "version": 3
   },
   "file_extension": ".py",
   "mimetype": "text/x-python",
   "name": "python",
   "nbconvert_exporter": "python",
   "pygments_lexer": "ipython3",
   "version": "3.9.7"
  }
 },
 "nbformat": 4,
 "nbformat_minor": 5
}
