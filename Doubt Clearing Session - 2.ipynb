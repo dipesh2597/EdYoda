{
 "cells": [
  {
   "cell_type": "code",
   "execution_count": 8,
   "id": "a987cafc",
   "metadata": {},
   "outputs": [
    {
     "name": "stdout",
     "output_type": "stream",
     "text": [
      "   a \n",
      "  a b \n",
      " a b c \n",
      "a b c d \n"
     ]
    }
   ],
   "source": [
    "'''\n",
    "Write a python program to print pascal's triangle\n",
    "\n",
    "3 rows\n",
    "\n",
    "  1        0C0\n",
    " 1 1     1c0 1c1\n",
    "1 2 1  2c0 2c1 2c2\n",
    "\n",
    "    1\n",
    "   1 2\n",
    "  1 2 3\n",
    " 1 2 3 4\n",
    "1 2 3 4 5 \n",
    "  \n",
    "psudo code:\n",
    "1. Get the number of rows\n",
    "2. Run a loop for the given number of rows\n",
    "3. print spaces for left side print(end=\" \") \n",
    "4. print the numbers\n",
    "\n",
    "'''\n",
    "n = 4\n",
    "char = ['a','b','c','d','e','f']\n",
    "for i in range(1,n+1):\n",
    "    for j in range(n-i):\n",
    "        print(end=\" \")\n",
    "    for k in char[:i]:\n",
    "        print(k, end = \" \")\n",
    "    print()\n",
    "    \n"
   ]
  },
  {
   "cell_type": "code",
   "execution_count": 24,
   "id": "a49287f5",
   "metadata": {},
   "outputs": [
    {
     "name": "stdout",
     "output_type": "stream",
     "text": [
      "['a']\n",
      "a\n",
      "['a', 'b']\n",
      "ab\n",
      "['a', 'b', 'c']\n",
      "abc\n",
      "['a', 'b', 'c', 'd']\n",
      "abcd\n",
      "['a', 'b', 'c', 'd', 'e']\n",
      "abcde\n"
     ]
    }
   ],
   "source": [
    "'''\n",
    "write a program to print the below pattern.\n",
    "a \n",
    "ab\n",
    "abc\n",
    "abcd\n",
    "abcde\n",
    "'''\n",
    "\n",
    "n = 5\n",
    "char = ['a','b','c','d','e','f']\n",
    "for i in range(1,n+1):\n",
    "    for k in char[:i]: #char[:i]=['a'], ['a','b']\n",
    "        print(k, end='') # a, ab ,abc\n",
    "    print()"
   ]
  },
  {
   "cell_type": "code",
   "execution_count": 23,
   "id": "a2bb20c8",
   "metadata": {},
   "outputs": [
    {
     "name": "stdout",
     "output_type": "stream",
     "text": [
      "a\n",
      "b\n"
     ]
    }
   ],
   "source": [
    "for i in ['a','b']:\n",
    "    print(i)"
   ]
  },
  {
   "cell_type": "code",
   "execution_count": 25,
   "id": "ed17b906",
   "metadata": {},
   "outputs": [
    {
     "ename": "IndentationError",
     "evalue": "expected an indented block (1457552191.py, line 3)",
     "output_type": "error",
     "traceback": [
      "\u001b[0;36m  File \u001b[0;32m\"/var/folders/ym/4gb57q5n5gn5kfxbrrhr785m0000gn/T/ipykernel_62842/1457552191.py\"\u001b[0;36m, line \u001b[0;32m3\u001b[0m\n\u001b[0;31m    def innerFun(c, d):\u001b[0m\n\u001b[0m    ^\u001b[0m\n\u001b[0;31mIndentationError\u001b[0m\u001b[0;31m:\u001b[0m expected an indented block\n"
     ]
    }
   ],
   "source": [
    "def outerFun(a, b):\n",
    "\n",
    "def innerFun(c, d):\n",
    "\n",
    "return c + d # return 5+10\n",
    "\n",
    "return innerFun(a, b) # retunr innerFun(5,10) return 15\n",
    "\n",
    "return a\n",
    "\n",
    "\n",
    "\n",
    "result = outerFun(5, 10) #result = 15\n",
    "\n",
    "print(result)"
   ]
  },
  {
   "cell_type": "code",
   "execution_count": 28,
   "id": "6db77b04",
   "metadata": {},
   "outputs": [
    {
     "data": {
      "text/plain": [
       "{(1, 2): 'value'}"
      ]
     },
     "execution_count": 28,
     "metadata": {},
     "output_type": "execute_result"
    }
   ],
   "source": [
    "{(1,2):\"value\"}"
   ]
  },
  {
   "cell_type": "code",
   "execution_count": 32,
   "id": "5f2be438",
   "metadata": {},
   "outputs": [
    {
     "ename": "TypeError",
     "evalue": "test() missing 1 required positional argument: 'c'",
     "output_type": "error",
     "traceback": [
      "\u001b[0;31m---------------------------------------------------------------------------\u001b[0m",
      "\u001b[0;31mTypeError\u001b[0m                                 Traceback (most recent call last)",
      "\u001b[0;32m/var/folders/ym/4gb57q5n5gn5kfxbrrhr785m0000gn/T/ipykernel_62842/3723041466.py\u001b[0m in \u001b[0;36m<module>\u001b[0;34m\u001b[0m\n\u001b[1;32m      2\u001b[0m \u001b[0;32mdef\u001b[0m \u001b[0mtest\u001b[0m\u001b[0;34m(\u001b[0m\u001b[0ma\u001b[0m\u001b[0;34m,\u001b[0m\u001b[0mb\u001b[0m\u001b[0;34m,\u001b[0m\u001b[0mc\u001b[0m\u001b[0;34m)\u001b[0m\u001b[0;34m:\u001b[0m\u001b[0;34m\u001b[0m\u001b[0;34m\u001b[0m\u001b[0m\n\u001b[1;32m      3\u001b[0m     \u001b[0mprint\u001b[0m\u001b[0;34m(\u001b[0m\u001b[0mb\u001b[0m\u001b[0;34m)\u001b[0m\u001b[0;34m\u001b[0m\u001b[0;34m\u001b[0m\u001b[0m\n\u001b[0;32m----> 4\u001b[0;31m \u001b[0mtest\u001b[0m\u001b[0;34m(\u001b[0m\u001b[0;34m*\u001b[0m\u001b[0mtuple\u001b[0m\u001b[0;34m(\u001b[0m\u001b[0mgiven_string\u001b[0m\u001b[0;34m.\u001b[0m\u001b[0msplit\u001b[0m\u001b[0;34m(\u001b[0m\u001b[0;34m' '\u001b[0m\u001b[0;34m)\u001b[0m\u001b[0;34m)\u001b[0m\u001b[0;34m)\u001b[0m \u001b[0;31m#test(*('apple','mango',''))\u001b[0m\u001b[0;34m\u001b[0m\u001b[0;34m\u001b[0m\u001b[0m\n\u001b[0m\u001b[1;32m      5\u001b[0m \u001b[0;31m#test(*('apple','mango','banana')) test('apple','mango','banana')\u001b[0m\u001b[0;34m\u001b[0m\u001b[0;34m\u001b[0m\u001b[0m\n",
      "\u001b[0;31mTypeError\u001b[0m: test() missing 1 required positional argument: 'c'"
     ]
    }
   ],
   "source": [
    "given_string = \"apple mango\"\n",
    "def test(a,b,c):\n",
    "    print(b)\n",
    "    \n",
    "    \n",
    "def test(*a):\n",
    "    pass\n",
    "\n",
    "test(1,2,3) = test((1,2,3))\n",
    "\n",
    "def test2(a,b,c):\n",
    "    pass\n",
    "\n",
    "test2((1,2,3)) = test(1,2,3)\n",
    "    \n",
    "test(*tuple(given_string.split(' '))) #test(*('apple','mango',''))\n",
    "#test(*('apple','mango','banana')) test('apple','mango','banana')\n"
   ]
  }
 ],
 "metadata": {
  "kernelspec": {
   "display_name": "Python 3 (ipykernel)",
   "language": "python",
   "name": "python3"
  },
  "language_info": {
   "codemirror_mode": {
    "name": "ipython",
    "version": 3
   },
   "file_extension": ".py",
   "mimetype": "text/x-python",
   "name": "python",
   "nbconvert_exporter": "python",
   "pygments_lexer": "ipython3",
   "version": "3.9.7"
  }
 },
 "nbformat": 4,
 "nbformat_minor": 5
}
