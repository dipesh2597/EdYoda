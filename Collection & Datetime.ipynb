{
 "cells": [
  {
   "cell_type": "code",
   "execution_count": 15,
   "id": "b42ff34f",
   "metadata": {},
   "outputs": [
    {
     "name": "stdout",
     "output_type": "stream",
     "text": [
      "<class 'collections.deque'>\n",
      "deque([1, 2, 3, 4, 5])\n",
      "Append element in deque\n",
      "deque([1, 2, 3, 4, 5, 6])\n",
      "Append element in deque on left side\n",
      "deque([0, 1, 2, 3, 4, 5, 6])\n",
      "Pop element from deque\n",
      "deque([0, 1, 2, 3, 4, 5]) poped element:  6\n",
      "pop element from deque from left side\n",
      "deque([1, 2, 3, 4, 5]) poped element:  0\n"
     ]
    }
   ],
   "source": [
    "#Deque = Special type of list which has special methods for appending and removal\n",
    "from collections import deque\n",
    "\n",
    "# How to create deque object\n",
    "deq_obj = deque([1,2,3,4,5])\n",
    "print(type(deq_obj))\n",
    "print(deq_obj)\n",
    "\n",
    "# append \n",
    "print(\"Append element in deque\")\n",
    "deq_obj.append(6)\n",
    "print(deq_obj)\n",
    "\n",
    "#append left side\n",
    "print(\"Append element in deque on left side\")\n",
    "deq_obj.appendleft(0)\n",
    "print(deq_obj)\n",
    "\n",
    "# pop \n",
    "print(\"Pop element from deque\")\n",
    "last_elem_of_deq_obj=deq_obj.pop()\n",
    "print(deq_obj, \"poped element: \",last_elem_of_deq_obj)\n",
    "\n",
    "# pop from left side\n",
    "print(\"pop element from deque from left side\")\n",
    "first_elem_of_deq_obj=deq_obj.popleft()\n",
    "print(deq_obj, \"poped element: \",first_elem_of_deq_obj)\n"
   ]
  },
  {
   "cell_type": "code",
   "execution_count": 27,
   "id": "897994da",
   "metadata": {},
   "outputs": [
    {
     "name": "stdout",
     "output_type": "stream",
     "text": [
      "{1: 4, 2: 6, 3: 8, 5: 6, 4: 3, 6: 4}\n",
      "Counter({3: 8, 2: 6, 5: 6, 1: 4, 6: 4, 4: 3})\n",
      "Counter On Tuple:  Counter({2: 4, 3: 3, 1: 2, 4: 2})\n"
     ]
    }
   ],
   "source": [
    "# Counter\n",
    "\n",
    "sample_data = [1,2,1,3,5,2,4,5,3,3,6,6,5,3,2,1,4,5,3,2,3,5,6,3,2,1,4,6,5,3,2]\n",
    "#output = {1:3,2:4,3:1}\n",
    "output={}\n",
    "\n",
    "for elem in sample_data:\n",
    "    if elem in output:\n",
    "        output[elem] += 1\n",
    "    else:\n",
    "        output[elem] = 1 #output = {1:1} => {1:1,2:1} => {1:2,2:1}\n",
    "        \n",
    "print(output)\n",
    "\n",
    "from collections import Counter\n",
    "output_result = Counter(sample_data)\n",
    "print(output_result)\n",
    "print(\"Counter On Tuple: \",Counter((1,2,1,3,2,4,3,2,4,2,3)))"
   ]
  },
  {
   "cell_type": "code",
   "execution_count": 38,
   "id": "6640bf6d",
   "metadata": {},
   "outputs": [
    {
     "name": "stdout",
     "output_type": "stream",
     "text": [
      "OrderedDict([('a', 1), ('b', 2), ('c', 3), ('d', 4)])\n",
      "deleting key a\n",
      "OrderedDict([('b', 2), ('c', 3), ('d', 4)])\n",
      "adding a again\n",
      "OrderedDict([('b', 2), ('c', 3), ('d', 4), ('a', 1)])\n",
      "key:  b value:  2\n",
      "key:  c value:  3\n",
      "key:  d value:  4\n",
      "key:  a value:  1\n"
     ]
    }
   ],
   "source": [
    "#OrderDict\n",
    "from collections import OrderedDict\n",
    "# syntax of creating OrderedDict object\n",
    "simple_dict = OrderedDict()\n",
    "\n",
    "#simple dict after 3.6 or later version dictionary is by default ordered\n",
    "# simple_dict = {}\n",
    "simple_dict['a']=1\n",
    "simple_dict['b']=2\n",
    "simple_dict['c']=3\n",
    "simple_dict['d']=4\n",
    "print(simple_dict)\n",
    "\n",
    "print(\"deleting key a\")\n",
    "simple_dict.pop('a')\n",
    "print(simple_dict)\n",
    "print(\"adding a again\")\n",
    "simple_dict['a']=1\n",
    "print(simple_dict)\n",
    "\n",
    "for key in simple_dict:\n",
    "    print(\"key: \",key,\"value: \",simple_dict[key])"
   ]
  },
  {
   "cell_type": "code",
   "execution_count": 55,
   "id": "de317bdb",
   "metadata": {},
   "outputs": [
    {
     "name": "stdout",
     "output_type": "stream",
     "text": [
      "ChainMap({'e': 5, 'a': 10}, {'c': 2, 'd': 3}, {'a': 1, 'b': 2})\n",
      "value of key a:  10\n",
      "adding a new child into chainmap object\n",
      "ChainMap({'g': 23, 'h': 45}, {'e': 5, 'a': 10}, {'c': 2, 'd': 3}, {'a': 1, 'b': 2})\n",
      "a\n",
      "b\n",
      "c\n",
      "d\n",
      "e\n",
      "ChainMap({'e': 5, 'a': 10}, {'c': 2, 'd': 3, 'x': 10}, {'a': 1, 'b': 2})\n"
     ]
    }
   ],
   "source": [
    "#ChainMap = Encapsulate multiple dictinaries inside a list\n",
    "# [{'a':1,'b':2},{'c':2,'d':3},{'e':5}]\n",
    "\n",
    "from collections import ChainMap\n",
    "\n",
    "d1 = {'a':1,'b':2}\n",
    "d2 = {'c':2,'d':3}\n",
    "d3 = {'e':5,'a':10}\n",
    "\n",
    "\n",
    "\n",
    "chainmap_obj = ChainMap(d3,d2,d1) # {'a':1,'b':2,'c':2,'d':3,'e':5}\n",
    "print(chainmap_obj)\n",
    "\n",
    "#accessing the element\n",
    "print(\"value of key a: \",chainmap_obj['a'])\n",
    "\n",
    "#adding a new dictionary into chainmap\n",
    "d4 = {'g':23,'h':45}\n",
    "print(\"adding a new child into chainmap object\")\n",
    "chainmap_obj_2=chainmap_obj.new_child(d4)\n",
    "print(chainmap_obj_2)\n",
    "\n",
    "for i in chainmap_obj:\n",
    "    print(i)\n",
    "\n",
    "#adding key in one of dict\n",
    "d2['x']=10\n",
    "chainmap_obj = ChainMap(d3,d2,d1)\n",
    "print(chainmap_obj)"
   ]
  },
  {
   "cell_type": "code",
   "execution_count": 79,
   "id": "4f152ee2",
   "metadata": {},
   "outputs": [
    {
     "name": "stdout",
     "output_type": "stream",
     "text": [
      "2021-12-18 20:36:02.296893\n",
      "2021-12-18\n",
      "20:36:02.297290\n",
      "2021-12-10 19:30:00 <class 'datetime.datetime'>\n",
      "Today dt obj:  2021-12-18 20:36:02.297585 <class 'datetime.datetime'>\n",
      "Today str obj:  2021-12-18 20:36:02 <class 'str'>\n",
      "2020-12-10 15:30:20\n"
     ]
    }
   ],
   "source": [
    "#date time\n",
    "\n",
    "from datetime import datetime\n",
    "\n",
    "print(datetime.now())\n",
    "print(datetime.now().date())\n",
    "print(datetime.now().time())\n",
    "\n",
    "string = '2021-12-10 19:30:00'\n",
    "\n",
    "# for more formats of strptime refer this python document link --> https://docs.python.org/3/library/datetime.html#strftime-and-strptime-behavior\n",
    "dt_obj = datetime.strptime(string, \"%Y-%m-%d %H:%M:%S\")\n",
    "print(dt_obj, type(dt_obj))\n",
    "\n",
    "today_dt_obj = datetime.today()\n",
    "print(\"Today dt obj: \",today_dt_obj, type(today_dt_obj))\n",
    "\n",
    "today_str_obj = today_dt_obj.strftime(\"%Y-%m-%d %H:%M:%S\")\n",
    "print(\"Today str obj: \",today_str_obj, type(today_str_obj))\n",
    "\n",
    "#datetime(year,month,date,hour,min,sec)\n",
    "manual_dt_obj = datetime(2020,12,10,15,30,20)\n",
    "print(manual_dt_obj)\n"
   ]
  }
 ],
 "metadata": {
  "kernelspec": {
   "display_name": "Python 3 (ipykernel)",
   "language": "python",
   "name": "python3"
  },
  "language_info": {
   "codemirror_mode": {
    "name": "ipython",
    "version": 3
   },
   "file_extension": ".py",
   "mimetype": "text/x-python",
   "name": "python",
   "nbconvert_exporter": "python",
   "pygments_lexer": "ipython3",
   "version": "3.9.7"
  }
 },
 "nbformat": 4,
 "nbformat_minor": 5
}
