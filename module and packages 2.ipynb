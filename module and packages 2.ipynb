{
 "cells": [
  {
   "cell_type": "code",
   "execution_count": 2,
   "id": "9ede571d",
   "metadata": {
    "scrolled": true
   },
   "outputs": [
    {
     "name": "stdout",
     "output_type": "stream",
     "text": [
      "Happy\n",
      "Hello  Dipesh !!!\n"
     ]
    }
   ],
   "source": [
    "from module import a, print_name\n",
    "print(a)\n",
    "print_name(\"Dipesh\")"
   ]
  },
  {
   "cell_type": "code",
   "execution_count": 4,
   "id": "6f252a0c",
   "metadata": {},
   "outputs": [
    {
     "name": "stdout",
     "output_type": "stream",
     "text": [
      "Happy\n",
      "happy b\n"
     ]
    }
   ],
   "source": [
    "import module\n",
    "print(module.a)\n",
    "print(module.b)"
   ]
  },
  {
   "cell_type": "code",
   "execution_count": 2,
   "id": "41f4af51",
   "metadata": {},
   "outputs": [
    {
     "name": "stdout",
     "output_type": "stream",
     "text": [
      "test\n"
     ]
    }
   ],
   "source": [
    "from module import test\n",
    "test()"
   ]
  },
  {
   "cell_type": "code",
   "execution_count": 1,
   "id": "668b22bd",
   "metadata": {},
   "outputs": [
    {
     "name": "stdout",
     "output_type": "stream",
     "text": [
      "module 1\n",
      "53333.333333333336\n",
      "module 1 test\n",
      "test\n",
      "going into module 2\n",
      "module 2\n",
      "module 2 test\n",
      "test\n"
     ]
    }
   ],
   "source": [
    "from my_package.emi_calculator_module import emi_calc1, test_funct1\n",
    "from my_package.emi_calculator_module2 import emi_calc2, test_funct2\n",
    "print(emi_calc1(480000,9))\n",
    "test_funct1()\n",
    "print(\"going into module 2\")\n",
    "emi_calc2(54000,4)\n",
    "test_funct2()"
   ]
  },
  {
   "cell_type": "code",
   "execution_count": 9,
   "id": "823926b6",
   "metadata": {},
   "outputs": [],
   "source": [
    "from my_package.emi_calculator_module import emi_calc1\n",
    "a = 'happy\""
   ]
  },
  {
   "cell_type": "code",
   "execution_count": 13,
   "id": "890d2057",
   "metadata": {},
   "outputs": [
    {
     "name": "stdout",
     "output_type": "stream",
     "text": [
      "-1 range(0, -1)\n",
      "-1 -2\n"
     ]
    }
   ],
   "source": [
    "'''\n",
    "Write a python program to find second highest in the given list of integers.\n",
    "\n",
    "input = [1,54,12,56,89,32,100] = sort(input) = [1,12,32,54,56,89,100] = answer: input[-2]\n",
    "output = 89\n",
    "\n",
    "Instruction you can not any built-in function.\n",
    "'''\n",
    "\n",
    "\"\"\"\n",
    "Approaches: \n",
    "1. Sort the list ascending order print second last element using -2 index\n",
    "2. Find highest element then remove the highest from the list and find highest again.\n",
    "3. Find second highest directly without sorting or removing any elelment\n",
    "\"\"\" \n",
    "my_list = [3,1,7,2,8,5]\n",
    "\n",
    "# highest_number = my_list[0]\n",
    "# second_highest_number = my_list[0]\n",
    "\n",
    "# for i in my_list:\n",
    "#     if i > highest_number:\n",
    "#         second_highest_number = highest_number\n",
    "#         highest_number = i\n",
    "#     if second_highest_number < i and i != highest_number:\n",
    "#         second_highest_number = i\n",
    "    \n",
    "# print(highest_number, second_highest_number)\n",
    "\n",
    "# my_list.sort()\n",
    "# my_list[-2]\n",
    "\n",
    "\n",
    "a=[-1,-2,-3]\n",
    "\n",
    "b=max(a[0],a[1])\n",
    "c=min(a[0],a[1])\n",
    "\n",
    "for i in a:\n",
    "    if i>b:\n",
    "        b=i\n",
    "       \n",
    "for i in a:\n",
    "    if i==b:\n",
    "        continue\n",
    "    if i>c :\n",
    "        c=i\n",
    "print(b,c)"
   ]
  }
 ],
 "metadata": {
  "kernelspec": {
   "display_name": "Python 3 (ipykernel)",
   "language": "python",
   "name": "python3"
  },
  "language_info": {
   "codemirror_mode": {
    "name": "ipython",
    "version": 3
   },
   "file_extension": ".py",
   "mimetype": "text/x-python",
   "name": "python",
   "nbconvert_exporter": "python",
   "pygments_lexer": "ipython3",
   "version": "3.9.7"
  }
 },
 "nbformat": 4,
 "nbformat_minor": 5
}
