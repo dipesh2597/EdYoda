{
 "cells": [
  {
   "cell_type": "code",
   "execution_count": 24,
   "id": "f973fedd",
   "metadata": {},
   "outputs": [
    {
     "name": "stdout",
     "output_type": "stream",
     "text": [
      "you are not eligible beacuse of salary\n",
      "A\n"
     ]
    }
   ],
   "source": [
    "'''\n",
    "1. only if condition\n",
    "if (condition):\n",
    "    code line1\n",
    "    code line2\n",
    "\n",
    "2. if-else\n",
    "if (condition):\n",
    "    code line1\n",
    "    code line2\n",
    "else:\n",
    "    code line1\n",
    "codeline2\n",
    "    \n",
    "3. if elif\n",
    "if (condition):\n",
    "    code line1\n",
    "    code line2\n",
    "elif (condition): #elif (condition):\n",
    "    code line1\n",
    "else:\n",
    "    code\n",
    "    \n",
    "4 nested if else statement:\n",
    "if condition1:\n",
    "    if condition2:\n",
    "        if condition3:\n",
    "            if condition4:\n",
    "                some code\n",
    "        code line 1\n",
    "    else:\n",
    "        condition1 is true but condition 2 is not met/false\n",
    "elif condition2:\n",
    "    condition1 is not met but condition2 is true/met\n",
    "else:\n",
    "    condition1 is not met but condition2 is not true/met\n",
    "        \n",
    "    \n",
    "''' \n",
    "age = 22\n",
    "salary = 20000\n",
    "\n",
    "if age>=18:\n",
    "    if salary>=25000:\n",
    "        print(\"you are eligible for cc\")\n",
    "    else:\n",
    "        print(\"you are not eligible beacuse of salary\")\n",
    "elif salary>=25000:\n",
    "    print(\"your age is not met but salary is eligible\")\n",
    "else:\n",
    "    print(\"your age and salary are not met\")\n",
    "    \n",
    "#check multiple conditions in one statement:\n",
    "# if conditon1 and condition2:\n",
    "#     print(\"All condition are true\")\n",
    "    \n",
    "# if condition1 or condition2:\n",
    "#     print(\"any one/all codition met\")\n",
    "    \n",
    "grade = 90\n",
    "if grade>=90:\n",
    "    print(\"A\")\n",
    "elif grade>=80 and grade<=90:\n",
    "    print(\"B\")\n",
    "else:\n",
    "    print(\"Failed\")"
   ]
  },
  {
   "cell_type": "code",
   "execution_count": 48,
   "id": "f8590d75",
   "metadata": {},
   "outputs": [
    {
     "name": "stdout",
     "output_type": "stream",
     "text": [
      "6\n"
     ]
    }
   ],
   "source": [
    "'''\n",
    "For loop:\n",
    "for iterator in iterator_value/interable objects/sequence: [1,2,3,4,5], (1,2,3,4,5), 'string', range(1,5)=[1,2,3,4]\n",
    "    if else statement or if elif else\n",
    "    code line 1\n",
    "    code line 2\n",
    "    \n",
    "for student in class:\n",
    "    write name in notebook\n",
    "    \n",
    "for i in list:\n",
    "    pass\n",
    "'''\n",
    "\n",
    "# for iterator in [1,2,3,4,5,6,7,8,9,10]:\n",
    "#     print(iterator)\n",
    "#     print(iterator+1+2)\n",
    "#     print(\"done with addition\")\n",
    "    \n",
    "# for i in \"KAPIL\":\n",
    "#     print(i+\"Edyoda\")\n",
    "# 'str1'+'str2'='str1str2'\n",
    "\n",
    "stair_count = 0\n",
    "stairs = ['stair1','stair1','stair1','stair1','stair1','stair1']\n",
    "for stair in stairs:\n",
    "    stair_count = stair_count + 1\n",
    "print(stair)\n",
    "\n",
    "# for i in str(1000):\n",
    "#     print(i)"
   ]
  },
  {
   "cell_type": "code",
   "execution_count": 50,
   "id": "a18c2508",
   "metadata": {},
   "outputs": [
    {
     "name": "stdout",
     "output_type": "stream",
     "text": [
      "{'key1': 'value1', 'key2': 'value2'}\n"
     ]
    }
   ],
   "source": [
    "dict= {\"key1\":\"value1\", \"key2\":\"value2\"}\n",
    "print(dict)"
   ]
  }
 ],
 "metadata": {
  "kernelspec": {
   "display_name": "Python 3 (ipykernel)",
   "language": "python",
   "name": "python3"
  },
  "language_info": {
   "codemirror_mode": {
    "name": "ipython",
    "version": 3
   },
   "file_extension": ".py",
   "mimetype": "text/x-python",
   "name": "python",
   "nbconvert_exporter": "python",
   "pygments_lexer": "ipython3",
   "version": "3.9.7"
  }
 },
 "nbformat": 4,
 "nbformat_minor": 5
}
