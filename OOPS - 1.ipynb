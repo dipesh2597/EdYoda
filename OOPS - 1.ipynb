{
 "cells": [
  {
   "cell_type": "code",
   "execution_count": 4,
   "id": "40305f57",
   "metadata": {},
   "outputs": [
    {
     "name": "stdout",
     "output_type": "stream",
     "text": [
      "My class\n",
      "My class\n",
      "My class\n"
     ]
    }
   ],
   "source": [
    "\"\"\"\n",
    "class syntax\n",
    "\n",
    "class MyClass:\n",
    "    pass\n",
    "\"\"\"\n",
    "class MyClass():\n",
    "    \n",
    "    def print_class_name(self):\n",
    "        print(\"My class\")\n",
    "\n",
    "\n",
    "# how can we create a object\n",
    "my_object1 = MyClass()\n",
    "my_object2 = MyClass()\n",
    "my_object3 = MyClass()\n",
    "# print(my_object1)\n",
    "\n",
    "my_object1.print_class_name()\n"
   ]
  },
  {
   "cell_type": "code",
   "execution_count": 6,
   "id": "40c94109",
   "metadata": {},
   "outputs": [
    {
     "name": "stdout",
     "output_type": "stream",
     "text": [
      "sound of dog\n",
      "Bhow-bhow\n",
      "sound of cat\n",
      "meow-meow\n"
     ]
    }
   ],
   "source": [
    "class Dog():\n",
    "    \n",
    "    def tell_sound(self):\n",
    "        print(\"Bhow-bhow\")\n",
    "        \n",
    "class Cat():\n",
    "    \n",
    "    def tell_sound(self):\n",
    "        print(\"meow-meow\")\n",
    "\n",
    "\n",
    "# how can we create a object\n",
    "my_dog = Dog()\n",
    "print(\"sound of dog\")\n",
    "my_dog.tell_sound()\n",
    "\n",
    "my_cat = Cat()\n",
    "print(\"sound of cat\")\n",
    "my_cat.tell_sound()\n",
    "\n"
   ]
  },
  {
   "cell_type": "code",
   "execution_count": 7,
   "id": "521ad22d",
   "metadata": {},
   "outputs": [],
   "source": [
    "my_str = 'string'\n",
    "my_str.replace(\"i\", \"j\")"
   ]
  },
  {
   "cell_type": "code",
   "execution_count": 24,
   "id": "74931a88",
   "metadata": {},
   "outputs": [
    {
     "name": "stdout",
     "output_type": "stream",
     "text": [
      "creating the attribute\n",
      "init called and name is  sathyam\n",
      "sathyam\n"
     ]
    }
   ],
   "source": [
    "class myclass():\n",
    "    def __init__(self,name):\n",
    "        print(\"creating the attribute\")\n",
    "        self.name = name\n",
    "        print(\"init called and name is \",name)\n",
    "        \n",
    "obj = myclass('sathyam')\n",
    "print(obj.name)"
   ]
  },
  {
   "cell_type": "code",
   "execution_count": 14,
   "id": "8addbe3b",
   "metadata": {},
   "outputs": [
    {
     "name": "stdout",
     "output_type": "stream",
     "text": [
      "Type of species of dog1:  Dog Breed of dog1:  germen-shaped\n",
      "Type of species of dog2:  Dog Breed of dog2:  labradoure\n"
     ]
    }
   ],
   "source": [
    "'''\n",
    "Atrributes:\n",
    "    1. Class attribute\n",
    "    2. Instance attribute\n",
    "'''\n",
    "\n",
    "class Dog():\n",
    "    # Class attribute \n",
    "    type_of_species = 'Dog'\n",
    "    \n",
    "    #instance attribute\n",
    "    def __init__(self, breed, name):\n",
    "        self.breed = breed\n",
    "        self.name = name\n",
    "        \n",
    "    def tell_sound(self):\n",
    "        print(\"Bhow-bhow\")\n",
    "        \n",
    "# instance or you can say dog1 is instance of Dog class        \n",
    "dog1 = Dog('germen-shaped','jimmy')\n",
    "dog2 = Dog('labradoure','tuffy')\n",
    "print(\"Type of species of dog1: \",dog1.type_of_species, \"Breed of dog1: \",dog1.breed)\n",
    "print(\"Type of species of dog2: \",dog2.type_of_species, \"Breed of dog2: \",dog2.breed)\n",
    "\n",
    "# How to import class from another file/module\n",
    "# from dog_module import Dog\n",
    "# Dog()\n",
    "# import dog_module\n",
    "# dog_module.Dog().tell_sound()"
   ]
  },
  {
   "cell_type": "code",
   "execution_count": 48,
   "id": "5645a245",
   "metadata": {},
   "outputs": [
    {
     "name": "stdout",
     "output_type": "stream",
     "text": [
      "salary\n",
      "salary\n"
     ]
    }
   ],
   "source": [
    "'''\n",
    "create a class employee\n",
    "employee should have name,age,salary attributes\n",
    "employee should have tell_salary method\n",
    "employee should have hike_salary method: \n",
    "    if salary is greater than 15000 and age is less then 40 we will increase 25% salary\n",
    "    else if age is greater than 40 we will increase 20%\n",
    "    else if salary in less than 15000 we will increase 15%\n",
    "\n",
    "get the salary after hike_salary\n",
    "\n",
    "input: 'abc', 25, 16000\n",
    "output: 20000\n",
    "'''\n",
    "\n",
    "class employee:\n",
    "    \n",
    "    def __init__(self,name,age,salary):\n",
    "        self.name=name\n",
    "        self.age=age\n",
    "        self.salary=salary\n",
    "    @staticmethod\n",
    "    def tell_salary():\n",
    "        return 'salary'\n",
    "        \n",
    "    def hike_salary(self):\n",
    "        if self.salary>15000 and self.age< 40:\n",
    "            sal = (self.salary*25)/100\n",
    "        elif self.age>40:\n",
    "            sal =(self.salary*20)/100\n",
    "        else:\n",
    "            sal =(self.salary*10)/100\n",
    "        self.salary = sal + self.salary\n",
    "        return self.salary\n",
    "            \n",
    "obj1 = employee('dipesh',60,160000)\n",
    "before_hike_salary = obj1.tell_salary()\n",
    "print(before_hike_salary)\n",
    "obj1.hike_salary()\n",
    "after_hike_salary = obj1.tell_salary()\n",
    "print(after_hike_salary)"
   ]
  }
 ],
 "metadata": {
  "kernelspec": {
   "display_name": "Python 3 (ipykernel)",
   "language": "python",
   "name": "python3"
  },
  "language_info": {
   "codemirror_mode": {
    "name": "ipython",
    "version": 3
   },
   "file_extension": ".py",
   "mimetype": "text/x-python",
   "name": "python",
   "nbconvert_exporter": "python",
   "pygments_lexer": "ipython3",
   "version": "3.9.7"
  }
 },
 "nbformat": 4,
 "nbformat_minor": 5
}
