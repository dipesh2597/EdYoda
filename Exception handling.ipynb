{
 "cells": [
  {
   "cell_type": "markdown",
   "id": "435ced33",
   "metadata": {},
   "source": [
    "test_case_1\n",
    "test_case_2\n",
    "test_method_1\n",
    "test_method_2\n",
    "\n",
    "give me all methods which test_case in their name?\n",
    "    test_case_1\n",
    "    test_case_2\n",
    "\n",
    "give me all methods which test_method in their name?\n",
    "    test_method_1\n",
    "    test_method_2\n",
    "    \n",
    "py.test -k test_case"
   ]
  },
  {
   "cell_type": "code",
   "execution_count": 9,
   "id": "a4293660",
   "metadata": {},
   "outputs": [
    {
     "name": "stdout",
     "output_type": "stream",
     "text": [
      "Divinding 5 by  1\n",
      "5.0\n",
      "Diving succeed\n",
      "Divinding 5 by  5\n",
      "1.0\n",
      "Diving succeed\n",
      "Divinding 5 by  0\n",
      "Exception is :  division by zero\n",
      "Error while diving 5 by  0\n",
      "Divinding 5 by  10\n",
      "0.5\n",
      "Diving succeed\n",
      "Divinding 5 by  11\n",
      "0.45454545454545453\n",
      "Diving succeed\n"
     ]
    },
    {
     "data": {
      "text/plain": [
       "'\\nname | batch_id\\nabc  | DS031221\\nbcd  | DS031221\\ndef  | DS031222\\nfgh  | DS031221\\n'"
      ]
     },
     "execution_count": 9,
     "metadata": {},
     "output_type": "execute_result"
    }
   ],
   "source": [
    "\n",
    "\"\"\"\n",
    "Error handling\n",
    "try:\n",
    "    #code\n",
    "except:\n",
    "    #code\n",
    "    \n",
    "error handling with exception also\n",
    "try:\n",
    "    #code\n",
    "except Exception as e:\n",
    "    #code\n",
    "    # here e is the exception \n",
    "\n",
    "\"\"\"\n",
    "\n",
    "numbers = [1,5,0,10,11]\n",
    "\n",
    "\n",
    "#exception will occur when diving by 0\n",
    "for i in numbers:\n",
    "    try:\n",
    "        print(\"Divinding 5 by \",i)\n",
    "        print(5/i)\n",
    "        print(\"Diving succeed\")\n",
    "    except Exception as e:\n",
    "        print(\"Exception is : \",e)\n",
    "        print(\"Error while diving 5 by \",i)\n",
    "    \n",
    "\n",
    "\"\"\"\n",
    "name | batch_id\n",
    "abc  | DS031221\n",
    "bcd  | DS031221\n",
    "def  | DS031222\n",
    "fgh  | DS031221\n",
    "\"\"\""
   ]
  },
  {
   "cell_type": "code",
   "execution_count": null,
   "id": "bc735586",
   "metadata": {},
   "outputs": [],
   "source": [
    "# just for understading it won't get execute because find functions are not implemented\n",
    "find_user_by_username\n",
    "find_user_by_email\n",
    "\n",
    "def user_exist(username_or_email):\n",
    "    try:\n",
    "        user_exist = find_user_by_username(username)\n",
    "    except:\n",
    "        user_exist = find_user_by_email(email)\n",
    "    return user_exist\n",
    "    \n",
    "user_exist('dipeshsharma2507')\n",
    "user_exist('dipesh@edyoda.com')\n"
   ]
  },
  {
   "cell_type": "code",
   "execution_count": 25,
   "id": "15213118",
   "metadata": {},
   "outputs": [
    {
     "name": "stdout",
     "output_type": "stream",
     "text": [
      "python - 1\n",
      "python - 2\n",
      "python - 3\n"
     ]
    }
   ],
   "source": [
    "# Generators: same as function and it will give iterable object but we use yield instead of return\n",
    "\n",
    "def generate_first_five_positive_integers():\n",
    "#     yield 1\n",
    "#     yield 2\n",
    "#     yield 3\n",
    "#     yield 4\n",
    "#     yield 5\n",
    "#     yield 6\n",
    "    \n",
    "    for i in range(1,6):\n",
    "        yield f\"python - {i}\"\n",
    "        \n",
    "    \n",
    "    \n",
    "first_five_integers = generate_first_five_positive_integers() #= [1,2,3,4,5]\n",
    "print(first_five_integers.__next__())\n",
    "print(first_five_integers.__next__())\n",
    "print(first_five_integers.__next__())\n",
    "\n",
    "# for i in first_five_integers:\n",
    "#     print(i)\n"
   ]
  }
 ],
 "metadata": {
  "kernelspec": {
   "display_name": "Python 3 (ipykernel)",
   "language": "python",
   "name": "python3"
  },
  "language_info": {
   "codemirror_mode": {
    "name": "ipython",
    "version": 3
   },
   "file_extension": ".py",
   "mimetype": "text/x-python",
   "name": "python",
   "nbconvert_exporter": "python",
   "pygments_lexer": "ipython3",
   "version": "3.9.7"
  }
 },
 "nbformat": 4,
 "nbformat_minor": 5
}
