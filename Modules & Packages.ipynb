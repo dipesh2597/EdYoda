{
 "cells": [
  {
   "cell_type": "code",
   "execution_count": 6,
   "id": "4a3799df",
   "metadata": {},
   "outputs": [
    {
     "name": "stdout",
     "output_type": "stream",
     "text": [
      "8.0\n"
     ]
    }
   ],
   "source": [
    "# from math import pow\n",
    "def pow(num1,num2):\n",
    "    return float(num1**num2)\n",
    "\n",
    "print(pow(2,3))"
   ]
  },
  {
   "cell_type": "code",
   "execution_count": 14,
   "id": "1da32d16",
   "metadata": {},
   "outputs": [
    {
     "ename": "AttributeError",
     "evalue": "module 'emi_calculator' has no attribute 'module_name'",
     "output_type": "error",
     "traceback": [
      "\u001b[0;31m---------------------------------------------------------------------------\u001b[0m",
      "\u001b[0;31mAttributeError\u001b[0m                            Traceback (most recent call last)",
      "\u001b[0;32m/var/folders/ym/4gb57q5n5gn5kfxbrrhr785m0000gn/T/ipykernel_30709/4175255384.py\u001b[0m in \u001b[0;36m<module>\u001b[0;34m\u001b[0m\n\u001b[1;32m      1\u001b[0m \u001b[0;32mimport\u001b[0m \u001b[0memi_calculator\u001b[0m\u001b[0;34m\u001b[0m\u001b[0;34m\u001b[0m\u001b[0m\n\u001b[1;32m      2\u001b[0m \u001b[0;34m\u001b[0m\u001b[0m\n\u001b[0;32m----> 3\u001b[0;31m \u001b[0memi_calculator\u001b[0m\u001b[0;34m.\u001b[0m\u001b[0mmodule_name\u001b[0m\u001b[0;34m\u001b[0m\u001b[0;34m\u001b[0m\u001b[0m\n\u001b[0m",
      "\u001b[0;31mAttributeError\u001b[0m: module 'emi_calculator' has no attribute 'module_name'"
     ]
    }
   ],
   "source": [
    "#directly import module\n",
    "import emi_calculator\n",
    "#then use method/variable\n",
    "emi_calculator.module_name\n",
    "\n",
    "#import method or varibale from module\n",
    "from emi_calculator import emi_calc, module_name\n",
    "print(emi_calc(48000,12))\n",
    "print(module_name)\n",
    "\n",
    "#import everything \n",
    "from emi_calculator import *\n",
    "\n"
   ]
  },
  {
   "cell_type": "code",
   "execution_count": null,
   "id": "bb000864",
   "metadata": {},
   "outputs": [],
   "source": [
    "#directly import module\n",
    "import package_name.module_name\n",
    "#then use method/variable\n",
    "emi_calculator.module_name\n",
    "\n",
    "#import method or varibale from module\n",
    "from package_name.module_name import emi_calc, module_name\n",
    "print(emi_calc(48000,12))\n",
    "print(module_name)\n",
    "\n",
    "#import everything \n",
    "from package_name.module_name import *"
   ]
  },
  {
   "cell_type": "code",
   "execution_count": null,
   "id": "645be6dd",
   "metadata": {},
   "outputs": [],
   "source": [
    "'''\n",
    "HomeWork:\n",
    "    1. Create a package inside that create a module and another package\n",
    "    2. Inside inner package create another module\n",
    "    3. Write a fucntion => just print(package name > module name)\n",
    "'''"
   ]
  }
 ],
 "metadata": {
  "kernelspec": {
   "display_name": "Python 3 (ipykernel)",
   "language": "python",
   "name": "python3"
  },
  "language_info": {
   "codemirror_mode": {
    "name": "ipython",
    "version": 3
   },
   "file_extension": ".py",
   "mimetype": "text/x-python",
   "name": "python",
   "nbconvert_exporter": "python",
   "pygments_lexer": "ipython3",
   "version": "3.9.7"
  }
 },
 "nbformat": 4,
 "nbformat_minor": 5
}
