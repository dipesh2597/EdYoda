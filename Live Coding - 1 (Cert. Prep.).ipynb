{
 "cells": [
  {
   "cell_type": "code",
   "execution_count": 1,
   "id": "caf40c66",
   "metadata": {},
   "outputs": [
    {
     "name": "stdout",
     "output_type": "stream",
     "text": [
      "{'r', 'a', 'k', 'H', 'e', 'c'}\n"
     ]
    }
   ],
   "source": [
    "s = set(\"Hacker\")\n",
    "print(s)"
   ]
  },
  {
   "cell_type": "markdown",
   "id": "a954d9b5",
   "metadata": {},
   "source": [
    "1. input = [['first','grade'],['second','grade2'],['third','grade3'],['fourth','grade2']]\n",
    "    create a student list = [name,grade]\n",
    "    append in main list\n",
    "2. find the minimun\n",
    "3. remove the min\n",
    "4. find the min of list\n",
    "5. print the names\n",
    "\n"
   ]
  },
  {
   "cell_type": "code",
   "execution_count": 32,
   "id": "473fa480",
   "metadata": {},
   "outputs": [
    {
     "name": "stdout",
     "output_type": "stream",
     "text": [
      "originale list: [['a', 60], ['abc', 45], ['bcd', 45], ['b', 35], ['c', 35], ['c', 45], ['d', 80]] soretd lsit:  [['a', 60], ['abc', 45], ['b', 35], ['bcd', 45], ['c', 35], ['c', 45], ['d', 80]]\n",
      "35\n",
      "[['b', 35], ['c', 35], ['abc', 45], ['bcd', 45], ['c', 45], ['a', 60], ['d', 80]]\n"
     ]
    }
   ],
   "source": [
    "lis = [['a',60],['abc',45],['bcd',45],['b',35],['c',45],['d',80]]\n",
    "l2=sorted(lis)\n",
    "print('originale list:', lis, 'soretd lsit: ',l2)\n",
    "# print(lis.min())\n",
    "def sort_score(inner_lis):\n",
    "    return inner_lis[1]\n",
    "\n",
    "h=sorted(lis, key=sort_score)\n",
    "lowest_score_student_details = h[0]\n",
    "lowest_score = lowest_score_student_details[1]\n",
    "print(lowest_score)\n",
    "\n",
    "print(h)"
   ]
  },
  {
   "cell_type": "code",
   "execution_count": 47,
   "id": "e35f41f9",
   "metadata": {},
   "outputs": [
    {
     "name": "stdout",
     "output_type": "stream",
     "text": [
      "[35, 45, 60, 80]\n",
      "45\n",
      "acd\n",
      "bbc\n",
      "c\n"
     ]
    }
   ],
   "source": [
    "lis = [['a',60],['bbc',45],['acd',45],['b',35],['c',35],['c',45],['d',80]]\n",
    "scores = set()\n",
    "for student in lis:\n",
    "    student_score=student[1]\n",
    "    scores.add(student_score)\n",
    "    \n",
    "sorted_scores = sorted(scores)\n",
    "print(sorted_scores)\n",
    "second_lowest_score = sorted_scores[1]\n",
    "print(second_lowest_score)\n",
    "names=[]\n",
    "\n",
    "for name,score in lis:\n",
    "    if score == second_lowest_score:\n",
    "        names.append(name)\n",
    "names.sort()\n",
    "for name in names:\n",
    "    print(name)"
   ]
  },
  {
   "cell_type": "code",
   "execution_count": 48,
   "id": "d7108800",
   "metadata": {},
   "outputs": [
    {
     "name": "stdout",
     "output_type": "stream",
     "text": [
      "None\n"
     ]
    }
   ],
   "source": [
    "def count(string, sub_str):\n",
    "    # logic\n",
    "    # iterat the string you got charachter \n",
    "#     if it maches with first caharacetr of sub string\n",
    "# keep matching this till it is getting mathced\n",
    "# match completed for substring increase the count\n",
    "# else pass\n",
    "    return\n",
    "\n",
    "str='abcdcdc'\n",
    "\n",
    "sub_str='cdc'\n",
    "\n",
    "for i in str:\n",
    "    if i+2more char matching with sub:\n",
    "        increase count\n",
    "    else:\n",
    "        pass\n",
    "        \n",
    "\n",
    "print(count('abcdkjfcnadlkjdfsa','adfa'))"
   ]
  },
  {
   "cell_type": "code",
   "execution_count": 49,
   "id": "97cf61da",
   "metadata": {},
   "outputs": [
    {
     "name": "stdout",
     "output_type": "stream",
     "text": [
      "False\n"
     ]
    }
   ],
   "source": [
    "a=(1,2,3)\n",
    "b=(1,2,3)\n",
    "print(a is b)"
   ]
  }
 ],
 "metadata": {
  "kernelspec": {
   "display_name": "Python 3 (ipykernel)",
   "language": "python",
   "name": "python3"
  },
  "language_info": {
   "codemirror_mode": {
    "name": "ipython",
    "version": 3
   },
   "file_extension": ".py",
   "mimetype": "text/x-python",
   "name": "python",
   "nbconvert_exporter": "python",
   "pygments_lexer": "ipython3",
   "version": "3.9.7"
  }
 },
 "nbformat": 4,
 "nbformat_minor": 5
}
