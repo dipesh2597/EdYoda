{
 "cells": [
  {
   "cell_type": "code",
   "execution_count": 19,
   "id": "4550cf83",
   "metadata": {},
   "outputs": [
    {
     "name": "stdout",
     "output_type": "stream",
     "text": [
      "your password is invalid length_check:  True digit_check:  True lower_check:  True upper_check:  False special_char_check:  True\n"
     ]
    }
   ],
   "source": [
    "'''\n",
    "Write a Python program to check a string represent an integer or not.\n",
    "'''\n",
    "s = '2cdsvb'\n",
    "# print(s.isdigit())\n",
    "# check=False\n",
    "# for i in s:\n",
    "#     if i.isdigit():\n",
    "#         check=True\n",
    "        \n",
    "# print(check)\n",
    "\n",
    "'''\n",
    "Write a Python program to check the validity of password input by users\n",
    "At least 1 letter between [a-z] and 1 letter between [A-Z].\n",
    "At least 1 number between [0-9].\n",
    "At least 1 character from [$#@].\n",
    "Minimum length 6 characters.\n",
    "Maximum length 16 characters.\n",
    "\n",
    "\n",
    "#Pseduo code\n",
    "1. Take input from user as password\n",
    "2. By default validaton=False\n",
    "3. iterate passsword\n",
    "4. Check above mentions contions for each element one by one.\n",
    "'''\n",
    "\n",
    "p= 'dipesh@1234'\n",
    "\n",
    "#1st method\n",
    "check={}\n",
    "\n",
    "#checking length\n",
    "if 6<len(p)<16:\n",
    "    check['length']=True\n",
    "    \n",
    "    \n",
    "for i in p:\n",
    "    if i.isdigit():\n",
    "        check['digit']=True\n",
    "    elif i.islower():\n",
    "        check['lower']=True\n",
    "    elif i.isupper():\n",
    "        check['upper']=True\n",
    "    elif i in ['$','#','@']:\n",
    "        check['special_char']=True\n",
    "\n",
    "\n",
    "# print(check)\n",
    "# if len(check)==5:\n",
    "#     print('your password is valid')\n",
    "# else:\n",
    "#     print('your password is invalid')\n",
    "    \n",
    "    \n",
    "#second method\n",
    "length_check = False\n",
    "digit_check = False\n",
    "lower_check = False\n",
    "upper_check = False\n",
    "special_char_check = False\n",
    "\n",
    "if 6<len(p)<16:\n",
    "    length_check = True\n",
    "    \n",
    "for i in p:\n",
    "    if i.isdigit():\n",
    "        digit_check=True\n",
    "    elif i.islower():\n",
    "        lower_check=True\n",
    "    elif i.isupper():\n",
    "        upper_check=True\n",
    "    elif i in ['$','#','@']:\n",
    "        special_char_check=True\n",
    "\n",
    "\n",
    "# print(check)\n",
    "if length_check and digit_check and lower_check and upper_check and special_char_check:\n",
    "    print('your password is valid')\n",
    "else:\n",
    "    print('your password is invalid', \"length_check: \",length_check, \"digit_check: \", digit_check, \"lower_check: \", lower_check, \"upper_check: \", upper_check, \"special_char_check: \",special_char_check)\n"
   ]
  },
  {
   "cell_type": "code",
   "execution_count": 27,
   "id": "5a379559",
   "metadata": {},
   "outputs": [
    {
     "name": "stdout",
     "output_type": "stream",
     "text": [
      "BHARAT\n",
      "False\n"
     ]
    }
   ],
   "source": [
    "'''\n",
    "Remove element from a tuple which does not follow the given codition.\n",
    "input = ('edyoda','Dipesh','Pranjul','BHARAT',)\n",
    "condition: Atleast one upper case letter and having exact 6 characters\n",
    "output: ('Dipesh','BHARAT')\n",
    "\n",
    "iterate the tuple:\n",
    "check if length is 6:\n",
    "    if yes then iterate element:\n",
    "        check if character is upper:\n",
    "            if yes: \n",
    "                add into output list\n",
    "covert output list into tuple \n",
    "print output tuple\n",
    "\n",
    "'''\n",
    "a=(\"eDyoda\",\"Dipesh\",\"Pranjul\",\"BHARAT\")\n",
    "aa=[]\n",
    "for i in a:\n",
    "    if len(i)==6:\n",
    "        for j in i:\n",
    "            if j.isupper() :\n",
    "                aa.append(i)\n",
    "                break\n",
    "print(aa)\n"
   ]
  },
  {
   "cell_type": "code",
   "execution_count": 31,
   "id": "eabe23b7",
   "metadata": {},
   "outputs": [
    {
     "name": "stdout",
     "output_type": "stream",
     "text": [
      "[1, 2, 'abc', 'cde']\n"
     ]
    }
   ],
   "source": [
    "'''\n",
    "Write a python program to remove the duplicates from given tuple\n",
    "input: (1,2,1,'abc','cde','abc')\n",
    "ouput: (1,2,'abc','cde')\n",
    "'''\n",
    "my_tuple=(1,2,1,\"abc\",\"cde\",\"abc\")\n",
    "list1=[]\n",
    "for i in my_tuple:\n",
    "    if i not in list1:\n",
    "        list1.append(i)\n",
    "print(str(list1))"
   ]
  }
 ],
 "metadata": {
  "kernelspec": {
   "display_name": "Python 3 (ipykernel)",
   "language": "python",
   "name": "python3"
  },
  "language_info": {
   "codemirror_mode": {
    "name": "ipython",
    "version": 3
   },
   "file_extension": ".py",
   "mimetype": "text/x-python",
   "name": "python",
   "nbconvert_exporter": "python",
   "pygments_lexer": "ipython3",
   "version": "3.9.7"
  }
 },
 "nbformat": 4,
 "nbformat_minor": 5
}
