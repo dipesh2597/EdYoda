{
 "cells": [
  {
   "cell_type": "code",
   "execution_count": 1,
   "id": "f9283959",
   "metadata": {},
   "outputs": [
    {
     "name": "stdout",
     "output_type": "stream",
     "text": [
      "12345\n"
     ]
    }
   ],
   "source": [
    "l = [1,2,3,4,5]\n",
    "result=''\n",
    "for i in l:\n",
    "    result+=str(i)\n",
    "\n",
    "print(result)"
   ]
  },
  {
   "cell_type": "code",
   "execution_count": 7,
   "id": "63906134",
   "metadata": {},
   "outputs": [
    {
     "name": "stdout",
     "output_type": "stream",
     "text": [
      "dipesh, edyoda, debashish, "
     ]
    }
   ],
   "source": [
    "class Test:\n",
    "    \n",
    "    def print_name(self,*names):\n",
    "        for name in names:\n",
    "            print(name,end=\", \")\n",
    "            \n",
    "t = Test()\n",
    "t.print_name('dipesh','edyoda', 'debashish')"
   ]
  },
  {
   "cell_type": "code",
   "execution_count": 8,
   "id": "2796cb4f",
   "metadata": {},
   "outputs": [
    {
     "ename": "SyntaxError",
     "evalue": "invalid syntax (1812018704.py, line 6)",
     "output_type": "error",
     "traceback": [
      "\u001b[0;36m  File \u001b[0;32m\"/var/folders/ym/4gb57q5n5gn5kfxbrrhr785m0000gn/T/ipykernel_16211/1812018704.py\"\u001b[0;36m, line \u001b[0;32m6\u001b[0m\n\u001b[0;31m    item = #logic for finding item from list by id\u001b[0m\n\u001b[0m           ^\u001b[0m\n\u001b[0;31mSyntaxError\u001b[0m\u001b[0;31m:\u001b[0m invalid syntax\n"
     ]
    }
   ],
   "source": [
    "foods=[]\n",
    "def add(self,name,quanty,price,stock):\n",
    "    item = {'id':len(self.foods)+1,'name':name}\n",
    "    self.foods.append(item)\n",
    "    \n",
    "def edit(self,id,**kwargs):\n",
    "    item = #logic for finding item from list by id\n",
    "    for key in kwargs:\n",
    "        item[key]=kwargs[key]\n",
    "        \n",
    "        \n",
    "item={'name':'oldname'}\n",
    "key='name'\n",
    "item[key]='new_name'\n",
    "\n",
    "#create res/admin object\n",
    "admin=Admin()      \n",
    "admin.edit(1,name='new_name')"
   ]
  },
  {
   "cell_type": "code",
   "execution_count": null,
   "id": "d405e173",
   "metadata": {},
   "outputs": [],
   "source": [
    "food item 1\n",
    "name: foodname\n",
    "price: price\n",
    "\n",
    "{'id':1,'name':'foodname'}"
   ]
  },
  {
   "cell_type": "code",
   "execution_count": null,
   "id": "c2f8ade8",
   "metadata": {},
   "outputs": [],
   "source": [
    "def signup(self):\n",
    "    user_data={}\n",
    "    name = input(\"Enter your name\")\n",
    "    user_data['name']=name\n",
    "    self.name = name\n",
    "    #take all required details\n",
    "    #store into data\n",
    "    self.user_details.append(user_data)"
   ]
  },
  {
   "cell_type": "code",
   "execution_count": 12,
   "id": "80efa653",
   "metadata": {},
   "outputs": [
    {
     "name": "stdout",
     "output_type": "stream",
     "text": [
      "1. tandoori chicken (4 pieces) [INR 320]\n",
      "2. tandoori roti (1 pieces) [INR 20]\n"
     ]
    }
   ],
   "source": [
    "foods=[{'name':'tandoori chicken','price':320,'qut':'4 pieces'},{'name':'tandoori roti','price':20,'qut':'1 pieces'}]\n",
    "for i in foods:\n",
    "    print(f\"{foods.index(i)+1}. {i['name']} ({i['qut']}) [INR {i['price']}]\")"
   ]
  },
  {
   "cell_type": "code",
   "execution_count": null,
   "id": "e5dcf1c7",
   "metadata": {},
   "outputs": [],
   "source": [
    "def login(self,username,passwrod):\n",
    "    #match username and passwrod\n",
    "    if correct:\n",
    "        user_option=input('The user will see 3 options:\\n1. Place New Order\\n2. Order History\\n3. Update Profile')\n",
    "        if user_option==1:\n",
    "            self.place_order()\n",
    "        elif user_option==2:\n",
    "            self.display_order_history()\n",
    "                \n",
    "        "
   ]
  }
 ],
 "metadata": {
  "kernelspec": {
   "display_name": "Python 3 (ipykernel)",
   "language": "python",
   "name": "python3"
  },
  "language_info": {
   "codemirror_mode": {
    "name": "ipython",
    "version": 3
   },
   "file_extension": ".py",
   "mimetype": "text/x-python",
   "name": "python",
   "nbconvert_exporter": "python",
   "pygments_lexer": "ipython3",
   "version": "3.9.7"
  }
 },
 "nbformat": 4,
 "nbformat_minor": 5
}
