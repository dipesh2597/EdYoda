{
 "cells": [
  {
   "cell_type": "code",
   "execution_count": null,
   "id": "cb3518ea",
   "metadata": {},
   "outputs": [],
   "source": [
    "'a'\n",
    "'a'\n",
    "'a'\n",
    "'a'\n",
    "\n",
    "'a\\n a\\n a\\n a\\n'"
   ]
  },
  {
   "cell_type": "code",
   "execution_count": 9,
   "id": "5bfcd50e",
   "metadata": {},
   "outputs": [
    {
     "name": "stdout",
     "output_type": "stream",
     "text": [
      "3 [3]\n"
     ]
    },
    {
     "data": {
      "text/plain": [
       "[1, 2, 3, 4, 5]"
      ]
     },
     "execution_count": 9,
     "metadata": {},
     "output_type": "execute_result"
    }
   ],
   "source": [
    "a = [1,2,3,4,5]\n",
    "print(a[2], a[2:3])\n",
    "a"
   ]
  },
  {
   "cell_type": "code",
   "execution_count": 3,
   "id": "05be61c1",
   "metadata": {},
   "outputs": [
    {
     "name": "stdout",
     "output_type": "stream",
     "text": [
      "[(2, 1), (1, 2), (2, 3), (4, 4), (2, 5)]\n"
     ]
    }
   ],
   "source": [
    "# Write a Python program to get a list, sorted in increasing order by the last element in each tuple from a given list of non-empty tuples\n",
    "\n",
    "# Sample List : [(2, 5), (1, 2), (4, 4), (2, 3), (2, 1)]\n",
    "\n",
    "# Expected Result : [(2, 1), (1, 2), (2, 3), (4, 4), (2, 5)]\n",
    "my_list = [(2, 5), (1, 2), (4, 4), (2, 3), (2, 1)]\n",
    "for index in range(0,len(my_list)): \n",
    "    for next_index in range(index+1,len(my_list)):\n",
    "        if my_list[next_index][1] < my_list[index][1]:\n",
    "            my_list[index],my_list[next_index] = my_list[next_index],my_list[index] # my_list[index] = my_list[next_index]\n",
    "\n",
    "print(my_list)\n",
    "\n",
    "my_list = [(2, 5), (1, 2), (4, 4), (2, 3), (2, 1)]\n",
    "\n",
    "\n",
    "my_list1 = [(2, 5), (1, 2), (4, 4), (2, 3), (2, 1)]\n",
    "for index in range(0,len(my_list)): \n",
    "    for next_index in range(index+1,len(my_list)):\n",
    "        if my_list[next_index][1] < my_list[index][1]:\n",
    "            my_list[index],my_list[next_index] = my_list[next_index],my_list[index] # my_list[index] = my_list[next_index]\n",
    "\n",
    "\n",
    "my_list2 = [(2, 5), (1, 2), (4, 4), (2, 3), (2, 1)]\n",
    "for index in range(0,len(my_list)): \n",
    "    for next_index in range(index+1,len(my_list)):\n",
    "        if my_list[next_index][1] < my_list[index][1]:\n",
    "            my_list[index],my_list[next_index] = my_list[next_index],my_list[index] # my_list[index] = my_list[next_index]\n",
    "\n"
   ]
  },
  {
   "cell_type": "code",
   "execution_count": 27,
   "id": "9cbb6f06",
   "metadata": {},
   "outputs": [
    {
     "name": "stdout",
     "output_type": "stream",
     "text": [
      "I'm a function with Single object return type\n",
      "0\n"
     ]
    }
   ],
   "source": [
    "#functions\n",
    "'''\n",
    "def function_name():\n",
    "    print(\"I'm a function\")\n",
    "    return \"return statement\"\n",
    "'''\n",
    "def function_name():\n",
    "    print(\"I'm a function\")\n",
    "    \n",
    "# function_name()\n",
    "# a = function_name()\n",
    "# print(a)\n",
    "    \n",
    "def function_with_single_object_return():\n",
    "    print(\"I'm a function with Single object return type\")\n",
    "    name = \"Single object return type\"\n",
    "    return 0\n",
    "    print(\"after return\")\n",
    "   \n",
    "# function_with_single_object_return()\n",
    "# a = function_with_single_object_return()\n",
    "print(function_with_single_object_return())\n",
    "\n",
    "def function_with_single_object_return():\n",
    "    print(\"I'm a function with Single object return type\")\n",
    "    return \"first return object\",\"second return object\"\n",
    "\n",
    "# first,second = function_with_single_object_return()\n",
    "# print(first)\n",
    "# print(second)\n",
    "\n"
   ]
  },
  {
   "cell_type": "code",
   "execution_count": 38,
   "id": "ed30b9f4",
   "metadata": {},
   "outputs": [
    {
     "name": "stdout",
     "output_type": "stream",
     "text": [
      "global a:  10\n",
      "inside fucntion  a+ 10:  15\n",
      "outside the function a+ 10:  20\n",
      "inside\n"
     ]
    },
    {
     "ename": "NameError",
     "evalue": "name 'name_var' is not defined",
     "output_type": "error",
     "traceback": [
      "\u001b[0;31m---------------------------------------------------------------------------\u001b[0m",
      "\u001b[0;31mNameError\u001b[0m                                 Traceback (most recent call last)",
      "\u001b[0;32m/var/folders/ym/4gb57q5n5gn5kfxbrrhr785m0000gn/T/ipykernel_19524/4245384298.py\u001b[0m in \u001b[0;36m<module>\u001b[0;34m\u001b[0m\n\u001b[1;32m     26\u001b[0m     \u001b[0mprint\u001b[0m\u001b[0;34m(\u001b[0m\u001b[0mname_var\u001b[0m\u001b[0;34m)\u001b[0m\u001b[0;34m\u001b[0m\u001b[0;34m\u001b[0m\u001b[0m\n\u001b[1;32m     27\u001b[0m \u001b[0mname\u001b[0m\u001b[0;34m(\u001b[0m\u001b[0;34m)\u001b[0m\u001b[0;34m\u001b[0m\u001b[0;34m\u001b[0m\u001b[0m\n\u001b[0;32m---> 28\u001b[0;31m \u001b[0mprint\u001b[0m\u001b[0;34m(\u001b[0m\u001b[0mname_var\u001b[0m\u001b[0;34m)\u001b[0m\u001b[0;34m\u001b[0m\u001b[0;34m\u001b[0m\u001b[0m\n\u001b[0m",
      "\u001b[0;31mNameError\u001b[0m: name 'name_var' is not defined"
     ]
    }
   ],
   "source": [
    "#namesapce = dir()\n",
    "\n",
    "a = 10\n",
    "print(\"global a: \",a)\n",
    "\n",
    "def func1():\n",
    "    a = 5\n",
    "    print(\"inside fucntion  a+ 10: \", a+10)\n",
    "func1()    \n",
    "\n",
    "print(\"outside the function a+ 10: \", a+10)\n",
    "\n",
    "# def outer():\n",
    "#     print(\"Outer\")\n",
    "\n",
    "#     def inner():\n",
    "#         print(\"Inner\")\n",
    "#     inner()\n",
    "\n",
    "        \n",
    "# outer()\n",
    "\n",
    "def name():\n",
    "    name_var = 'inside'\n",
    "    print(name_var)\n",
    "    \n",
    "name()\n",
    "print(name_var)"
   ]
  },
  {
   "cell_type": "code",
   "execution_count": 5,
   "id": "2174820e",
   "metadata": {},
   "outputs": [
    {
     "name": "stdout",
     "output_type": "stream",
     "text": [
      "['ArithmeticError', 'AssertionError', 'AttributeError', 'BaseException', 'BlockingIOError', 'BrokenPipeError', 'BufferError', 'BytesWarning', 'ChildProcessError', 'ConnectionAbortedError', 'ConnectionError', 'ConnectionRefusedError', 'ConnectionResetError', 'DeprecationWarning', 'EOFError', 'Ellipsis', 'EnvironmentError', 'Exception', 'False', 'FileExistsError', 'FileNotFoundError', 'FloatingPointError', 'FutureWarning', 'GeneratorExit', 'IOError', 'ImportError', 'ImportWarning', 'IndentationError', 'IndexError', 'InterruptedError', 'IsADirectoryError', 'KeyError', 'KeyboardInterrupt', 'LookupError', 'MemoryError', 'ModuleNotFoundError', 'NameError', 'None', 'NotADirectoryError', 'NotImplemented', 'NotImplementedError', 'OSError', 'OverflowError', 'PendingDeprecationWarning', 'PermissionError', 'ProcessLookupError', 'RecursionError', 'ReferenceError', 'ResourceWarning', 'RuntimeError', 'RuntimeWarning', 'StopAsyncIteration', 'StopIteration', 'SyntaxError', 'SyntaxWarning', 'SystemError', 'SystemExit', 'TabError', 'TimeoutError', 'True', 'TypeError', 'UnboundLocalError', 'UnicodeDecodeError', 'UnicodeEncodeError', 'UnicodeError', 'UnicodeTranslateError', 'UnicodeWarning', 'UserWarning', 'ValueError', 'Warning', 'ZeroDivisionError', '__IPYTHON__', '__build_class__', '__debug__', '__doc__', '__import__', '__loader__', '__name__', '__package__', '__spec__', 'abs', 'all', 'any', 'ascii', 'bin', 'bool', 'breakpoint', 'bytearray', 'bytes', 'callable', 'chr', 'classmethod', 'compile', 'complex', 'copyright', 'credits', 'delattr', 'dict', 'dir', 'display', 'divmod', 'enumerate', 'eval', 'exec', 'execfile', 'filter', 'float', 'format', 'frozenset', 'get_ipython', 'getattr', 'globals', 'hasattr', 'hash', 'help', 'hex', 'id', 'input', 'int', 'isinstance', 'issubclass', 'iter', 'len', 'license', 'list', 'locals', 'map', 'max', 'memoryview', 'min', 'next', 'object', 'oct', 'open', 'ord', 'pow', 'print', 'property', 'range', 'repr', 'reversed', 'round', 'runfile', 'set', 'setattr', 'slice', 'sorted', 'staticmethod', 'str', 'sum', 'super', 'tuple', 'type', 'vars', 'zip']\n"
     ]
    }
   ],
   "source": [
    "print(dir(__builtin__))\n",
    "global_var = 'name'\n",
    "def func1():\n",
    "    global name_var\n",
    "    name_var = 'inside'\n",
    "\n",
    "func1() \n"
   ]
  },
  {
   "cell_type": "code",
   "execution_count": 19,
   "id": "5cb9ccbf",
   "metadata": {
    "scrolled": true
   },
   "outputs": [
    {
     "name": "stdout",
     "output_type": "stream",
     "text": [
      "10\n",
      "10\n",
      "[1, 2, 3]\n"
     ]
    }
   ],
   "source": [
    "def function_with_argument():\n",
    "    argument = [1,2,3]\n",
    "    return argument\n",
    "a=function_with_argument()\n",
    "print(a)\n",
    "\n",
    "\n",
    "\n",
    "def function_with_argument(argument):\n",
    "    return argument\n",
    "a=function_with_argument('abced')\n",
    "print(a)\n",
    "\n",
    "\n"
   ]
  },
  {
   "cell_type": "code",
   "execution_count": 24,
   "id": "dfda39c5",
   "metadata": {},
   "outputs": [
    {
     "ename": "TypeError",
     "evalue": "sort_list_manually() takes 1 positional argument but 2 were given",
     "output_type": "error",
     "traceback": [
      "\u001b[0;31m---------------------------------------------------------------------------\u001b[0m",
      "\u001b[0;31mTypeError\u001b[0m                                 Traceback (most recent call last)",
      "\u001b[0;32m/var/folders/ym/4gb57q5n5gn5kfxbrrhr785m0000gn/T/ipykernel_19828/3926769685.py\u001b[0m in \u001b[0;36m<module>\u001b[0;34m\u001b[0m\n\u001b[1;32m      6\u001b[0m     \u001b[0;32mreturn\u001b[0m \u001b[0mmy_list\u001b[0m\u001b[0;34m\u001b[0m\u001b[0;34m\u001b[0m\u001b[0m\n\u001b[1;32m      7\u001b[0m \u001b[0;34m\u001b[0m\u001b[0m\n\u001b[0;32m----> 8\u001b[0;31m \u001b[0msorted_list\u001b[0m\u001b[0;34m=\u001b[0m\u001b[0msort_list_manually\u001b[0m\u001b[0;34m(\u001b[0m\u001b[0;34m[\u001b[0m\u001b[0;34m(\u001b[0m\u001b[0;36m1\u001b[0m\u001b[0;34m,\u001b[0m\u001b[0;36m4\u001b[0m\u001b[0;34m)\u001b[0m\u001b[0;34m,\u001b[0m\u001b[0;34m(\u001b[0m\u001b[0;36m2\u001b[0m\u001b[0;34m,\u001b[0m\u001b[0;36m2\u001b[0m\u001b[0;34m)\u001b[0m\u001b[0;34m]\u001b[0m\u001b[0;34m,\u001b[0m\u001b[0;34m'second'\u001b[0m\u001b[0;34m)\u001b[0m\u001b[0;34m\u001b[0m\u001b[0;34m\u001b[0m\u001b[0m\n\u001b[0m\u001b[1;32m      9\u001b[0m \u001b[0mprint\u001b[0m\u001b[0;34m(\u001b[0m\u001b[0msorted_list\u001b[0m\u001b[0;34m)\u001b[0m\u001b[0;34m\u001b[0m\u001b[0;34m\u001b[0m\u001b[0m\n\u001b[1;32m     10\u001b[0m \u001b[0;34m\u001b[0m\u001b[0m\n",
      "\u001b[0;31mTypeError\u001b[0m: sort_list_manually() takes 1 positional argument but 2 were given"
     ]
    }
   ],
   "source": [
    "def sort_list_manually(my_list):\n",
    "    for index in range(0,len(my_list)): \n",
    "        for next_index in range(index+1,len(my_list)):\n",
    "            if my_list[next_index][1] < my_list[index][1]:\n",
    "                my_list[index],my_list[next_index] = my_list[next_index],my_list[index] # my_list[index] = my_list[next_index]\n",
    "    return my_list\n",
    "\n",
    "sorted_list=sort_list_manually([(1,4),(2,2)])\n",
    "print(sorted_list)\n",
    "\n"
   ]
  },
  {
   "cell_type": "code",
   "execution_count": 30,
   "id": "aed1addc",
   "metadata": {},
   "outputs": [
    {
     "name": "stdout",
     "output_type": "stream",
     "text": [
      "3\n",
      "10\n"
     ]
    }
   ],
   "source": [
    "def add_two_num(num1,num2):\n",
    "    sum = num1+num2\n",
    "    return sum\n",
    "\n",
    "sum_of_two=add_two_num(1,2)\n",
    "print(sum_of_two)\n",
    "\n",
    "def add_multiple_numbers(*numbers):\n",
    "    sum=0\n",
    "    for i in numbers:\n",
    "        sum+=i\n",
    "    return sum\n",
    "\n",
    "numbers = (1,2,3)\n",
    "sum_of_multiple=add_multiple_numbers(1,2,2,5)\n",
    "print(sum_of_multiple)"
   ]
  },
  {
   "cell_type": "code",
   "execution_count": 39,
   "id": "319c16df",
   "metadata": {},
   "outputs": [
    {
     "name": "stdout",
     "output_type": "stream",
     "text": [
      "{'name': 'edyoda', 'age': 25, 'father_name': 'Edyoda parent'}\n"
     ]
    }
   ],
   "source": [
    "def func1(**resume):\n",
    "    print(resume)\n",
    "    \n",
    "func1(name='edyoda',age=25,father_name='Edyoda parent')"
   ]
  },
  {
   "cell_type": "code",
   "execution_count": 46,
   "id": "e41ebda3",
   "metadata": {},
   "outputs": [
    {
     "name": "stdout",
     "output_type": "stream",
     "text": [
      "4000.0\n"
     ]
    }
   ],
   "source": [
    "def emi_calc(price, tenure=12):\n",
    "    emi = price/tenure\n",
    "    return emi\n",
    "\n",
    "emi=emi_calc(48000,6)\n",
    "print(emi)"
   ]
  },
  {
   "cell_type": "code",
   "execution_count": 47,
   "id": "b32839e0",
   "metadata": {},
   "outputs": [
    {
     "name": "stdout",
     "output_type": "stream",
     "text": [
      "8000.0\n"
     ]
    }
   ],
   "source": [
    "def emi_calc(price,tenure=12):\n",
    "    emi = price/tenure\n",
    "    return emi\n",
    "\n",
    "emi = emi_calc(48000,6)\n",
    "print(emi)\n",
    "\n"
   ]
  },
  {
   "cell_type": "code",
   "execution_count": 51,
   "id": "3e79727d",
   "metadata": {},
   "outputs": [
    {
     "name": "stdout",
     "output_type": "stream",
     "text": [
      "['ArithmeticError', 'AssertionError', 'AttributeError', 'BaseException', 'BlockingIOError', 'BrokenPipeError', 'BufferError', 'BytesWarning', 'ChildProcessError', 'ConnectionAbortedError', 'ConnectionError', 'ConnectionRefusedError', 'ConnectionResetError', 'DeprecationWarning', 'EOFError', 'Ellipsis', 'EnvironmentError', 'Exception', 'False', 'FileExistsError', 'FileNotFoundError', 'FloatingPointError', 'FutureWarning', 'GeneratorExit', 'IOError', 'ImportError', 'ImportWarning', 'IndentationError', 'IndexError', 'InterruptedError', 'IsADirectoryError', 'KeyError', 'KeyboardInterrupt', 'LookupError', 'MemoryError', 'ModuleNotFoundError', 'NameError', 'None', 'NotADirectoryError', 'NotImplemented', 'NotImplementedError', 'OSError', 'OverflowError', 'PendingDeprecationWarning', 'PermissionError', 'ProcessLookupError', 'RecursionError', 'ReferenceError', 'ResourceWarning', 'RuntimeError', 'RuntimeWarning', 'StopAsyncIteration', 'StopIteration', 'SyntaxError', 'SyntaxWarning', 'SystemError', 'SystemExit', 'TabError', 'TimeoutError', 'True', 'TypeError', 'UnboundLocalError', 'UnicodeDecodeError', 'UnicodeEncodeError', 'UnicodeError', 'UnicodeTranslateError', 'UnicodeWarning', 'UserWarning', 'ValueError', 'Warning', 'ZeroDivisionError', '__IPYTHON__', '__build_class__', '__debug__', '__doc__', '__import__', '__loader__', '__name__', '__package__', '__spec__', 'abs', 'all', 'any', 'ascii', 'bin', 'bool', 'breakpoint', 'bytearray', 'bytes', 'callable', 'chr', 'classmethod', 'compile', 'complex', 'copyright', 'credits', 'delattr', 'dict', 'dir', 'display', 'divmod', 'enumerate', 'eval', 'exec', 'execfile', 'filter', 'float', 'format', 'frozenset', 'get_ipython', 'getattr', 'globals', 'hasattr', 'hash', 'help', 'hex', 'id', 'input', 'int', 'isinstance', 'issubclass', 'iter', 'len', 'license', 'list', 'locals', 'map', 'max', 'memoryview', 'min', 'next', 'object', 'oct', 'open', 'ord', 'pow', 'print', 'property', 'range', 'repr', 'reversed', 'round', 'runfile', 'set', 'setattr', 'slice', 'sorted', 'staticmethod', 'str', 'sum', 'super', 'tuple', 'type', 'vars', 'zip']\n"
     ]
    }
   ],
   "source": [
    "print(dir(__builtins__))"
   ]
  }
 ],
 "metadata": {
  "kernelspec": {
   "display_name": "Python 3 (ipykernel)",
   "language": "python",
   "name": "python3"
  },
  "language_info": {
   "codemirror_mode": {
    "name": "ipython",
    "version": 3
   },
   "file_extension": ".py",
   "mimetype": "text/x-python",
   "name": "python",
   "nbconvert_exporter": "python",
   "pygments_lexer": "ipython3",
   "version": "3.9.7"
  }
 },
 "nbformat": 4,
 "nbformat_minor": 5
}
