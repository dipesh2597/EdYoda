{
 "cells": [
  {
   "cell_type": "code",
   "execution_count": null,
   "id": "407195d0",
   "metadata": {},
   "outputs": [],
   "source": [
    "lis = []\n",
    "dictionary = {'key':'value'}\n",
    "\n",
    "result = [{'key':'value'},{'key2':'value2'}]\n",
    "\n",
    "def dict_into_list(data):\n",
    "    dict = {'key':data}\n",
    "    lis.append(dict)\n",
    "    \n",
    "#take by default input as lower or upper\n",
    "name = input(\"enter your name\").lower() or .upper()\n",
    "name = name.lower() or .upper()\n"
   ]
  },
  {
   "cell_type": "code",
   "execution_count": null,
   "id": "023370f8",
   "metadata": {},
   "outputs": [],
   "source": [
    "'''\n",
    "Important Topics: Revise all topics and practice as many problem as you can\n",
    "1. String\n",
    "2. List\n",
    "3. Dictionary\n",
    "4. List comprehension\n",
    "5. Functions\n",
    "6. Class and object (Highest priority for building projects)\n",
    "7. Exception Handling\n",
    "8. File handling\n",
    "9. Generators\n",
    "10. Lambda, map, filter\n",
    "'''"
   ]
  }
 ],
 "metadata": {
  "kernelspec": {
   "display_name": "Python 3 (ipykernel)",
   "language": "python",
   "name": "python3"
  },
  "language_info": {
   "codemirror_mode": {
    "name": "ipython",
    "version": 3
   },
   "file_extension": ".py",
   "mimetype": "text/x-python",
   "name": "python",
   "nbconvert_exporter": "python",
   "pygments_lexer": "ipython3",
   "version": "3.9.7"
  }
 },
 "nbformat": 4,
 "nbformat_minor": 5
}
