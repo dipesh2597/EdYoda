{
 "cells": [
  {
   "cell_type": "code",
   "execution_count": 26,
   "id": "d57a211e",
   "metadata": {},
   "outputs": [
    {
     "name": "stdout",
     "output_type": "stream",
     "text": [
      "singup succeed\n",
      "logged in\n",
      "Username and password is incorrect\n",
      "Username and password is incorrect\n",
      "Top-up successfull\n",
      "wallet amount:  500\n",
      "recharge:  Insufficient wallet amount please top-up first\n",
      "recharge:  recharge successfull\n",
      "wallet amount after recharge:  100\n"
     ]
    }
   ],
   "source": [
    "class paytm():\n",
    "    \n",
    "#     users={} # users = {'username1':'password1','username2':'password2'}\n",
    "#     users_wallet = {}\n",
    "    \n",
    "    def __init__(self,wallet_amount=0):\n",
    "        self.wallet_amount = wallet_amount\n",
    "        \n",
    "    \n",
    "    def signup(self,username,password):\n",
    "#         self.users[username]=password\n",
    "#         self.users_wallet[username]=0\n",
    "        self.username = username\n",
    "        self.password = password\n",
    "        return \"singup succeed\"\n",
    "    \n",
    "    def login(self,username,password):\n",
    "#         if username in self.users:\n",
    "#             if self.users[username] == password:\n",
    "#                 return \"logged in\"\n",
    "#             else:\n",
    "#                 return \"Username and password is incorrect\"\n",
    "#         else:\n",
    "#             return \"User not found\"\n",
    "        if self.username == username and self.password==password:\n",
    "            return \"logged in\"\n",
    "        else:\n",
    "            return \"Username and password is incorrect\"\n",
    "        \n",
    "    def topup(self,amount):\n",
    "#         if user in self.users:\n",
    "#             self.users_wallet[user]+=amount\n",
    "#             return \"Top-up successfull\"\n",
    "#         else:\n",
    "#             return \"User not found\"\n",
    "        self.wallet_amount+=amount\n",
    "        return \"Top-up successfull\"\n",
    "        \n",
    "    def recharge(self,recharge_amount):\n",
    "        if recharge_amount <= self.wallet_amount:\n",
    "            self.wallet_amount-=recharge_amount\n",
    "            return \"recharge successfull\"\n",
    "        else:\n",
    "            return \"Insufficient wallet amount please top-up first\"\n",
    "        \n",
    "        \n",
    "user1 = paytm()\n",
    "print(user1.signup('dipesh','dipeshpass'))\n",
    "print(user1.login('dipesh','dipeshpass'))\n",
    "print(user1.login('dipesh','dipeshpas'))\n",
    "print(user1.login('d','dipeshpas'))\n",
    "\n",
    "print(user1.topup(500))\n",
    "print(\"wallet amount: \",user1.wallet_amount)\n",
    "print(\"recharge: \",user1.recharge(600))\n",
    "print(\"recharge: \",user1.recharge(400))\n",
    "print(\"wallet amount after recharge: \",user1.wallet_amount)\n"
   ]
  }
 ],
 "metadata": {
  "kernelspec": {
   "display_name": "Python 3 (ipykernel)",
   "language": "python",
   "name": "python3"
  },
  "language_info": {
   "codemirror_mode": {
    "name": "ipython",
    "version": 3
   },
   "file_extension": ".py",
   "mimetype": "text/x-python",
   "name": "python",
   "nbconvert_exporter": "python",
   "pygments_lexer": "ipython3",
   "version": "3.9.7"
  }
 },
 "nbformat": 4,
 "nbformat_minor": 5
}
