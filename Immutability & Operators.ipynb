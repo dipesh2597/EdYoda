{
 "cells": [
  {
   "cell_type": "code",
   "execution_count": null,
   "id": "7e442cb7",
   "metadata": {},
   "outputs": [],
   "source": [
    "# a=10\n",
    "# print(id(a))\n",
    "# a=11\n",
    "# print(id(a))\n",
    "\n",
    "# name = 'dipesh'\n",
    "# print(id(name))\n",
    "# name='edyoda'\n",
    "# print(id(name))\n",
    "# a=1\n",
    "# my_list = [1,2,3,'edyoda','python']\n",
    "# my_list[0]=[10,11,12]\n",
    "# print(id(my_list[0]))\n",
    "# print(my_list[0])\n",
    "# my_list[0][1]=21\n",
    "# print(id(my_list[0]))\n",
    "\n",
    "# my_tuple = (1,2,3)\n",
    "# print(id(my_tuple))\n",
    "# my_tuple = list(my_tuple)\n",
    "# print(id(my_tuple))\n",
    "# my_tuple = tuple(my_tuple)\n",
    "# print(id(my_tuple))\n",
    "\n",
    "# my_tuple=(1,2,3)\n",
    "# print(id(my_tuple))\n",
    "# my_tuple=list(my_tuple)\n",
    "# my_tuple[0]=10\n",
    "# print(id(my_tuple))\n",
    "\n",
    "my_dict = {'key':'value1'}\n",
    "print(id(my_dict))\n",
    "my_dict['key']='value2'\n",
    "print(id(my_dict))\n"
   ]
  },
  {
   "cell_type": "code",
   "execution_count": 19,
   "id": "50529965",
   "metadata": {},
   "outputs": [
    {
     "name": "stdout",
     "output_type": "stream",
     "text": [
      "2\n"
     ]
    }
   ],
   "source": [
    "# Arithmetic operator\n",
    "# print(1+2)\n",
    "# print(1-2)\n",
    "# print(1*2)\n",
    "# print(1/2)\n",
    "# print(17//3)\n",
    "# print(0.5)\n",
    "# print(int(7.5))\n",
    "# print(2**4) #2^3= 2^4=2*2*2*2\n",
    "print(17%3)\n",
    "\n",
    "# 17/3 = quotient = 5 , remainder = 2"
   ]
  },
  {
   "cell_type": "code",
   "execution_count": 28,
   "id": "ff0a4a61",
   "metadata": {},
   "outputs": [
    {
     "name": "stdout",
     "output_type": "stream",
     "text": [
      "True\n"
     ]
    }
   ],
   "source": [
    "# Logical operator\n",
    "# and, or, not\n",
    "# and = All objects are true => True \n",
    "#       Any object is false => False\n",
    "\n",
    "# or = Any object is true => True\n",
    "#      All objects are False => False\n",
    "\n",
    "#not = it will make opposite the value True <=> False\n",
    "a = True\n",
    "b = False\n",
    "c = True\n",
    "d = True\n",
    "e = False\n",
    "# print(a and c)\n",
    "# print(a and b)\n",
    "# print(a and c and d)\n",
    "# # a and c => True\n",
    "# # True and d => True\n",
    "# print(a or b)\n",
    "# print(a or d)\n",
    "# print(b or e)\n",
    "print(not b)"
   ]
  },
  {
   "cell_type": "code",
   "execution_count": 29,
   "id": "36d54c17",
   "metadata": {
    "scrolled": true
   },
   "outputs": [
    {
     "name": "stdout",
     "output_type": "stream",
     "text": [
      "True\n"
     ]
    },
    {
     "name": "stderr",
     "output_type": "stream",
     "text": [
      "<>:6: SyntaxWarning: \"is\" with a literal. Did you mean \"==\"?\n",
      "<>:6: SyntaxWarning: \"is\" with a literal. Did you mean \"==\"?\n",
      "/var/folders/ym/4gb57q5n5gn5kfxbrrhr785m0000gn/T/ipykernel_13112/4178303301.py:6: SyntaxWarning: \"is\" with a literal. Did you mean \"==\"?\n",
      "  print(human is 'boy')\n"
     ]
    }
   ],
   "source": [
    "#Identity \n",
    "# human is boy = True or False\n",
    "# human is not boy = True or False\n",
    "\n",
    "human = 'boy'\n",
    "print(human is 'boy')\n"
   ]
  },
  {
   "cell_type": "code",
   "execution_count": 41,
   "id": "737fb910",
   "metadata": {},
   "outputs": [
    {
     "name": "stdout",
     "output_type": "stream",
     "text": [
      "True\n",
      "False\n",
      "False\n"
     ]
    }
   ],
   "source": [
    "#comparison operators\n",
    "# print(1==1)\n",
    "# print(1=='1') # Give answer\n",
    "# a = [1,2,3]\n",
    "# b = a\n",
    "# print(a)\n",
    "# a[0]=10\n",
    "# print(a)\n",
    "# print(a==b)\n",
    "# print(1>2)\n",
    "# print(1<2)\n",
    "print(1<=2) #Give answer\n",
    "\n",
    "# 1<2=True or 1=2=False\n",
    "# True or False\n",
    "print(1>=2)\n",
    "print(2!=2)\n"
   ]
  },
  {
   "cell_type": "code",
   "execution_count": 45,
   "id": "2eb79c01",
   "metadata": {},
   "outputs": [
    {
     "name": "stdout",
     "output_type": "stream",
     "text": [
      "False\n"
     ]
    }
   ],
   "source": [
    "#membership \n",
    "my_list = [1,2,3]\n",
    "print(1 not in my_list)\n",
    "print(2 in my_list)"
   ]
  },
  {
   "cell_type": "code",
   "execution_count": 47,
   "id": "3dabf8c6",
   "metadata": {},
   "outputs": [
    {
     "name": "stdout",
     "output_type": "stream",
     "text": [
      "False\n"
     ]
    }
   ],
   "source": [
    "#Assignment Operators\n",
    "a = 1\n",
    "a += 2 # a = a+2\n",
    "a -=2  # a = a-2\n",
    "a *=2  #a = a*2 "
   ]
  }
 ],
 "metadata": {
  "kernelspec": {
   "display_name": "Python 3 (ipykernel)",
   "language": "python",
   "name": "python3"
  },
  "language_info": {
   "codemirror_mode": {
    "name": "ipython",
    "version": 3
   },
   "file_extension": ".py",
   "mimetype": "text/x-python",
   "name": "python",
   "nbconvert_exporter": "python",
   "pygments_lexer": "ipython3",
   "version": "3.9.7"
  }
 },
 "nbformat": 4,
 "nbformat_minor": 5
}
