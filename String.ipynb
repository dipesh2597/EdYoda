{
 "cells": [
  {
   "cell_type": "code",
   "execution_count": 27,
   "id": "f13f5614",
   "metadata": {
    "scrolled": true
   },
   "outputs": [
    {
     "name": "stdout",
     "output_type": "stream",
     "text": [
      "Enter first variable1\n",
      "Enter second variable2\n",
      "1 2 <class 'str'> <class 'str'>\n",
      "1 2 <class 'str'> <class 'str'>\n",
      "Addition of  1  and  2 is:  3\n"
     ]
    }
   ],
   "source": [
    "'''\n",
    "String\n",
    "'' or \"\"\n",
    "'abc' or my_variable = 'abc'\n",
    "\n",
    "Print method\n",
    "\n",
    "print(\"addition result is: \", a+b, end='end')\n",
    "print(\"abc \", end='')\n",
    "\n",
    "Input method\n",
    "input()\n",
    "\n",
    "'''\n",
    "# print(\"abc \", end='line ended')\n",
    "# print(\"bcd\")\n",
    "\n",
    "a = [1,2,3]\n",
    "for i in a:\n",
    "    print(i, end=',')\n",
    "\n",
    "# Write a program for addition by taking input from user?\n",
    "'''\n",
    "take first value from user  #data type = string\n",
    "take second value from user #data type = string\n",
    "perform addition\n",
    "print(result)\n",
    "\n",
    "1st option :\n",
    "a = int(a)\n",
    "b = int(b)\n",
    "\n",
    "2nd option: \n",
    "result = int(a)+int(b)\n",
    "\n",
    "3rd option:\n",
    "\n",
    "\n",
    "'''\n",
    "a = input(\"Enter first variable\")\n",
    "b = input(\"Enter second variable\")\n",
    "print(a,b,type(a),type(b))\n",
    "\n",
    "# a = int(a)\n",
    "# b= int(b)\n",
    "# print(a,b,type(a),type(b))\n",
    "result = int(a)+int(b)\n",
    "print(a,b,type(a),type(b))\n",
    "\n",
    "print(\"Addition of \",a,\" and \",b,\"is: \",result)"
   ]
  },
  {
   "cell_type": "code",
   "execution_count": 51,
   "id": "f10b8cd0",
   "metadata": {},
   "outputs": [
    {
     "name": "stdout",
     "output_type": "stream",
     "text": [
      "join with comma:  1,2,3,4,5,6 <class 'str'>\n",
      "abcd1\n"
     ]
    }
   ],
   "source": [
    "'''\n",
    "split()\n",
    "(str).slpit(\"(character)\") = store all splitted members in list\n",
    "\n",
    "join()\n",
    "\n",
    "(\",\").join(my_list)\n",
    "'''\n",
    "# a='abc,bcd'\n",
    "# print(a.split(\",\"))\n",
    "# a=a.split(\",\")\n",
    "# print(type(a),a)\n",
    "\n",
    "# b = \",abc,bcd\"\n",
    "# print(b.split(\",\"))\n",
    "# b=b.split(\",\")\n",
    "# print(type(b),b)\n",
    "\n",
    "# my_list=input('Enter members of list with comma sepration:').split(\",\")\n",
    "# print(\"list type wiht split:\",my_list,type(my_list))\n",
    "my_list=['1','2','3','4','5','6']\n",
    "my_list = (\",\").join(my_list)\n",
    "print(\"join with comma: \",my_list, type(my_list))\n",
    "\n",
    "print('abcd'+'1')\n",
    "# [1,2,3] run for loop then print with end = 1,2,3\n",
    "\n"
   ]
  },
  {
   "cell_type": "code",
   "execution_count": 68,
   "id": "0bb13b80",
   "metadata": {},
   "outputs": [
    {
     "data": {
      "text/plain": [
       "1"
      ]
     },
     "execution_count": 68,
     "metadata": {},
     "output_type": "execute_result"
    }
   ],
   "source": [
    "'''\n",
    "find()\n",
    "'abcdcder'\n",
    "(str).find(\"character or string\")\n",
    "\n",
    "replace()\n",
    "str.replace('to_be_replace','with_replace')\n",
    "\n",
    "count()\n",
    "str.count('str')\n",
    "'''\n",
    "my_str='edyoda'\n",
    "my_str.find('od')\n",
    "my_str.replace('D',\"z\")\n",
    "my_str.count('dy')"
   ]
  },
  {
   "cell_type": "code",
   "execution_count": 82,
   "id": "7d1038e1",
   "metadata": {},
   "outputs": [
    {
     "name": "stdout",
     "output_type": "stream",
     "text": [
      "Edyoda Is Superb Classroom @ Edyoda.Com\n",
      "Edyoda is superb classroom @ edyoda.com\n",
      "True\n"
     ]
    }
   ],
   "source": [
    "'''\n",
    "syntax: (str).methodname()\n",
    "upper()=Will change string into upper case,\n",
    "lower()=Will change string into lower case,\n",
    "isupper()=will give True or False if all character are in upper case,\n",
    "islower()=will True or False if all character are in upper case,\n",
    "title()= Will make first character as upper case for each word\n",
    "istitle()= check is title condition\n",
    "capitalize()= will make first character as upper case\n",
    "'''\n",
    "s = 'edyoda is superb classroom @ Edyoda.com'\n",
    "# print(s.upper())\n",
    "# print('python'.upper())\n",
    "# print(s.isupper())\n",
    "# print(s.upper().isupper())\n",
    "# print(s.lower())\n",
    "# print(s.islower())\n",
    "print(s.title())\n",
    "print(s.capitalize())\n",
    "title_str = s.title()\n",
    "print(title_str.istitle())\n",
    "\n"
   ]
  }
 ],
 "metadata": {
  "kernelspec": {
   "display_name": "Python 3 (ipykernel)",
   "language": "python",
   "name": "python3"
  },
  "language_info": {
   "codemirror_mode": {
    "name": "ipython",
    "version": 3
   },
   "file_extension": ".py",
   "mimetype": "text/x-python",
   "name": "python",
   "nbconvert_exporter": "python",
   "pygments_lexer": "ipython3",
   "version": "3.9.7"
  }
 },
 "nbformat": 4,
 "nbformat_minor": 5
}
