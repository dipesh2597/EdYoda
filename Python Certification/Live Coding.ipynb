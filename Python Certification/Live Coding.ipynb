{
 "cells": [
  {
   "cell_type": "code",
   "execution_count": 1,
   "id": "011ce143",
   "metadata": {
    "scrolled": true
   },
   "outputs": [
    {
     "name": "stdout",
     "output_type": "stream",
     "text": [
      "False\n"
     ]
    }
   ],
   "source": [
    "result = \"5\"\n",
    "your_output = \"5 \"\n",
    "print(result == your_output)"
   ]
  },
  {
   "cell_type": "code",
   "execution_count": 38,
   "id": "1c64c577",
   "metadata": {
    "scrolled": true
   },
   "outputs": [
    {
     "name": "stdout",
     "output_type": "stream",
     "text": [
      "Before calling arrange function:  [1, 4, -6, 5, -5, 0, 2, -3] 4476064192\n",
      "After calling arrange function:  [1, 4, 5, 0, 2, -6, -5, -3] 4476064192\n"
     ]
    }
   ],
   "source": [
    "\"\"\"\n",
    "Given array = [1,4,-6,5,-5,0,2,-3]\n",
    "\n",
    "you have to shift all negative number at end of the array \n",
    "while maintaing the order of insertion.\n",
    "\n",
    "output = [1,4,5,0,2,-6,-5,-3]\n",
    "\n",
    "a = [1,4,-6,5,-5,0,2,-3]\n",
    "retrun a\n",
    "\n",
    "\"\"\"\n",
    "arr = [1,4,-6,5,-5,0,2,-3]\n",
    "\n",
    "def arrange(a):\n",
    "    #implement logic here\n",
    "    pos = []\n",
    "    neg = []\n",
    "    while len(a)!=0:\n",
    "        i = 0\n",
    "        ele = a[i]\n",
    "        if ele<0:\n",
    "            neg.append(ele)\n",
    "        else:\n",
    "            pos.append(ele)\n",
    "        a.remove(ele)\n",
    "    result = pos+neg\n",
    "    for index in range(len(result)):\n",
    "        a.append(result[index])\n",
    "    return result\n",
    "\n",
    "print(\"Before calling arrange function: \",arr, id(arr))\n",
    "\n",
    "arrange(arr)\n",
    "\n",
    "print(\"After calling arrange function: \",arr, id(arr))\n"
   ]
  }
 ],
 "metadata": {
  "kernelspec": {
   "display_name": "Python 3 (ipykernel)",
   "language": "python",
   "name": "python3"
  },
  "language_info": {
   "codemirror_mode": {
    "name": "ipython",
    "version": 3
   },
   "file_extension": ".py",
   "mimetype": "text/x-python",
   "name": "python",
   "nbconvert_exporter": "python",
   "pygments_lexer": "ipython3",
   "version": "3.9.10"
  }
 },
 "nbformat": 4,
 "nbformat_minor": 5
}
