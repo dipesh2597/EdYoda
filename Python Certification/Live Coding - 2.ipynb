{
 "cells": [
  {
   "cell_type": "code",
   "execution_count": null,
   "id": "cf716d83",
   "metadata": {},
   "outputs": [],
   "source": [
    "my_list = []\n",
    "n = int(input)\n",
    "for i in range(n):\n",
    "    command = input()\n",
    "\n",
    "    command_list = command.split(\" \") # ['append', 2]\n",
    "\n",
    "    if command_list[0] == 'append':\n",
    "        my_list.append(command_list[1])\n",
    "    elif command_list[0] == 'insert':\n",
    "        my_list.insert(command_list[1],command_list[2])\n",
    "    elif command_list[0] == 'remove':\n",
    "        my_list.remove(command_list[1])\n",
    "    elif command_list[0] == 'sort':\n",
    "        my_list.sort()\n",
    "    elif command_list[0] == 'reverse':\n",
    "        my_list.reverse()\n",
    "    elif command_list[0] == 'print':\n",
    "        print(my_list)\n",
    "    elif command_list[0] == 'pop':\n",
    "        my_list.pop()\n",
    "        "
   ]
  },
  {
   "cell_type": "code",
   "execution_count": 9,
   "id": "0d4a15fe",
   "metadata": {},
   "outputs": [
    {
     "name": "stdout",
     "output_type": "stream",
     "text": [
      "[2, 3, 1]\n"
     ]
    }
   ],
   "source": [
    "my_list = []\n",
    "my_list.append(1)\n",
    "my_list.append(2)\n",
    "my_list.insert(1,3) # [1,3,2] reversed = [2,3,1] sort(reversed = True) = [3,2,1]]\n",
    "my_list.reverse() # my_list = my_list[::-1]\n",
    "print(my_list)"
   ]
  },
  {
   "cell_type": "code",
   "execution_count": 12,
   "id": "0daeebc8",
   "metadata": {},
   "outputs": [
    {
     "name": "stdout",
     "output_type": "stream",
     "text": [
      "[1, 2, 3]\n",
      "False\n"
     ]
    }
   ],
   "source": [
    "my_list = [1,2,3]\n",
    "# my_list.remove('2')\n",
    "print(my_list)\n",
    "print(2=='2')"
   ]
  },
  {
   "cell_type": "code",
   "execution_count": 14,
   "id": "c04f262e",
   "metadata": {},
   "outputs": [
    {
     "name": "stdout",
     "output_type": "stream",
     "text": [
      "['[2,4]', '[4,5]']\n",
      "[2,4],[4,5]\n"
     ]
    }
   ],
   "source": [
    "'''\n",
    "Input:\n",
    "N = 5, S = 12 \n",
    "A = [1,2,3,7,5] sub_arr1 = [2,3,7], sub_arr2 = [7,5]\n",
    "Output: [2, 4],[4,5]\n",
    "Explanation: The sum of elements \n",
    "from 2nd position to 4th position \n",
    "is 12.\n",
    "\n",
    "A = [1,2,3,4,5]\n",
    "\n",
    "[1], [1,2]\n",
    "\n",
    "Steps to solve:\n",
    "1. iterate the array.\n",
    "2. iterate the next element for whole array until sum is equal or greater to given sum.\n",
    "3. if it's equal consider as a answer.\n",
    "4. if not repeat from 1-3 steps.\n",
    "'''\n",
    "N = 5\n",
    "given_sum = 12 \n",
    "A = [1,2,3,7,5]\n",
    "result = []\n",
    "for i in range(len(A)):\n",
    "    current_sum = 0\n",
    "    current_sum += A[i]\n",
    "    for j in range(i+1, len(A)):\n",
    "        current_sum += A[j]\n",
    "        if current_sum == given_sum:\n",
    "            result.append(f\"[{i+1},{j+1}]\")\n",
    "        elif current_sum > given_sum:\n",
    "            break\n",
    "print(\",\".join(result))"
   ]
  },
  {
   "cell_type": "code",
   "execution_count": null,
   "id": "9a505d2d",
   "metadata": {},
   "outputs": [],
   "source": [
    "class User():\n",
    "    \n",
    "    def __init__(self, **kwargs):\n",
    "        self.user_name = kwargs['user_name']\n",
    "        self.password = kwargs['password']\n",
    "        \n",
    "    \n",
    "    def login(username, password`):\n",
    "        pass\n",
    "    \n",
    "class Customer(User):\n",
    "    \n",
    "    customer_order = []\n",
    "    \n",
    "    def __init__(self, **kwargs):\n",
    "        self.customer_id = kwargs['customer_id']\n",
    "        super.__init__(user_name = kwargs['username'], password = kwargs['password'])\n",
    "        User().__init__(username)\n",
    "        pass\n",
    "    \n",
    "    def buy_product(product):\n",
    "        pass\n",
    "    \n",
    "Customer(customer_id=1, username='user1')\n",
    "\n",
    "Customer({\"customer_id\":1, \"username\":'user1'})\n",
    "    \n",
    "class admin(User):\n",
    "    password = \"pass1235\"\n",
    "    \n",
    "    def __init__(self, **kwargs):\n",
    "        self.customer_id = customer_id\n",
    "        super.__init__(self, **kwargs)\n",
    "        \n",
    "    def delete_user(user_id):\n",
    "        if user_id == 'admin':\n",
    "            raise Exception(\"admin can't be deleted\")\n",
    "        \n",
    "admin1 = admin()\n",
    "admin2 = admin()"
   ]
  },
  {
   "cell_type": "code",
   "execution_count": null,
   "id": "ce0686d3",
   "metadata": {},
   "outputs": [],
   "source": [
    "class CustomList(object): \n",
    "    \n",
    "    def __init__(self, elements=0): \n",
    "        self.my_custom_list = [0] * elements \n",
    "            \n",
    "    def __setitem__(self, index, value): \n",
    "        self.my_custom_list[index] = value \n",
    "        \n",
    "    def __getitem__(self, index): \n",
    "        return \"Hey you are accessing {} element whose value is: {}\".format(index, self.my_custom_list[index]) \n",
    "    \n",
    "    def __str__(self): \n",
    "        return str(self.my_custom_list) obj = CustomList(12) obj[0] = 1 print(obj[0]) print(obj)\n",
    "    \n",
    "    \n",
    "    "
   ]
  },
  {
   "cell_type": "code",
   "execution_count": 17,
   "id": "bd84d33a",
   "metadata": {},
   "outputs": [
    {
     "name": "stdout",
     "output_type": "stream",
     "text": [
      "Name:  Dipesh\n",
      "Age:  24\n"
     ]
    }
   ],
   "source": [
    "def func_1(**kwargs): #(name='given_name')\n",
    "    print(\"Name: \", kwargs['name'])\n",
    "    \n",
    "def func_2(**kwargs): #(age=given_age, name='given_name')\n",
    "    func_1(name=kwargs['name']) #super().__init__()\n",
    "    print(\"Age: \", kwargs['age'])\n",
    "    \n",
    "func_2(age=24, name='Dipesh')\n"
   ]
  }
 ],
 "metadata": {
  "kernelspec": {
   "display_name": "Python 3 (ipykernel)",
   "language": "python",
   "name": "python3"
  },
  "language_info": {
   "codemirror_mode": {
    "name": "ipython",
    "version": 3
   },
   "file_extension": ".py",
   "mimetype": "text/x-python",
   "name": "python",
   "nbconvert_exporter": "python",
   "pygments_lexer": "ipython3",
   "version": "3.9.10"
  }
 },
 "nbformat": 4,
 "nbformat_minor": 5
}
