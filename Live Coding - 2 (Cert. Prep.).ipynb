{
 "cells": [
  {
   "cell_type": "code",
   "execution_count": null,
   "id": "a0b39daa",
   "metadata": {},
   "outputs": [],
   "source": [
    "Four points:\n",
    "    a\n",
    "    b\n",
    "    c\n",
    "    d\n",
    "Find angle: abc and bcd\n",
    "    x = AB*BC (* means cross product) (AB = B-A)\n",
    "    y = BC*CD\n",
    "    cos(anlge)=(X.Y)/mod(X)*mod(Y) "
   ]
  },
  {
   "cell_type": "code",
   "execution_count": null,
   "id": "0dc10454",
   "metadata": {},
   "outputs": [],
   "source": [
    "#format (x,y,z)\n",
    "a= (1,2,3)\n",
    "b= (2,3,1)\n",
    "#Dot Product\n",
    "result = x(a)*z(b)+y(a)*y(b)+z(a)*z(b) = 1*2+2*3+3*1 = 9\n",
    "\n",
    "#Cross product\n",
    "# result = (x,y,z)\n",
    "x = (y(a)*z(b))-(z(a)*y(b)) = (2*1)-(3*3)\n",
    "y = (z(a)*x(b))-(x(a)*z(b)) = (3*2)-(1*1)\n",
    "z = (x(a)*y(b))-(y(a)*z(b)) = (1*2)-(2*2)\n",
    "result= (x,y,z)\n",
    "\n",
    "#Substraction\n",
    "x = x(a)-x(b)\n",
    "y = y(a)-y(b)\n",
    "z = z(a)-z(b)\n",
    "result = (x,y,z)\n"
   ]
  },
  {
   "cell_type": "code",
   "execution_count": null,
   "id": "5c4d0860",
   "metadata": {},
   "outputs": [],
   "source": [
    "format = \"xxXxxXxxxx\" # x = digit X = non-digit\n",
    "\n",
    "test1 = \"12B34@1234\"\n",
    "test2 = \"B123A1234\""
   ]
  }
 ],
 "metadata": {
  "kernelspec": {
   "display_name": "Python 3 (ipykernel)",
   "language": "python",
   "name": "python3"
  },
  "language_info": {
   "codemirror_mode": {
    "name": "ipython",
    "version": 3
   },
   "file_extension": ".py",
   "mimetype": "text/x-python",
   "name": "python",
   "nbconvert_exporter": "python",
   "pygments_lexer": "ipython3",
   "version": "3.9.7"
  }
 },
 "nbformat": 4,
 "nbformat_minor": 5
}
