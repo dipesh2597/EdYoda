{
 "cells": [
  {
   "cell_type": "code",
   "execution_count": 2,
   "id": "dfb59519",
   "metadata": {},
   "outputs": [
    {
     "data": {
      "text/plain": [
       "str"
      ]
     },
     "execution_count": 2,
     "metadata": {},
     "output_type": "execute_result"
    }
   ],
   "source": [
    "type(\"\")"
   ]
  },
  {
   "cell_type": "code",
   "execution_count": 3,
   "id": "43bd1491",
   "metadata": {},
   "outputs": [
    {
     "data": {
      "text/plain": [
       "int"
      ]
     },
     "execution_count": 3,
     "metadata": {},
     "output_type": "execute_result"
    }
   ],
   "source": [
    "1322\n",
    "type(1)"
   ]
  },
  {
   "cell_type": "code",
   "execution_count": 5,
   "id": "13ba2262",
   "metadata": {},
   "outputs": [
    {
     "name": "stdout",
     "output_type": "stream",
     "text": [
      "<class 'int'>\n"
     ]
    }
   ],
   "source": [
    "print(type(1))"
   ]
  },
  {
   "cell_type": "code",
   "execution_count": 16,
   "id": "67850e89",
   "metadata": {},
   "outputs": [
    {
     "data": {
      "text/plain": [
       "float"
      ]
     },
     "execution_count": 16,
     "metadata": {},
     "output_type": "execute_result"
    }
   ],
   "source": [
    "type(1.0)"
   ]
  },
  {
   "cell_type": "code",
   "execution_count": 8,
   "id": "d0ecbd6f",
   "metadata": {},
   "outputs": [
    {
     "data": {
      "text/plain": [
       "list"
      ]
     },
     "execution_count": 8,
     "metadata": {},
     "output_type": "execute_result"
    }
   ],
   "source": [
    "[124[]]\n",
    "type([1,2,4,[1,'abc']])"
   ]
  },
  {
   "cell_type": "code",
   "execution_count": 19,
   "id": "13f54f6f",
   "metadata": {},
   "outputs": [
    {
     "name": "stdout",
     "output_type": "stream",
     "text": [
      "<class 'tuple'>\n",
      "<class 'tuple'>\n",
      "<class 'int'>\n"
     ]
    }
   ],
   "source": [
    "print(type(('abc',2,3)))\n",
    "print(type((1,)))\n",
    "print(type(1,))\n",
    "print()\n",
    "type()\n",
    "1,\n",
    "(1,)\n"
   ]
  },
  {
   "cell_type": "code",
   "execution_count": 22,
   "id": "151db39b",
   "metadata": {},
   "outputs": [
    {
     "data": {
      "text/plain": [
       "tuple"
      ]
     },
     "execution_count": 22,
     "metadata": {},
     "output_type": "execute_result"
    }
   ],
   "source": [
    "(1,23,4)\n",
    "type((1,))"
   ]
  },
  {
   "cell_type": "code",
   "execution_count": 27,
   "id": "743e75aa",
   "metadata": {},
   "outputs": [
    {
     "name": "stdout",
     "output_type": "stream",
     "text": [
      "<class 'int'>\n",
      "<class 'str'>\n"
     ]
    }
   ],
   "source": [
    "print(type(1))\n",
    "print(type('abc'))"
   ]
  },
  {
   "cell_type": "code",
   "execution_count": 34,
   "id": "578ed3d0",
   "metadata": {},
   "outputs": [
    {
     "data": {
      "text/plain": [
       "'def'"
      ]
     },
     "execution_count": 34,
     "metadata": {},
     "output_type": "execute_result"
    }
   ],
   "source": [
    "{'Key':'value'}\n",
    "{1:\"abc\"}\n",
    "{\"student1\":\"abc\",\"student2\":\"def\"}[\"student2\"]\n"
   ]
  },
  {
   "cell_type": "code",
   "execution_count": 35,
   "id": "596d0d60",
   "metadata": {
    "scrolled": true
   },
   "outputs": [
    {
     "data": {
      "text/plain": [
       "'def'"
      ]
     },
     "execution_count": 35,
     "metadata": {},
     "output_type": "execute_result"
    }
   ],
   "source": [
    "{\"student1\":\"abc\",\"student2\":\"def\"}.get(\"student2\")"
   ]
  },
  {
   "cell_type": "code",
   "execution_count": 41,
   "id": "f2a7e079",
   "metadata": {
    "scrolled": true
   },
   "outputs": [
    {
     "data": {
      "text/plain": [
       "complex"
      ]
     },
     "execution_count": 41,
     "metadata": {},
     "output_type": "execute_result"
    }
   ],
   "source": [
    "type(complex(2,3))"
   ]
  },
  {
   "cell_type": "code",
   "execution_count": 44,
   "id": "43bfb959",
   "metadata": {},
   "outputs": [
    {
     "data": {
      "text/plain": [
       "bool"
      ]
     },
     "execution_count": 44,
     "metadata": {},
     "output_type": "execute_result"
    }
   ],
   "source": [
    "type(True)\n",
    "type(False)"
   ]
  },
  {
   "cell_type": "code",
   "execution_count": 49,
   "id": "385d2f92",
   "metadata": {},
   "outputs": [
    {
     "name": "stdout",
     "output_type": "stream",
     "text": [
      "<class 'str'>\n",
      "<class 'int'>\n",
      "<class 'int'>\n"
     ]
    },
    {
     "data": {
      "text/plain": [
       "3"
      ]
     },
     "execution_count": 49,
     "metadata": {},
     "output_type": "execute_result"
    }
   ],
   "source": [
    "print(type('1'))\n",
    "print(type(1))\n",
    "\n",
    "'1'\n",
    "'2'\n",
    "print(type(int(\"1\")))\n",
    "int(\"1\")+int(\"2\")"
   ]
  },
  {
   "cell_type": "code",
   "execution_count": 63,
   "id": "99f5cdc5",
   "metadata": {
    "scrolled": true
   },
   "outputs": [
    {
     "name": "stdout",
     "output_type": "stream",
     "text": [
      "[12345, 123]\n",
      "<class 'str'> <class 'int'>\n"
     ]
    }
   ],
   "source": [
    "type(str(1234))\n",
    "\n",
    "1234\n",
    "print(str([12345,123]))\n",
    "print(type(str(1234)),type(1234))"
   ]
  },
  {
   "cell_type": "code",
   "execution_count": 71,
   "id": "88056899",
   "metadata": {},
   "outputs": [
    {
     "name": "stdout",
     "output_type": "stream",
     "text": [
      "before conversion:  (1, 2) <class 'tuple'>\n",
      "after conversion:  [1, 2] <class 'list'>\n",
      "[1]\n"
     ]
    }
   ],
   "source": [
    "print(\"before conversion: \",(1,2), type((1,2)))\n",
    "print(\"after conversion: \", list((1,2)), type(list((1,2))))\n",
    "print(list((1,)))\n",
    "\n"
   ]
  },
  {
   "cell_type": "code",
   "execution_count": 78,
   "id": "f627091f",
   "metadata": {},
   "outputs": [
    {
     "data": {
      "text/plain": [
       "1"
      ]
     },
     "execution_count": 78,
     "metadata": {},
     "output_type": "execute_result"
    }
   ],
   "source": [
    "int(1)\n",
    "int(1.3)"
   ]
  },
  {
   "cell_type": "code",
   "execution_count": 81,
   "id": "53f66384",
   "metadata": {},
   "outputs": [
    {
     "name": "stdout",
     "output_type": "stream",
     "text": [
      "<class 'dict'> {'person': 'qwee', 'person1': 'pasd'}\n"
     ]
    },
    {
     "data": {
      "text/plain": [
       "'value'"
      ]
     },
     "execution_count": 81,
     "metadata": {},
     "output_type": "execute_result"
    }
   ],
   "source": [
    "\n",
    "print(type({\"person\":\"qwee\",\"person1\":\"pasd\"}),{\"person\":\"qwee\",\"person1\":\"pasd\"})\n",
    "\n",
    "{\"person\":\"qwee\",\"person1\":\"pasd\"}['person']\n",
    "{\"key\":\"value\"}[\"key\"]"
   ]
  }
 ],
 "metadata": {
  "kernelspec": {
   "display_name": "Python 3 (ipykernel)",
   "language": "python",
   "name": "python3"
  },
  "language_info": {
   "codemirror_mode": {
    "name": "ipython",
    "version": 3
   },
   "file_extension": ".py",
   "mimetype": "text/x-python",
   "name": "python",
   "nbconvert_exporter": "python",
   "pygments_lexer": "ipython3",
   "version": "3.9.7"
  }
 },
 "nbformat": 4,
 "nbformat_minor": 5
}
