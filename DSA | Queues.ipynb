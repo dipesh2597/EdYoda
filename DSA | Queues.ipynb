{
 "cells": [
  {
   "cell_type": "code",
   "execution_count": 6,
   "id": "b54f1b59",
   "metadata": {},
   "outputs": [
    {
     "name": "stdout",
     "output_type": "stream",
     "text": [
      "list queue is :  [1, 2, 3]\n",
      "List queue after a get():  [2, 3]\n",
      "Dequeue :  deque([1, 3])\n",
      "coverted into list:  [1, 3]\n",
      "Adding at start\n",
      "Dequeue :  deque([0, 1, 3])\n",
      "removing from start\n",
      "Dequeue :  deque([1, 3])\n",
      "removing from last\n",
      "Dequeue :  deque([1])\n"
     ]
    }
   ],
   "source": [
    "\"\"\"\n",
    "Queue: First in First OUT concept.\n",
    "Operations:\n",
    "    1. put/enqueue\n",
    "    2. get/dequeue\n",
    "    3. empty\n",
    "    4. size\n",
    "    5. max_size\n",
    "    6. full\n",
    "    \n",
    "counter= |1|2|3|4|5|6|\n",
    "\n",
    "\n",
    "Implementation in python:\n",
    "    1. by list\n",
    "    2. by collection.dequeue\n",
    "    3. by queue.Queue\n",
    "\"\"\"\n",
    "\n",
    "#implementation by list\n",
    "list_queue = []\n",
    "list_queue.append(1)\n",
    "list_queue.append(2)\n",
    "list_queue.append(3)\n",
    "print(\"list queue is : \",list_queue)\n",
    "\n",
    "list_queue.pop(0)\n",
    "print(\"List queue after a get(): \",list_queue)\n",
    "\n",
    "#implementation by dequeue\n",
    "from collections import deque\n",
    "dequeue_queue = deque()\n",
    "dequeue_queue.append(1)\n",
    "dequeue_queue.append(3)\n",
    "\n",
    "print(\"Dequeue : \",dequeue_queue)\n",
    "print(\"coverted into list: \",list(dequeue_queue))\n",
    "print(\"Adding at start\")\n",
    "dequeue_queue.appendleft(0)\n",
    "print(\"Dequeue : \",dequeue_queue)\n",
    "print(\"removing from start\")\n",
    "dequeue_queue.popleft()\n",
    "print(\"Dequeue : \",dequeue_queue)\n",
    "\n",
    "print(\"removing from last\")\n",
    "dequeue_queue.pop()\n",
    "print(\"Dequeue : \",dequeue_queue)\n",
    "\n",
    "\n"
   ]
  },
  {
   "cell_type": "code",
   "execution_count": 5,
   "id": "28ec34bf",
   "metadata": {
    "scrolled": true
   },
   "outputs": [
    {
     "name": "stdout",
     "output_type": "stream",
     "text": [
      "Max size of queue:  3\n",
      "Current size of queue:  0\n",
      "Is Queue Empty:  True\n",
      "queue is :  deque([1, 2, 3])\n",
      "Current size of queue after putting elements:  3\n",
      "Is Queue Empty:  False\n",
      "1\n",
      "2\n",
      "3\n",
      "Is Queue Empty:  True\n"
     ]
    },
    {
     "data": {
      "text/plain": [
       "deque([])"
      ]
     },
     "execution_count": 5,
     "metadata": {},
     "output_type": "execute_result"
    }
   ],
   "source": [
    "#implementation queue.Queue\n",
    "\n",
    "from queue import Queue\n",
    "original_queue = Queue(maxsize=3)\n",
    "print(\"Max size of queue: \",original_queue.maxsize)\n",
    "print(\"Current size of queue: \",original_queue.qsize())\n",
    "print(\"Is Queue Empty: \",original_queue.empty())\n",
    "original_queue.put(1)\n",
    "original_queue.put(2)\n",
    "original_queue.put(3)\n",
    "print(\"queue is : \",original_queue.queue)\n",
    "print(\"Current size of queue after putting elements: \",original_queue.qsize())\n",
    "print(\"Is Queue Empty: \",original_queue.empty())\n",
    "print(original_queue.get())\n",
    "print(original_queue.get())\n",
    "print(original_queue.get())\n",
    "print(\"Is Queue Empty: \",original_queue.empty())\n",
    "\n",
    "\n",
    "\n",
    "# class Queue:\n",
    "    \n",
    "#     def __init__(self):\n",
    "#         self.queue = dequeue()\n",
    "#     def get():\n",
    "#         pass"
   ]
  },
  {
   "cell_type": "code",
   "execution_count": null,
   "id": "3bf0e5ed",
   "metadata": {},
   "outputs": [],
   "source": [
    "{\n",
    "    \"products\": [\n",
    "        {\n",
    "            \"name\":\"Product 1\",\n",
    "            \"price\": 120\n",
    "        },\n",
    "        {\n",
    "            \"name\":\"Product 2\",\n",
    "            \"price\": 120\n",
    "        },\n",
    "        {\n",
    "            \"name\":\"Product 3\",\n",
    "            \"price\": 120\n",
    "        },\n",
    "        {\n",
    "            \"name\":\"Product 4\",\n",
    "            \"price\": 120\n",
    "        },\n",
    "        {\n",
    "            \"name\":\"Product 5\",\n",
    "            \"price\": 120\n",
    "        }\n",
    "    ]\n",
    "}"
   ]
  },
  {
   "cell_type": "code",
   "execution_count": 8,
   "id": "94d19f01",
   "metadata": {},
   "outputs": [
    {
     "name": "stdout",
     "output_type": "stream",
     "text": [
      "{'name': 'Product 1', 'price': 120}\n",
      "{'name': 'Product 2', 'price': 120}\n",
      "{'name': 'Product 3', 'price': 120}\n",
      "{'name': 'Product 4', 'price': 120}\n",
      "{'name': 'Product 5', 'price': 120}\n"
     ]
    }
   ],
   "source": [
    "# products = json.loads('file_name.json')\n",
    "products = {\n",
    "    \"products\": [\n",
    "        {\n",
    "            \"name\":\"Product 1\",\n",
    "            \"price\": 120\n",
    "        },\n",
    "        {\n",
    "            \"name\":\"Product 2\",\n",
    "            \"price\": 120\n",
    "        },\n",
    "        {\n",
    "            \"name\":\"Product 3\",\n",
    "            \"price\": 120\n",
    "        },\n",
    "        {\n",
    "            \"name\":\"Product 4\",\n",
    "            \"price\": 120\n",
    "        },\n",
    "        {\n",
    "            \"name\":\"Product 5\",\n",
    "            \"price\": 120\n",
    "        }\n",
    "    ]\n",
    "}\n",
    "def add_product(name,price):\n",
    "    #logic to save\n",
    "    pass\n",
    "    \n",
    "for product in products['products']:\n",
    "    print(product)\n",
    "    add_product(product['name'],product['price'])"
   ]
  }
 ],
 "metadata": {
  "kernelspec": {
   "display_name": "Python 3 (ipykernel)",
   "language": "python",
   "name": "python3"
  },
  "language_info": {
   "codemirror_mode": {
    "name": "ipython",
    "version": 3
   },
   "file_extension": ".py",
   "mimetype": "text/x-python",
   "name": "python",
   "nbconvert_exporter": "python",
   "pygments_lexer": "ipython3",
   "version": "3.9.7"
  }
 },
 "nbformat": 4,
 "nbformat_minor": 5
}
