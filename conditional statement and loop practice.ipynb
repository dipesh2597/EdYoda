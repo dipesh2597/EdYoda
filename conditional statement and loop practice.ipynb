{
 "cells": [
  {
   "cell_type": "code",
   "execution_count": 4,
   "id": "26ed30ba",
   "metadata": {},
   "outputs": [
    {
     "data": {
      "text/plain": [
       "'0b1010'"
      ]
     },
     "execution_count": 4,
     "metadata": {},
     "output_type": "execute_result"
    }
   ],
   "source": [
    "'''\n",
    "Bitwise operator\n",
    "1. bitwise AND &\n",
    "2. bitwise OR  |\n",
    "3. bitwise Not ~\n",
    "4. bitwise XOR ^\n",
    "5. bitwise right shift = >>\n",
    "6. bitwise left shift = <<\n",
    "'''\n",
    "\n",
    "a = 10 #= 1010\n",
    "b = 4 #= 0100\n",
    "\n",
    "'''\n",
    "1 = True\n",
    "0 = False\n",
    "\n",
    "1010\n",
    "0100\n",
    "-----\n",
    "0000\n",
    "\n",
    "'''\n",
    "print(a&b)\n",
    "print(a|b)"
   ]
  },
  {
   "cell_type": "code",
   "execution_count": 11,
   "id": "4902e3c0",
   "metadata": {},
   "outputs": [
    {
     "name": "stdout",
     "output_type": "stream",
     "text": [
      "False\n",
      "A is lesser than 20\n"
     ]
    }
   ],
   "source": [
    "a = 18\n",
    "condition_result1 = a>20\n",
    "condition_result2 = a==18\n",
    "\n",
    "'''\n",
    "if age is greater than 20 => Eligble\n",
    "if age is lesser but it is equal to 18 => Eligible\n",
    "if age is lesser but it is not equal to 18 => Not Eligible\n",
    "'''\n",
    "\n",
    "# if condition_result1:\n",
    "#     print(\"Eligible\")\n",
    "# elif condition_result2:\n",
    "#     print(\"Eligible\")\n",
    "# else:\n",
    "#     print(\"Not Eligble\")\n",
    "    \n",
    "if condition_result1 or condition_result2:\n",
    "    print(\"Eligible\")\n",
    "else:\n",
    "    print(\"not eligible\")\n",
    "\n",
    "#iterables: list, tuple, strings, set, dict(Only keys), range()\n"
   ]
  },
  {
   "cell_type": "code",
   "execution_count": 24,
   "id": "6ab35090",
   "metadata": {},
   "outputs": [
    {
     "data": {
      "text/plain": [
       "True"
      ]
     },
     "execution_count": 24,
     "metadata": {},
     "output_type": "execute_result"
    }
   ],
   "source": [
    "bool(\"false\")\n",
    "\n",
    "'''\n",
    "there are some values for which bool() will give false\n",
    "None\n",
    "False\n",
    "0, 0.0, 0j\n",
    "[], (), '', {}\n",
    "__bool__(): return False #ignore this if not clear\n",
    "'''\n",
    "# print(bool(None))\n",
    "# print(bool(False))\n",
    "# print(bool(True))\n",
    "# print(bool(0))\n",
    "# print(bool(0.0))\n",
    "# print(bool([]))\n",
    "# print(bool([1,2]))\n",
    "bool(\"Name\")\n",
    "bool(\" \")"
   ]
  },
  {
   "cell_type": "code",
   "execution_count": 47,
   "id": "d6b9e143",
   "metadata": {},
   "outputs": [
    {
     "name": "stdout",
     "output_type": "stream",
     "text": [
      "[4, 5]\n",
      "[4, 5]\n"
     ]
    }
   ],
   "source": [
    "#slicing\n",
    "# slicing can only be perform on iterable\n",
    "# a = [1,2,3]\n",
    "# print(a) #print(a)\n",
    "# print([1,2,3])\n",
    "\n",
    "MY_LIST=[0, 1, 2, 3, 4, 5]\n",
    "# Make slice of 0,1,2\n",
    "# my_list[index(0) or index values of 1st memeber : index(2)+1 or index values of 4th meneber]\n",
    "\n",
    "# Make slice of 3,4,5\n",
    "# my_list[index(3) or index values of 4th memeber : index(5)+1 or index values of 5th meneber+1]\n",
    "\n",
    "\n",
    "my_str = \"Dipesh Sharma\"\n",
    "#Syntax for slicing\n",
    "#(<iterable>)[starting_index:ending_index]\n",
    "#(<iterable>)[:ending_index]\n",
    "#(<iterable>)[starting_index:]\n",
    "'''\n",
    "for i in between start and end:\n",
    "    if i == end:\n",
    "        not print anything\n",
    "    else:\n",
    "        list[i]\n",
    "'''\n",
    "\n",
    "print(MY_LIST[-2:])\n",
    "print([0, 1, 2, 3, 4, 5][-2:])\n",
    "\n"
   ]
  },
  {
   "cell_type": "code",
   "execution_count": 50,
   "id": "4c5150e6",
   "metadata": {},
   "outputs": [
    {
     "name": "stdout",
     "output_type": "stream",
     "text": [
      " a\n",
      "vowel\n"
     ]
    }
   ],
   "source": [
    "# Write a Python program to check whether an alphabet is a vowel or consonant\n",
    "s='A' #s.lower()='a'\n",
    "l=['a','e','i','o','u',\"A\",\"E\",\"I\",\"O\",\"U\"]\n",
    "my_str='aeiouAEIOU'\n",
    "if s in my_str:\n",
    "    print(\"vowel :\",s)\n",
    "else:\n",
    "    print(\"consonent :\",s)\n",
    "\n",
    "# s=input(\" \")\n",
    "# l=[\"a\",\"e\",\"i\",\"o\",\"u\",\"A\",\"E\",\"I\",\"O\",\"U\"]\n",
    "\n",
    "# if s in l :\n",
    "#     print(\"vowel\")\n",
    "# else:\n",
    "#     print(\"consonant\")\n",
    "    \n",
    "# print(\"Hello\")"
   ]
  }
 ],
 "metadata": {
  "kernelspec": {
   "display_name": "Python 3 (ipykernel)",
   "language": "python",
   "name": "python3"
  },
  "language_info": {
   "codemirror_mode": {
    "name": "ipython",
    "version": 3
   },
   "file_extension": ".py",
   "mimetype": "text/x-python",
   "name": "python",
   "nbconvert_exporter": "python",
   "pygments_lexer": "ipython3",
   "version": "3.9.7"
  }
 },
 "nbformat": 4,
 "nbformat_minor": 5
}
