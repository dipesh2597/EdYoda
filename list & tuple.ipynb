{
 "cells": [
  {
   "cell_type": "code",
   "execution_count": 6,
   "id": "e0f80561",
   "metadata": {},
   "outputs": [
    {
     "name": "stdout",
     "output_type": "stream",
     "text": [
      "1 2 6 18 "
     ]
    }
   ],
   "source": [
    "# my_dict = {'name':'dipesh','age':25}\n",
    "# my_set= {'name','dipesh','age'}\n",
    "# my_set = set(['name','age'])\n",
    "\n",
    "# a,b = 'abc', 1+3\n",
    "# a=n\n",
    "# print(a,b)\n",
    "\n",
    "a,b=0,1\n",
    "\n",
    "while b<50:\n",
    "    print(b,end=\" \")\n",
    "    a = 0, b=1\n",
    "    a,b = b,a+b # a=1,b=0+1\n",
    "    a=b         # a=1\n",
    "    b=a+b       # b=1+1 =2"
   ]
  },
  {
   "cell_type": "code",
   "execution_count": 12,
   "id": "0e39ba5e",
   "metadata": {},
   "outputs": [
    {
     "name": "stdout",
     "output_type": "stream",
     "text": [
      "[1, 2]\n",
      "1\n",
      "n\n"
     ]
    }
   ],
   "source": [
    "'''\n",
    "List: \n",
    "'''\n",
    "# ordered and unordered\n",
    "l = [1,2,3]\n",
    "t = (1,2)\n",
    "my_str = 'name'\n",
    "d = {'key':'value'}\n",
    "s = {1,2}\n",
    "\n",
    "print(l[0:2])\n",
    "print(t[0])\n",
    "print(my_str[0])\n",
    "# print(d[0])\n",
    "# print(s[0])\n",
    "l = [1,2,3,'abc',(1,2),['q','w'],{'abc':'cd'},{1,2}]"
   ]
  },
  {
   "cell_type": "code",
   "execution_count": 62,
   "id": "0de965c7",
   "metadata": {},
   "outputs": [
    {
     "name": "stdout",
     "output_type": "stream",
     "text": [
      "[0, 1, 2, 4, 7, 8]\n",
      "[8, 7, 4, 2, 1, 0]\n",
      "[('score1', 40, 60), ('score2', 80, 50), ('score3', 100, 10)]\n",
      "['bcd', 'edyoda', 'python3', 'java', 'dipeshsharma']\n",
      "2\n",
      "2\n",
      "3\n",
      "[2, 4, 5, 5, 4, 6, 4]\n"
     ]
    }
   ],
   "source": [
    "my_list1 = [1,2,4,5]\n",
    "# append = list.append(item) one item at a time\n",
    "# print(id(my_list))\n",
    "# my_list.append(['ab','cd'])\n",
    "# print(id(my_list))\n",
    "# print(my_list)\n",
    "# print('abc'+str(1))\n",
    "\n",
    "#replace\n",
    "# my_list[2]=3\n",
    "\n",
    "# insert(index,item) \n",
    "my_list.insert(2,3)\n",
    "# print(my_list)\n",
    "\n",
    "#extend(iterable)\n",
    "my_list2 = [6,7,8]\n",
    "my_list1+my_list2\n",
    "# print(my_list1+my_list2)\n",
    "# print(\"My list 1: \", my_list1)\n",
    "# my_list1.extend(my_list2)\n",
    "# print(my_list1, my_list2)\n",
    "\n",
    "my_dictionary = {\"key1\":'value1',\"key2\": \"value2\"}\n",
    "my_list1.extend(my_dictionary)\n",
    "# print(my_list1)\n",
    "# for i in my_dictionary:\n",
    "#     print(i)\n",
    "\n",
    "# Write a python to sort a list\n",
    "# sample input = [4,7,2,8,1,0]\n",
    "# sample output = [0,1,2,4,7,8]\n",
    "unsorted_list = [4,7,2,8,1,0]\n",
    "unsorted_list.sort()\n",
    "print(unsorted_list)\n",
    "unsorted_list2 = [4,7,2,8,1,0]\n",
    "unsorted_list2.sort(reverse=True) \n",
    "#which we will dicuss later that is key=function\n",
    "print(unsorted_list2)\n",
    "\n",
    "# def calculate_len_str(s):\n",
    "#     return len(s)\n",
    "\n",
    "str_list = ['bcd','edyoda', 'python3', 'java', 'dipeshsharma']\n",
    "# str_list.sort(key=calculate_len_str)\n",
    "# str_list.sort(key = len(s))\n",
    "\n",
    "dict_list = [{'score1':80},{'score2':40},{'score3':100}]\n",
    "[{'score2':40},{'score1':80},{'score3':100}]\n",
    "\n",
    "tuple_list = [('score2',80,50),('score1',40,60),(\"score3\",100,10)]\n",
    "tuple_list.sort()\n",
    "print(tuple_list)\n",
    "# def cal_tup(tuple_arg):\n",
    "#     return tuple_arg[1]\n",
    "\n",
    "print(str_list)\n",
    "\n",
    "alpha_list =['b','a','c']\n",
    "alpha_list.sort()\n",
    "\n",
    "#index = list.index(item)\n",
    "my_list1 = [1,2,4,4,5,5,4,6,4]\n",
    "print(my_list1.index(4))\n",
    "\n",
    "#count = list.count(item)\n",
    "print(my_list1.count(5))\n",
    "\n",
    "del my_list1[0]\n",
    "\n",
    "my_list1.remove(4)\n",
    "print(my_list1)\n"
   ]
  },
  {
   "cell_type": "code",
   "execution_count": 64,
   "id": "cc28a2b2",
   "metadata": {},
   "outputs": [
    {
     "name": "stdout",
     "output_type": "stream",
     "text": [
      "[]\n"
     ]
    }
   ],
   "source": [
    "my_list = [1,2,3]\n",
    "my_list.clear()\n",
    "print(my_list)"
   ]
  },
  {
   "cell_type": "code",
   "execution_count": 79,
   "id": "d9c5e7db",
   "metadata": {},
   "outputs": [
    {
     "name": "stdout",
     "output_type": "stream",
     "text": [
      "[1, 3]\n"
     ]
    }
   ],
   "source": [
    "my_list = [1,2,3]\n",
    "my_list.pop(1)\n",
    "print(my_list)\n",
    "# popped_elem=my_list.pop(1)\n",
    "# print(poped_element)\n",
    "# print(my_list.pop(0))"
   ]
  },
  {
   "cell_type": "code",
   "execution_count": 67,
   "id": "cd6d4c12",
   "metadata": {},
   "outputs": [
    {
     "name": "stdout",
     "output_type": "stream",
     "text": [
      "['abc', 'cde']\n"
     ]
    }
   ],
   "source": [
    "my_list = ['abc','abc','cde']\n",
    "my_list.remove('abc')\n",
    "print(my_list)"
   ]
  },
  {
   "cell_type": "code",
   "execution_count": 71,
   "id": "7861f87d",
   "metadata": {},
   "outputs": [
    {
     "name": "stdout",
     "output_type": "stream",
     "text": [
      "['cde']\n"
     ]
    }
   ],
   "source": [
    "my_list = ['abc','abc','cde']\n",
    "del my_list[0:2] \n",
    "print(my_list)"
   ]
  },
  {
   "cell_type": "code",
   "execution_count": 21,
   "id": "6a4fac8a",
   "metadata": {
    "scrolled": true
   },
   "outputs": [
    {
     "name": "stdout",
     "output_type": "stream",
     "text": [
      "2\n",
      "max of string tuple dbc\n",
      "max of string tuple abcdevfgb\n",
      "max of list:  9\n",
      "min of list:  1\n",
      "False\n"
     ]
    },
    {
     "data": {
      "text/plain": [
       "(1, 23)"
      ]
     },
     "execution_count": 21,
     "metadata": {},
     "output_type": "execute_result"
    }
   ],
   "source": [
    "# Write a python to sort a list\n",
    "# sample input = [4,7,2,8,1,0]\n",
    "# sample output = [0,1,2,4,7,8]\n",
    "\n",
    "dictionary= {\"key\":'value'}\n",
    "t= ('abcdevfgb','dbc')\n",
    "# t != 1\n",
    "# t[0] = 2\n",
    "print(len(t))\n",
    "print(\"max of string tuple\",max(t)) #max(t)\n",
    "print(\"max of string tuple\",min(t)) #will work list\n",
    "print(\"max of list: \",max([1,5,2,9]))\n",
    "print(\"min of list: \",min([\"1\",\"5\",\"2\",\"9\"]))\n",
    "# 'acadscds','dcdascd','bcdscs' > sorted : 'acadscds','bcdscs','dcdascd'\n",
    "# 'aab', 'aad', 'aac' > 'aab', 'aac', 'aad'\n",
    "print('A'>'a')\n",
    "tuple([1,23])\n"
   ]
  },
  {
   "cell_type": "code",
   "execution_count": 34,
   "id": "09452207",
   "metadata": {},
   "outputs": [
    {
     "name": "stdout",
     "output_type": "stream",
     "text": [
      "A :  1\n",
      "B :  1\n",
      "A :  1\n",
      "B :  2\n",
      "A :  2\n",
      "B :  3\n",
      "A :  2\n",
      "B :  4\n"
     ]
    }
   ],
   "source": [
    "# Write a python to sort a list\n",
    "# sample input = [4,7,2,8,1,0]\n",
    "# sample output = [0,1,2,4,7,8]\n",
    "\n",
    "'''\n",
    "result = []\n",
    "iterate element of loop\n",
    "itereate elements after the current element\n",
    "\n",
    "[4,7,2,8,1,0] > current elem > remaining of all\n",
    "curr_el= 4, next is 7\n",
    "curr_el= 4, next is 2 swap >>> after swaping our list will look like something\n",
    "[2,7,4,8,1,0] >> \n",
    "curr_el = 2, next=8\n",
    "curr_el = 2, next=1 swap >>> [1,7,4,8,2,0]\n",
    "curr_el = 1, next=0 swap >>> [0,7,4,8,2,1]\n",
    "'''\n",
    "my_list = [4,7,2,8,1,0]\n",
    "\n",
    "# for index in range(0,len(my_list)): # range(0,6)\n",
    "#     current_element = my_list[index]\n",
    "#     for next_index in range(index+1,len(my_list)):\n",
    "#         next_element = my_list[next_index]\n",
    "#         if next_element < current_element:\n",
    "# #         if my_list[index] > my_list[next_index]:\n",
    "#             # incorrect because it's just updating variable's values not list item\n",
    "# #             current_element = next_element\n",
    "# #             next_element = current_element\n",
    "#             my_list[index] = next_element # my_list[index] = my_list[next_index]\n",
    "#             my_list[next_index] = current_element\n",
    "#             current_element=next_element\n",
    "            \n",
    "#             # won't work discussed already\n",
    "# #             my_list[index] = my_list[next_index] # my_list[index] = my_list[next_index]\n",
    "# #             my_list[next_index] = my_list[index] \n",
    "# #             in this below line will work\n",
    "# #             my_list[index], my_list[next_index] = next_element, current_element # my_list[index] = my_list[next_index]\n",
    "# #             my_list[index], my_list[next_index] = my_list[next_index], my_list[index] \n",
    "\n",
    "#[4,7,2,8,1,0]\n",
    "\n",
    "# all comment for 1st iteration\n",
    "for index in range(0,len(my_list)): # range(0,6)\n",
    "    current_element = my_list[index] # = 4 at index 0\n",
    "    for next_index in range(index+1,len(my_list)):\n",
    "        next_element = my_list[next_index] \n",
    "        #1st iter nex_el = 7. 2nd iter nex-el= 2\n",
    "        if next_element < current_element:\n",
    "            my_list[index] = next_element # my_list[index] = my_list[next_index]\n",
    "            my_list[next_index] = current_element\n",
    "            #[2,7,4,8,1,0]\n",
    "            current_element=next_element\n",
    " \n",
    "a = 0\n",
    "b = 0\n",
    "\n",
    "\n",
    "            \n",
    "\n",
    "for index in range(0,len(my_list)): # range(0,6)\n",
    "    for next_index in range(index+1,len(my_list)):\n",
    "        if my_list[index] > my_list[next_index]:\n",
    "            #[4,7,2,8,1,0] before\n",
    "            my_list[index], my_list[next_index] = my_list[next_index], my_list[index] \n",
    "            # in first iteration above line will look like this\n",
    "            # my_list[0], my_list[2] = my_list[2], my_list[0] \n",
    "            #[2,7,4,8,1,0] after\n",
    "\n",
    "\n",
    "\n",
    "a=0\n",
    "b=0\n",
    "# print(my_list)\n",
    "for i in [1,2]:\n",
    "    a += 1\n",
    "    for j in [3,4]:\n",
    "        b += 1\n",
    "        print(\"A : \",a)\n",
    "        print(\"B : \",b)"
   ]
  }
 ],
 "metadata": {
  "kernelspec": {
   "display_name": "Python 3 (ipykernel)",
   "language": "python",
   "name": "python3"
  },
  "language_info": {
   "codemirror_mode": {
    "name": "ipython",
    "version": 3
   },
   "file_extension": ".py",
   "mimetype": "text/x-python",
   "name": "python",
   "nbconvert_exporter": "python",
   "pygments_lexer": "ipython3",
   "version": "3.9.7"
  }
 },
 "nbformat": 4,
 "nbformat_minor": 5
}
