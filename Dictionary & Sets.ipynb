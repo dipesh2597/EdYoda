{
 "cells": [
  {
   "cell_type": "code",
   "execution_count": 7,
   "id": "d426b254",
   "metadata": {},
   "outputs": [
    {
     "name": "stdout",
     "output_type": "stream",
     "text": [
      "['1', '2', '3'] <class 'list'>\n"
     ]
    },
    {
     "data": {
      "text/plain": [
       "'\\n1. iterate element of list\\n2. then convert value of element from string to integer\\n3. update the element in the same list\\nor we can append into result list/ new list\\n'"
      ]
     },
     "execution_count": 7,
     "metadata": {},
     "output_type": "execute_result"
    }
   ],
   "source": [
    "n = ['1', '2', '3']\n",
    "print(n, type(n))\n",
    "# n = int(n)\n",
    "\n",
    "'''\n",
    "1. iterate element of list\n",
    "2. then convert value of element from string to integer\n",
    "3. update the element in the same list\n",
    "or we can append into result list/ new list\n",
    "'''\n",
    "#write you code here"
   ]
  },
  {
   "cell_type": "code",
   "execution_count": 40,
   "id": "cdf479df",
   "metadata": {},
   "outputs": [
    {
     "name": "stdout",
     "output_type": "stream",
     "text": [
      "dict_items([('name', 'student1'), ('score', 80), ('class', '10th')])\n",
      "0 name\n",
      "1 score\n",
      "2 class\n"
     ]
    }
   ],
   "source": [
    "# Declaration\n",
    "my_dict = {'name':'student1','score':100, 'unused_key':'unused_value'}\n",
    "\n",
    "# adding a key\n",
    "my_dict['class']='10th'\n",
    "#updation\n",
    "my_dict['score']=80\n",
    "#removal\n",
    "my_dict.pop('unused_key')\n",
    "\n",
    "# print(my_dict)\n",
    "\n",
    "# #get all keys of a dictionary\n",
    "# print(my_dict.keys())\n",
    "# print(my_dict.values())\n",
    "print(my_dict.items())\n",
    "\n",
    "# list_of_tuples=[('name', 'student1'), ('score', 80), ('class', '10th')]\n",
    "# my_dict_new = dict(list_of_tuples)\n",
    "# print(my_dict_new)\n",
    "\n",
    "# for key,value in my_dict.items():\n",
    "#     print(key, value)\n",
    "    \n",
    "\n",
    "\n",
    "#enumerate\n",
    "\n",
    "# for i in enumerate([1,2,3]):\n",
    "#     print(i)\n",
    "\n",
    "# enumerate([1,2,3]) = [(0,1),(1,2),(2,3)]\n",
    "\n",
    "for key,value in enumerate(my_dict):\n",
    "    print(key, value)"
   ]
  },
  {
   "cell_type": "code",
   "execution_count": 52,
   "id": "2b71b373",
   "metadata": {},
   "outputs": [
    {
     "name": "stdout",
     "output_type": "stream",
     "text": [
      "0 name student1\n",
      "1 score 100\n",
      "2 unused_key unused_value\n"
     ]
    }
   ],
   "source": [
    "my_dict = {'name':'student1','score':100, 'unused_key':'unused_value'}\n",
    "\n",
    "\n",
    "# for i in my_dict: # my_dict = ['name','age','score']\n",
    "#     print(i)\n",
    "\n",
    "# for index,key in enumerate(my_dict):\n",
    "#     print(index, key)\n",
    "# () = (key,values) \n",
    "#'name' = (key, value)\n",
    "for index,(key,value) in enumerate(my_dict.items()): \n",
    "    #my_dict.items()[('name', 'student1'), ('score', 80), ('class', '10\n",
    "    print(index, key, value)\n"
   ]
  },
  {
   "cell_type": "code",
   "execution_count": 62,
   "id": "b74c599e",
   "metadata": {},
   "outputs": [
    {
     "name": "stdout",
     "output_type": "stream",
     "text": [
      "1 2 3 4\n"
     ]
    }
   ],
   "source": [
    "#unpacking element to individual variables.\n",
    "a,b,c,d = [1,2,3,4]\n",
    "\n",
    "print(a,b,c,d)"
   ]
  },
  {
   "cell_type": "code",
   "execution_count": 72,
   "id": "54f5d1c3",
   "metadata": {},
   "outputs": [
    {
     "name": "stdout",
     "output_type": "stream",
     "text": [
      "{1, 3, 5}\n"
     ]
    },
    {
     "data": {
      "text/plain": [
       "{5, 6}"
      ]
     },
     "execution_count": 72,
     "metadata": {},
     "output_type": "execute_result"
    }
   ],
   "source": [
    "# set declaration\n",
    "my_set={1,2,3,2,1}\n",
    "\n",
    "my_list = [1,2,3,3]\n",
    "converted_set= set(my_list)\n",
    "\n",
    "#adding\n",
    "my_set.add(5)\n",
    "\n",
    "#removal\n",
    "my_set.remove(2)\n",
    "print(my_set)\n",
    "\n",
    "s1={1,2,3,4}\n",
    "s2={3,4,5,6}\n",
    "# uninon\n",
    "# (1,2,3,4),(3,4,5,6) = (1,2,3,4,5,6)\n",
    "print(s1.union(s2))\n",
    "\n",
    "# intersection\n",
    "# (1,2,3,4),(3,4,5,6) = (3,4)\n",
    "print(s1.intersection(s2))\n",
    "\n",
    "# difference\n",
    "# (1,2,3,4),(3,4,5,6) = (1,2)\n",
    "print(s1.difference(s2))# = (1,2))\n",
    "print(s2.difference(s1))# = (5,6)"
   ]
  },
  {
   "cell_type": "code",
   "execution_count": 79,
   "id": "4cf55214",
   "metadata": {},
   "outputs": [
    {
     "name": "stdout",
     "output_type": "stream",
     "text": [
      "frozenset({1, 3, 23})\n",
      "is sub set False\n",
      "is super set False\n"
     ]
    }
   ],
   "source": [
    "# frozenset\n",
    "\n",
    "my_frozenset = frozenset({1,23,3}) # fronzenset([1,2,3,4])\n",
    "print(my_frozenset)\n",
    "\n",
    "s1 = {1,2,3,4,5}\n",
    "s2 = {1,0}\n",
    "print(\"is sub set\",s2.issubset(s1))\n",
    "print(\"is super set\",s1.issuperset(s2))"
   ]
  }
 ],
 "metadata": {
  "kernelspec": {
   "display_name": "Python 3 (ipykernel)",
   "language": "python",
   "name": "python3"
  },
  "language_info": {
   "codemirror_mode": {
    "name": "ipython",
    "version": 3
   },
   "file_extension": ".py",
   "mimetype": "text/x-python",
   "name": "python",
   "nbconvert_exporter": "python",
   "pygments_lexer": "ipython3",
   "version": "3.9.10"
  }
 },
 "nbformat": 4,
 "nbformat_minor": 5
}
