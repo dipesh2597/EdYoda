{
 "cells": [
  {
   "cell_type": "code",
   "execution_count": 37,
   "id": "022d54c7",
   "metadata": {},
   "outputs": [
    {
     "name": "stdout",
     "output_type": "stream",
     "text": [
      "abcdfcadfasfc\n",
      "abcdfcadfasfc\n"
     ]
    }
   ],
   "source": [
    "'''\n",
    "While loop\n",
    "while (condition):\n",
    "    code line1\n",
    "    code line1\n",
    "    code line1\n",
    "    code line1\n",
    "    \n",
    "Q: Print first three names.\n",
    "'''\n",
    "class_toppers = ['admin','user','final','extra']\n",
    "count = 0\n",
    "while count<=2:\n",
    "#     print(count)\n",
    "#     print(class_toppers[count])\n",
    "    count+=1\n",
    "    \n",
    "'''\n",
    "get attendance till session happened:\n",
    "\n",
    "start_date=module start date = 23/10/21\n",
    "current_date = start_date = 23/10/21\n",
    "today_date = today's date = 06/11/21\n",
    "moudle_end_date = module end date\n",
    "attandance = {}\n",
    "\n",
    "while current_date <=today_date and current_date <= module_end_date:\n",
    "    if find session happend or not for current_date:\n",
    "        current_date = current_date + 1\n",
    "        continue\n",
    "    finding attendance for current_date\n",
    "    store attendance in attendacne dictionary\n",
    "    current_date = current_date + 1\n",
    "'''\n",
    "\n",
    "'''\n",
    "continue: there is a condition we don't wanna run the loop and go to next interation\n",
    "\n",
    "\n",
    "\n",
    "break: it exit the loop or complete the loop\n",
    "'''\n",
    "\n",
    "\n",
    "\n",
    "# print(\"out side for loop\")\n",
    "# print(a)\n",
    "for i in [1,2]:\n",
    "    pass\n",
    "\n",
    "a = input()\n",
    "print(a)"
   ]
  },
  {
   "cell_type": "code",
   "execution_count": 23,
   "id": "8ba715ff",
   "metadata": {
    "scrolled": true
   },
   "outputs": [
    {
     "name": "stdout",
     "output_type": "stream",
     "text": [
      "while loop\n",
      "in while values of a is:  0\n",
      "performing action\n",
      "in while values of a is:  1\n",
      "Don't perform any action\n",
      "FOR LOOP\n",
      "in for values of a is:  1\n",
      "Don't perform any action\n",
      "outside the loop\n"
     ]
    },
    {
     "data": {
      "text/plain": [
       "'    it check something like this if condition\\na =0\\nwhile a in range(0,10):\\n    perform action\\n    a+=1\\n'"
      ]
     },
     "execution_count": 23,
     "metadata": {},
     "output_type": "execute_result"
    }
   ],
   "source": [
    "a = 0\n",
    "print(\"while loop\")\n",
    "while a<=2:\n",
    "    print(\"in while values of a is: \",a)\n",
    "    if a==1:\n",
    "        print(\"Don't perform any action\")\n",
    "        a = a+1\n",
    "        continue\n",
    "    a = a+1\n",
    "    print(\"performing action\")\n",
    "    \n",
    "print(\"FOR LOOP\")\n",
    "for a in [1,2,3]:\n",
    "    print(\"in while values of a is: \",a)\n",
    "    if a==1:\n",
    "        print(\"Don't perform any action\")\n",
    "        continue\n",
    "              \n",
    "    \n",
    "'''    it check something like this if condition\n",
    "a =0\n",
    "while a in range(0,10):\n",
    "    perform action\n",
    "    a+=1\n",
    "'''\n",
    "if range(0,10):\n",
    "    print(\"condtion is true\")\n",
    "else:\n",
    "    print(\"condition is false\")"
   ]
  },
  {
   "cell_type": "code",
   "execution_count": 27,
   "id": "70f0c117",
   "metadata": {},
   "outputs": [
    {
     "name": "stdout",
     "output_type": "stream",
     "text": [
      "in while loop\n",
      "performing action\n",
      "in while loop\n",
      "performing action\n",
      "in while loop\n",
      "performing action\n",
      "in while loop\n",
      "a is greater terminating the loop\n"
     ]
    }
   ],
   "source": [
    "a = 0 \n",
    "while True:\n",
    "    print(\"in while loop\")\n",
    "    if a>2:\n",
    "        print(\"a is greater terminating the loop\")\n",
    "        break\n",
    "    a = a+1\n",
    "    print(\"performing action\")"
   ]
  },
  {
   "cell_type": "code",
   "execution_count": 39,
   "id": "27a9cf5e",
   "metadata": {},
   "outputs": [
    {
     "name": "stdout",
     "output_type": "stream",
     "text": [
      "215.0 301.0\n"
     ]
    }
   ],
   "source": [
    "'''\n",
    "Write a Python program to find those numbers which are divisible by 7 and multiple of 5, between 1500 and 2700 (both included)\n",
    "\n",
    "we have iterate from 1500 to 2700 \n",
    "check number is it divisible by 7 if it gives remainder as 0 remainder==0\n",
    "check number is multiple of 5\n",
    "\n",
    "'''\n",
    "# a=1500\n",
    "# while a<=2700:\n",
    "# #     some action\n",
    "#     a+=1\n",
    "for i in range(1500,2700+1):\n",
    "    if i%7 ==0 and i%5==0:\n",
    "        print(i)\n",
    "print(1505/7, 1505/5)"
   ]
  }
 ],
 "metadata": {
  "kernelspec": {
   "display_name": "Python 3 (ipykernel)",
   "language": "python",
   "name": "python3"
  },
  "language_info": {
   "codemirror_mode": {
    "name": "ipython",
    "version": 3
   },
   "file_extension": ".py",
   "mimetype": "text/x-python",
   "name": "python",
   "nbconvert_exporter": "python",
   "pygments_lexer": "ipython3",
   "version": "3.9.7"
  }
 },
 "nbformat": 4,
 "nbformat_minor": 5
}
