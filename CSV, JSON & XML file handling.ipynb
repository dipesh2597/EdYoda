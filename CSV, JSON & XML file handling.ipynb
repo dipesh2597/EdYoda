{
 "cells": [
  {
   "cell_type": "code",
   "execution_count": null,
   "id": "db2de416",
   "metadata": {},
   "outputs": [],
   "source": [
    "# CSV data fromat\n",
    "# name,age,roll number\n",
    "# abc,25,1234\n",
    "# bcd,21,1235"
   ]
  },
  {
   "cell_type": "code",
   "execution_count": 46,
   "id": "9b961c2f",
   "metadata": {},
   "outputs": [
    {
     "name": "stdout",
     "output_type": "stream",
     "text": [
      "<_csv.reader object at 0x1051af200>\n",
      "['name', 'age', 'roll number']\n",
      "['abc', '21', '1234']\n",
      "['ghi', '27', '1238']\n"
     ]
    }
   ],
   "source": [
    "import csv\n",
    "\n",
    "# Reading the CSV file\n",
    "csv_file = open('csv_data.csv','r')\n",
    "csv_file_data = csv.reader(csv_file)\n",
    "\n",
    "# with open('csv_data.csv','r') as csv_file:\n",
    "#     csv_file_data = csv.reader(csv_file)\n",
    "\n",
    "print(csv_file_data)\n",
    "\n",
    "# print(csv_file_data.__next__())\n",
    "# print(csv_file_data.__next__())\n",
    "# print(csv_file_data.__next__())\n",
    "# print(csv_file_data.__next__())\n",
    "# print(csv_file_data.__next__())\n",
    "\n",
    "for row in csv_file_data:\n",
    "    print(row)\n",
    "\n",
    "csv_file.close()"
   ]
  },
  {
   "cell_type": "code",
   "execution_count": 45,
   "id": "4b6ad2dc",
   "metadata": {},
   "outputs": [],
   "source": [
    "import csv\n",
    "\n",
    "# Writing the CSV file\n",
    "csv_file = open('csv_data.csv','w+')\n",
    "wrtite_csv_file_data = csv.writer(csv_file)\n",
    "\n",
    "row = ['ghi', '27', '1238']\n",
    "rows = [['name','age','roll number'],['abc', '21', '1234'],['ghi', '27', '1238']]\n",
    "# wrtite_csv_file_data.writerow(row)\n",
    "wrtite_csv_file_data.writerows(rows)\n",
    "csv_file.close()"
   ]
  },
  {
   "cell_type": "code",
   "execution_count": 49,
   "id": "c230a7df",
   "metadata": {},
   "outputs": [],
   "source": [
    "import csv\n",
    "\n",
    "# Appending data into CSV file\n",
    "csv_file = open('csv_data.csv','a+')\n",
    "wrtite_csv_file_data = csv.writer(csv_file)\n",
    "\n",
    "row = ['XYZ', '25', '1239']\n",
    "rows = [['name','age','roll number'],['abc', '21', '1234'],['ghi', '27', '1238']]\n",
    "# wrtite_csv_file_data.writerow(row)\n",
    "wrtite_csv_file_data.writerows(rows)\n",
    "\n",
    "csv_file.close()"
   ]
  },
  {
   "cell_type": "code",
   "execution_count": 50,
   "id": "6788ebd9",
   "metadata": {},
   "outputs": [
    {
     "name": "stdout",
     "output_type": "stream",
     "text": [
      "<_csv.reader object at 0x1051af4a0>\n",
      "['name', 'age', 'roll number']\n",
      "['abc', '21', '1234']\n",
      "['ghi', '27', '1238']\n",
      "['XYZ', '25', '1239']\n",
      "['name', 'age', 'roll number']\n",
      "['abc', '21', '1234']\n",
      "['ghi', '27', '1238']\n"
     ]
    }
   ],
   "source": [
    "import csv\n",
    "\n",
    "# Reading the CSV file\n",
    "csv_file = open('csv_data.csv','r')\n",
    "csv_file_data = csv.reader(csv_file)\n",
    "\n",
    "# with open('csv_data.csv','r') as csv_file:\n",
    "#     csv_file_data = csv.reader(csv_file)\n",
    "\n",
    "print(csv_file_data)\n",
    "\n",
    "# print(csv_file_data.__next__())\n",
    "# print(csv_file_data.__next__())\n",
    "# print(csv_file_data.__next__())\n",
    "# print(csv_file_data.__next__())\n",
    "# print(csv_file_data.__next__())\n",
    "\n",
    "for row in csv_file_data:\n",
    "    print(row)\n",
    "    \n",
    "csv_file.close()"
   ]
  },
  {
   "cell_type": "markdown",
   "id": "f7136e66",
   "metadata": {},
   "source": [
    "row1 = ['ghi', '27', '1238']\n",
    "row2 = ['abc', '21', '1234']\n",
    "row3 = ['ghi', '27', '1238']\n",
    "rows = [row1,row2,row3]\n",
    "\n",
    "writerows(rows)\n",
    "\n",
    "for row in rows:\n",
    "    writerow(row)"
   ]
  },
  {
   "cell_type": "code",
   "execution_count": 107,
   "id": "59a7f4b3",
   "metadata": {},
   "outputs": [
    {
     "name": "stdout",
     "output_type": "stream",
     "text": [
      "[{'color': 'white', 'value': '#fff'}, {'color': 'red', 'value': '#fff'}]\n"
     ]
    }
   ],
   "source": [
    "#JSON \n",
    "import json\n",
    "\n",
    "json_file = open('json_data.json')\n",
    "json_file_data = json.load(json_file)\n",
    "print((json_file_data))\n",
    "json_file.close()"
   ]
  },
  {
   "cell_type": "code",
   "execution_count": 137,
   "id": "57edfd01",
   "metadata": {},
   "outputs": [],
   "source": [
    "json_write_data=[{\"color\": \"white\", \"value\": \"#fff\"}]\n",
    "json_file = open(\"json_data.json\", \"w+\")\n",
    "json.dump(json_write_data,json_file,indent=4,sort_keys=True)\n",
    "json_file.close()"
   ]
  },
  {
   "cell_type": "code",
   "execution_count": 138,
   "id": "44b52d91",
   "metadata": {},
   "outputs": [
    {
     "name": "stdout",
     "output_type": "stream",
     "text": [
      "[{'color': 'white', 'value': '#fff'}]\n"
     ]
    }
   ],
   "source": [
    "json_file = open('json_data.json','r')\n",
    "json_file_data = json.load(json_file)\n",
    "print((json_file_data))\n",
    "json_file.close()\n",
    "json_append_data={\"color\": \"red\", \"value\": \"#fff\"}\n",
    "json_file_data.append(json_append_data)\n",
    "\n",
    "json_file = open(\"json_data.json\", \"w+\")\n",
    "json.dump(json_file_data,json_file,indent=4,sort_keys=True)\n",
    "json_file.close()"
   ]
  },
  {
   "cell_type": "code",
   "execution_count": 139,
   "id": "58774981",
   "metadata": {},
   "outputs": [
    {
     "name": "stdout",
     "output_type": "stream",
     "text": [
      "[{'color': 'white', 'value': '#fff'}, {'color': 'red', 'value': '#fff'}]\n"
     ]
    }
   ],
   "source": [
    "json_file = open('json_data.json','r+')\n",
    "json_file_data = json.load(json_file)\n",
    "print((json_file_data))\n",
    "json_file.close()"
   ]
  },
  {
   "cell_type": "code",
   "execution_count": null,
   "id": "917dab89",
   "metadata": {},
   "outputs": [],
   "source": [
    "#XML file handling"
   ]
  },
  {
   "cell_type": "code",
   "execution_count": 2,
   "id": "16314bbb",
   "metadata": {},
   "outputs": [
    {
     "name": "stdout",
     "output_type": "stream",
     "text": [
      "<xml.etree.ElementTree.ElementTree object at 0x103b3d700>\n",
      "<Element 'to' at 0x103c108b0> {} Tove\n",
      "<Element 'from' at 0x103c10860> {'type': 'user_mail'} Jani\n",
      "<Element 'heading' at 0x103c10900> {} Reminder\n",
      "<Element 'body' at 0x103c10950> {} Don't forget me this weekend!\n"
     ]
    }
   ],
   "source": [
    "# from xml.etree import ElementTree\n",
    "import xml.etree.ElementTree as et # import pandas as pd\n",
    "\n",
    "tree = et.parse('xml_data.xml')\n",
    "print(tree)\n",
    "\n",
    "root = tree.getroot()\n",
    "# print(root)\n",
    "\n",
    "for r in root:\n",
    "    print(r, r.attrib, r.text)\n"
   ]
  },
  {
   "cell_type": "code",
   "execution_count": 4,
   "id": "82200f03",
   "metadata": {},
   "outputs": [
    {
     "data": {
      "text/plain": [
       "159"
      ]
     },
     "execution_count": 4,
     "metadata": {},
     "output_type": "execute_result"
    }
   ],
   "source": [
    "data = et.Element(\"note\")\n",
    "\n",
    "element1 = et.SubElement(data, 'to')\n",
    "# element1.set('type', 'whome')\n",
    "# element1.text = 'Tove'\n",
    "# sub_element1 = et.SubElement(elemte1,'name')\n",
    "element1.text = 'Vishnu'\n",
    "\n",
    "element2 = et.SubElement(data, 'from')\n",
    "element2.set('type', 'user_mail')\n",
    "element2.text = 'Dipesh'\n",
    "\n",
    "element3 = et.SubElement(data, 'heading')\n",
    "element3.text = 'Reminder'\n",
    "\n",
    "element4 = et.SubElement(data, 'body')\n",
    "element4.text = \"Don't forget to practice question and watch recordings!\"\n",
    "\n",
    "xml_write_data = et.tostring(data)\n",
    "\n",
    "# for writing open the file in wite binary mode\n",
    "\n",
    "xml_file = open('xm_data_2.xml','wb')\n",
    "xml_file.write(xml_write_data)"
   ]
  },
  {
   "cell_type": "code",
   "execution_count": 3,
   "id": "00b985d7",
   "metadata": {},
   "outputs": [
    {
     "name": "stdout",
     "output_type": "stream",
     "text": [
      "<xml.etree.ElementTree.ElementTree object at 0x103b3dfd0>\n",
      "<Element 'to' at 0x103b543b0> {} Vishnu\n",
      "<Element 'from' at 0x103b544a0> {'type': 'user_mail'} Dipesh\n",
      "<Element 'heading' at 0x103b541d0> {} Reminder\n",
      "<Element 'body' at 0x103b54400> {} Don't forget to practice question and watch recordings!\n"
     ]
    }
   ],
   "source": [
    "tree = et.parse('xm_data_2.xml')\n",
    "print(tree)\n",
    "\n",
    "root = tree.getroot()\n",
    "# print(root)\n",
    "\n",
    "for r in root:\n",
    "    print(r, r.attrib, r.text)"
   ]
  }
 ],
 "metadata": {
  "kernelspec": {
   "display_name": "Python 3 (ipykernel)",
   "language": "python",
   "name": "python3"
  },
  "language_info": {
   "codemirror_mode": {
    "name": "ipython",
    "version": 3
   },
   "file_extension": ".py",
   "mimetype": "text/x-python",
   "name": "python",
   "nbconvert_exporter": "python",
   "pygments_lexer": "ipython3",
   "version": "3.9.7"
  }
 },
 "nbformat": 4,
 "nbformat_minor": 5
}
