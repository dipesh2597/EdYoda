{
 "cells": [
  {
   "cell_type": "code",
   "execution_count": 46,
   "id": "bfad63f7",
   "metadata": {},
   "outputs": [
    {
     "name": "stdout",
     "output_type": "stream",
     "text": [
      "['ghi', '27', '1238'] <class 'list'>\n",
      "['XYZ', '25', '1239'] <class 'list'>\n"
     ]
    }
   ],
   "source": [
    "import csv\n",
    "\n",
    "file = open('csv_data.csv','r')\n",
    "# rows=file.readlines()\n",
    "# print(rows,type(rows))\n",
    "\n",
    "#read csv_data\n",
    "csv_data = csv.reader(file)\n",
    "# csv_data_delimiter = csv.reader(file, delimiter = \"\\t\")\n",
    "# print(csv_data)\n",
    "\n",
    "# print(next(csv_data),next(csv_data_delimiter))\n",
    "# name,age,roll = next(csv_data)\n",
    "# for row in csv_data:\n",
    "#     print(row,type(row))\n",
    "# print(\"Next without none: \",next(csv_data))  \n",
    "# print(\"Next with none: \",next(csv_data, None)) \n",
    "#csv_data = [['name','age','roll'],['abc',21,'ghfcs123'],['abc',21,'ghfcs123']]\n",
    "next(csv_data)\n",
    "# csv_data = [['abc',21,'ghfcs123'],['abc',21,'ghfcs123']]\n",
    "next(csv_data)\n",
    "# csv_data = [['abc',21,'ghfcs123']]\n",
    "\n",
    "\n",
    "for row in csv_data:\n",
    "    print(row,type(row))\n",
    "#     save_student(row[0],row[1],row[2]) # will save the student"
   ]
  },
  {
   "cell_type": "code",
   "execution_count": 47,
   "id": "e47237ab",
   "metadata": {},
   "outputs": [
    {
     "name": "stdout",
     "output_type": "stream",
     "text": [
      "['name', 'age', 'roll number']\n"
     ]
    }
   ],
   "source": [
    "#write csv\n",
    "file = open('csv_data_2.csv','w')\n",
    "\n",
    "csv_writer = csv.writer(file)\n",
    "\n",
    "#single row\n",
    "row = ['name','age','roll number']\n",
    "csv_writer.writerow(row)\n",
    "file.close()\n",
    "\n",
    "#reading for verification\n",
    "file = open('csv_data_2.csv','r')\n",
    "csv_data = csv.reader(file)\n",
    "\n",
    "for row in csv_data:\n",
    "    print(row)\n",
    "file.close()"
   ]
  },
  {
   "cell_type": "code",
   "execution_count": 76,
   "id": "a3733889",
   "metadata": {},
   "outputs": [
    {
     "name": "stdout",
     "output_type": "stream",
     "text": [
      "['name', 'age', 'roll number']\n",
      "['abc', '21', '123abc']\n"
     ]
    }
   ],
   "source": [
    "#write csv\n",
    "file = open('csv_data_2.csv','w')\n",
    "\n",
    "csv_writer = csv.writer(file)\n",
    "\n",
    "#mutliple rows\n",
    "rows = [['name','age','roll number'],['abc',21,'123abc']]\n",
    "csv_writer.writerows(rows) \n",
    "# for row in rows:\n",
    "#     csv_writer.writerow(row)\n",
    "file.close()\n",
    "\n",
    "#reading for verification\n",
    "file = open('csv_data_2.csv','r')\n",
    "csv_data = csv.reader(file)\n",
    "\n",
    "for row in csv_data:\n",
    "    print(row)\n",
    "    \n",
    "file.close()"
   ]
  },
  {
   "cell_type": "code",
   "execution_count": 56,
   "id": "54a6bcb6",
   "metadata": {},
   "outputs": [
    {
     "name": "stdout",
     "output_type": "stream",
     "text": [
      "['name', 'age', 'roll number']\n",
      "['abc', '21', '123abc']\n",
      "['bcs', '23', '123bcs']\n",
      "['def', '22', '123def']\n"
     ]
    }
   ],
   "source": [
    "file = open('csv_data_2.csv','a')\n",
    "\n",
    "csv_writer = csv.writer(file)\n",
    "\n",
    "#mutliple rows\n",
    "rows = [['bcs',23,'123bcs'],['def',22,'123def']]\n",
    "csv_writer.writerows(rows) \n",
    "# for row in rows:\n",
    "#     csv_writer.writerow(row)\n",
    "file.close()\n",
    "\n",
    "#reading for verification\n",
    "file = open('csv_data_2.csv','r')\n",
    "csv_data = csv.reader(file)\n",
    "\n",
    "for row in csv_data:\n",
    "    print(row)\n",
    "    \n",
    "file.close()"
   ]
  },
  {
   "cell_type": "code",
   "execution_count": 59,
   "id": "abfa3821",
   "metadata": {},
   "outputs": [
    {
     "name": "stdout",
     "output_type": "stream",
     "text": [
      "[{'color': 'white', 'value': '#fff'}, {'color': 'red', 'value': '#fff'}] <class 'list'>\n",
      "{'color': 'white', 'value': '#fff'} <class 'dict'>\n"
     ]
    }
   ],
   "source": [
    "import json\n",
    "file = open('json_data.json','r')\n",
    "json_data = json.load(file)\n",
    "print(json_data, type(json_data))\n",
    "print(json_data[0], type(json_data[0]))\n",
    "file.close()\n",
    "# load(), dump()"
   ]
  },
  {
   "cell_type": "code",
   "execution_count": 85,
   "id": "5c842b29",
   "metadata": {},
   "outputs": [
    {
     "name": "stdout",
     "output_type": "stream",
     "text": [
      "[{'age': 24, 'name': 'dipesh', 'role': 'SDE'}] <class 'list'>\n"
     ]
    }
   ],
   "source": [
    "import json\n",
    "json_write_data = [{\"name\":\"dipesh\",\"role\":\"SDE\",\"age\":24}]\n",
    "\n",
    "file = open('json_data_2.json','w')\n",
    "\n",
    "\n",
    "#json.dump(data,file,indent,sort_keys)\n",
    "json.dump(json_write_data,file,indent=4,sort_keys=True)\n",
    "file.close()\n",
    "\n",
    "file = open('json_data_2.json','r')\n",
    "json_data = json.load(file)\n",
    "print(json_data, type(json_data))\n",
    "file.close()"
   ]
  },
  {
   "cell_type": "code",
   "execution_count": 86,
   "id": "d3b739d9",
   "metadata": {},
   "outputs": [
    {
     "name": "stdout",
     "output_type": "stream",
     "text": [
      "[{'age': 24, 'name': 'dipesh', 'role': 'SDE'}, {'name': 'changed', 'role': 'SDE 2', 'age': 25}]\n"
     ]
    }
   ],
   "source": [
    "json_write_data_2 = {\"name\":\"changed\",\"role\":\"SDE 2\",\"age\":25}\n",
    "file = open('json_data_2.json','r')\n",
    "json_data = json.load(file)\n",
    "json_data.append(json_write_data_2)\n",
    "file.close()\n",
    "print(json_data)\n",
    "file = open('json_data_2.json','w')\n",
    "#json.dump(data,file,indent,sort_keys)\n",
    "json.dump(json_data,file,indent=4,sort_keys=True)\n",
    "file.close()\n"
   ]
  },
  {
   "cell_type": "code",
   "execution_count": 87,
   "id": "ed3eda08",
   "metadata": {},
   "outputs": [
    {
     "name": "stdout",
     "output_type": "stream",
     "text": [
      "[{'age': 24, 'name': 'dipesh', 'role': 'SDE'}, {'age': 25, 'name': 'changed', 'role': 'SDE 2'}] <class 'list'>\n"
     ]
    }
   ],
   "source": [
    "\n",
    "file = open('json_data_2.json','r')\n",
    "json_data = json.load(file)\n",
    "print(json_data, type(json_data))\n",
    "file.close()"
   ]
  },
  {
   "cell_type": "code",
   "execution_count": 94,
   "id": "831abe33",
   "metadata": {},
   "outputs": [
    {
     "name": "stdout",
     "output_type": "stream",
     "text": [
      "<xml.etree.ElementTree.ElementTree object at 0x1137e2fa0>\n",
      "<Element 'to' at 0x112ff91d0> {} Tove\n",
      "<Element 'from' at 0x113a13e00> {'type': 'user_mail'} Jani\n",
      "<Element 'heading' at 0x113a13f40> {} Reminder\n",
      "<Element 'body' at 0x113a13f90> {} Don't forget me this weekend!\n"
     ]
    }
   ],
   "source": [
    "import xml.etree.ElementTree as et\n",
    "# import pandas as pd\n",
    "\n",
    "tree = et.parse('xml_data.xml')\n",
    "print(tree)\n",
    "\n",
    "tree_root = tree.getroot()\n",
    "# print(tree_root)\n",
    "\n",
    "for root in tree_root:\n",
    "    print(root, root.attrib, root.text)"
   ]
  },
  {
   "cell_type": "code",
   "execution_count": 101,
   "id": "b396374c",
   "metadata": {},
   "outputs": [
    {
     "data": {
      "text/plain": [
       "148"
      ]
     },
     "execution_count": 101,
     "metadata": {},
     "output_type": "execute_result"
    }
   ],
   "source": [
    "import xml.etree.ElementTree as et\n",
    "\n",
    "tree = et.Element('Message')\n",
    "\n",
    "element1 = et.SubElement(tree, 'From')\n",
    "element1.set('sender','text')\n",
    "element1.text = \"Dipesh\"\n",
    "\n",
    "element2 = et.SubElement(tree, 'To')\n",
    "element2.text = \"Sravan\"\n",
    "\n",
    "element3 = et.SubElement(element2, 'Number')\n",
    "element3.text = \"1234567890\"\n",
    "\n",
    "element4 = et.SubElement(tree, 'Text')\n",
    "element4.text = \"Hey Sravan, Please watch the recording!!!\"\n",
    "\n",
    "\n",
    "data = et.tostring(tree)\n",
    "\n",
    "#for writing as xml we have to open file in binary mode\n",
    "file=open('xml_data_2.xml','wb')\n",
    "file.write(data)\n"
   ]
  },
  {
   "cell_type": "code",
   "execution_count": 102,
   "id": "070cd614",
   "metadata": {
    "scrolled": true
   },
   "outputs": [
    {
     "name": "stdout",
     "output_type": "stream",
     "text": [
      "<xml.etree.ElementTree.ElementTree object at 0x113b60760>\n",
      "<Element 'From' at 0x113c79f90> {'sender': 'text'} Dipesh\n",
      "<Element 'To' at 0x113c79f40> {} Sravan\n",
      "<Element 'Text' at 0x113a65770> {} Hey Sravan, Please watch the recording!!!\n"
     ]
    }
   ],
   "source": [
    "tree = et.parse('xml_data_2.xml')\n",
    "print(tree)\n",
    "\n",
    "tree_root = tree.getroot()\n",
    "# print(tree_root)\n",
    "\n",
    "for root in tree_root:\n",
    "    print(root, root.attrib, root.text)"
   ]
  },
  {
   "cell_type": "code",
   "execution_count": 106,
   "id": "61b1d692",
   "metadata": {},
   "outputs": [
    {
     "name": "stdout",
     "output_type": "stream",
     "text": [
      "[{'color': 'white', 'value': '#fff'}, {'color': 'red', 'value': '#fff'}] <class 'list'>\n",
      "{'color': 'white', 'value': '#fff'} <class 'dict'>\n",
      "[{\"color\": \"white\", \"value\": \"#fff\"}, {\"color\": \"red\", \"value\": \"#fff\"}]\n"
     ]
    },
    {
     "data": {
      "text/plain": [
       "[{'color': 'white', 'value': '#fff'}, {'color': 'red', 'value': '#fff'}]"
      ]
     },
     "execution_count": 106,
     "metadata": {},
     "output_type": "execute_result"
    }
   ],
   "source": [
    "import json\n",
    "file = open('json_data.json','r')\n",
    "json_data = json.load(file)\n",
    "print(json_data, type(json_data))\n",
    "print(json_data[0], type(json_data[0]))\n",
    "file.close()\n",
    "json_string = json.dumps(json_data)\n",
    "print(json_string)\n",
    "json.loads(json_string)"
   ]
  }
 ],
 "metadata": {
  "kernelspec": {
   "display_name": "Python 3 (ipykernel)",
   "language": "python",
   "name": "python3"
  },
  "language_info": {
   "codemirror_mode": {
    "name": "ipython",
    "version": 3
   },
   "file_extension": ".py",
   "mimetype": "text/x-python",
   "name": "python",
   "nbconvert_exporter": "python",
   "pygments_lexer": "ipython3",
   "version": "3.9.7"
  }
 },
 "nbformat": 4,
 "nbformat_minor": 5
}
