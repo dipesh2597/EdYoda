{
 "cells": [
  {
   "cell_type": "code",
   "execution_count": 6,
   "id": "b4aba122",
   "metadata": {},
   "outputs": [
    {
     "name": "stdout",
     "output_type": "stream",
     "text": [
      "5.0\n",
      "1.0\n",
      "0.7142857142857143\n",
      "0.8333333333333334\n",
      "1.6666666666666667\n",
      "Division of 5 by 0 is not possible because it is giving exception: division by zero\n",
      "1.0\n",
      "0.5555555555555556\n",
      "1.25\n"
     ]
    }
   ],
   "source": [
    "# Exception: Unwanted ternimation\n",
    "# Execution is getting stopped in middle of a program\n",
    "\n",
    "# Print the division of 5 with every elements of given list\n",
    "\n",
    "#handle the exception\n",
    "'''\n",
    "try:\n",
    "    code\n",
    "except:\n",
    "    code\n",
    "'''\n",
    "\n",
    "lis = [1,5,7,6,3,0,5,9,4]\n",
    "\n",
    "# for element in lis:\n",
    "#     try:\n",
    "#         print(\"Dividing 5 by \", element)\n",
    "#         print(5/element)\n",
    "#         print(\"division succeed\")\n",
    "#     except:\n",
    "#         print(f\"Division of 5 by {element} is not possible\")\n",
    "\n",
    "# file = open('filename','r')\n",
    "\n",
    "# with open('filename','r') as file:\n",
    "#     file.read()\n",
    "\n",
    "for element in lis:\n",
    "    try:\n",
    "        print(5/element)\n",
    "    except Exception as e:\n",
    "        print(f\"Division of 5 by {element} is not possible because it is giving exception: {e}\")\n"
   ]
  },
  {
   "cell_type": "code",
   "execution_count": null,
   "id": "011037ff",
   "metadata": {},
   "outputs": [],
   "source": [
    "# for student in students:\n",
    "#     try:\n",
    "#         avg = total_marks/total_assignments\n",
    "#     except:\n",
    "#         'missing'"
   ]
  },
  {
   "cell_type": "code",
   "execution_count": 8,
   "id": "6c495b0b",
   "metadata": {},
   "outputs": [
    {
     "name": "stdout",
     "output_type": "stream",
     "text": [
      "Enter your name: Dipesh\n",
      "Enter your age: 24\n",
      "Your name is: Dipesh, Your age is: 24\n"
     ]
    }
   ],
   "source": [
    "        \n",
    "#string formatiing\n",
    "\n",
    "name = input(\"Enter your name: \")\n",
    "age = input(\"Enter your age: \")\n",
    "\n",
    "# Your name is: <given_name>, Your age is: <given_age>\n",
    "# result = \"Your name is: {}, Your age is: {}\".format(name,age)\n",
    "result = f\"Your name is: {name}, Your age is: {age}\"\n",
    "print(result)"
   ]
  },
  {
   "cell_type": "code",
   "execution_count": 13,
   "id": "78765f94",
   "metadata": {},
   "outputs": [
    {
     "name": "stdout",
     "output_type": "stream",
     "text": [
      "abc\n",
      "cde\n"
     ]
    }
   ],
   "source": [
    "#generators: It returns iterable object with some extra buitlin functionalities\n",
    "#iterable/sequence object: Soemthing which you can iterate/go/get the element one by one\n",
    "\n",
    "my_str = 'dipesh'\n",
    "my_age = 12\n",
    "\n",
    "# for i in my_age:\n",
    "#     print(i)\n",
    "\n",
    "my_list = [1,2,5,('abc','cde'), 'edyoda']\n",
    "                  \n",
    "for elem in my_list[3]:\n",
    "    print(elem)"
   ]
  },
  {
   "cell_type": "code",
   "execution_count": 16,
   "id": "8a902c0e",
   "metadata": {},
   "outputs": [
    {
     "name": "stdout",
     "output_type": "stream",
     "text": [
      "0\n",
      "1\n",
      "2\n",
      "3\n",
      "4\n",
      "5\n",
      "6\n",
      "7\n",
      "8\n",
      "9\n"
     ]
    }
   ],
   "source": [
    "for i in range(0,10):\n",
    "    print(i) "
   ]
  },
  {
   "cell_type": "code",
   "execution_count": 20,
   "id": "dc80f030",
   "metadata": {},
   "outputs": [
    {
     "name": "stdout",
     "output_type": "stream",
     "text": [
      "1\n",
      "2\n",
      "3\n",
      "4\n",
      "5\n"
     ]
    }
   ],
   "source": [
    "\"\"\"\n",
    "Generator syntax\n",
    "def generator_name():\n",
    "    #return the value/object\n",
    "    yeild\n",
    "\"\"\"\n",
    "\n",
    "def first_five_positive_integers_generator():\n",
    "    #return the value/object\n",
    "#     print(\"before return\")\n",
    "#     return 0\n",
    "#     print(\"after return\")\n",
    "\n",
    "#     yield 1\n",
    "#     yield 2\n",
    "#     yield 3\n",
    "#     yield 4\n",
    "#     yield 5\n",
    "\n",
    "    for i in range(1,6):\n",
    "        yield i\n",
    "    \n",
    "# print(first_five_positive_integers_generator())\n",
    "five_ints=first_five_positive_integers_generator()\n",
    "\n",
    "for i in five_ints:\n",
    "    print(i)"
   ]
  },
  {
   "cell_type": "code",
   "execution_count": 22,
   "id": "d004e009",
   "metadata": {},
   "outputs": [
    {
     "name": "stdout",
     "output_type": "stream",
     "text": [
      "first_row\n",
      "second_row\n",
      "third_row\n"
     ]
    }
   ],
   "source": [
    "def get_rows():\n",
    "    csv_data = ['first_row','second_row','third_row']\n",
    "    \n",
    "#     yield csv_data[0]\n",
    "#     yield csv_data[1]\n",
    "#     yield csv_data[2]\n",
    "    \n",
    "    for row in csv_data:\n",
    "        yield row\n",
    "        \n",
    "rows = get_rows()\n",
    "\n",
    "for row in rows:\n",
    "    print(row)"
   ]
  },
  {
   "cell_type": "code",
   "execution_count": 23,
   "id": "63be7ede",
   "metadata": {},
   "outputs": [
    {
     "name": "stdout",
     "output_type": "stream",
     "text": [
      "Outer function return statement\n"
     ]
    }
   ],
   "source": [
    "def outer_funct():\n",
    "    return \"Outer function return statement\"\n",
    "\n",
    "def nested_outer_function():\n",
    "    return outer_funct()\n",
    "\n",
    "print(nested_outer_function())"
   ]
  },
  {
   "cell_type": "code",
   "execution_count": 28,
   "id": "f2afaa6f",
   "metadata": {},
   "outputs": [
    {
     "name": "stdout",
     "output_type": "stream",
     "text": [
      "******************************\n",
      "%%%%%%%%%%%%%%%%%%%%%%%%%%%%%%\n",
      "Decorator are beautiful\n",
      "%%%%%%%%%%%%%%%%%%%%%%%%%%%%%%\n",
      "******************************\n"
     ]
    }
   ],
   "source": [
    "def star(func):\n",
    "    def inner(arg):\n",
    "        print(\"*\"*30)\n",
    "        func(arg)\n",
    "        print(\"*\"*30)\n",
    "    return inner\n",
    "\n",
    "def percent(func):\n",
    "    def inner(arg):\n",
    "        print(\"%\"*30)\n",
    "        func(arg)\n",
    "        print(\"%\"*30)\n",
    "    return inner\n",
    "\n",
    "@star\n",
    "@percent\n",
    "def printer(msg): # star(printer(msg)) => percent(printer(msg))\n",
    "    print(msg)\n",
    "printer(\"Decorator are beautiful\")"
   ]
  }
 ],
 "metadata": {
  "kernelspec": {
   "display_name": "Python 3 (ipykernel)",
   "language": "python",
   "name": "python3"
  },
  "language_info": {
   "codemirror_mode": {
    "name": "ipython",
    "version": 3
   },
   "file_extension": ".py",
   "mimetype": "text/x-python",
   "name": "python",
   "nbconvert_exporter": "python",
   "pygments_lexer": "ipython3",
   "version": "3.9.7"
  }
 },
 "nbformat": 4,
 "nbformat_minor": 5
}
