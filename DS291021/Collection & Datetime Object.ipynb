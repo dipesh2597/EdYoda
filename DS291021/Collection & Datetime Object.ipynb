{
 "cells": [
  {
   "cell_type": "code",
   "execution_count": 13,
   "id": "d0390146",
   "metadata": {},
   "outputs": [
    {
     "name": "stdout",
     "output_type": "stream",
     "text": [
      "deque([1, 2, 3, 4]) <class 'collections.deque'>\n",
      "deque([1, 2, 3, 4, 5])\n",
      "deque([0, 1, 2, 3, 4, 5])\n",
      "5 deque([0, 1, 2, 3, 4])\n",
      "deque([1, 2, 3, 4])\n"
     ]
    }
   ],
   "source": [
    "# add an element in list at start from left\n",
    "lis = [1,2,3,4]\n",
    "lis.append(0)\n",
    "# print(lis)\n",
    "\n",
    "#Deque: it special type of list/queue with some extar/special methods availabel\n",
    "from collections import deque\n",
    "my_deq = deque([1,2,3,4])\n",
    "print(my_deq, type(my_deq))\n",
    "\n",
    "my_deq.append(5)\n",
    "print(my_deq)\n",
    "\n",
    "my_deq.appendleft(0)\n",
    "print(my_deq)\n",
    "\n",
    "last_elem = my_deq.pop()\n",
    "print(last_elem, my_deq)\n",
    "\n",
    "first_elem = my_deq.popleft()\n",
    "print( my_deq)"
   ]
  },
  {
   "cell_type": "code",
   "execution_count": 20,
   "id": "5369286f",
   "metadata": {},
   "outputs": [
    {
     "name": "stdout",
     "output_type": "stream",
     "text": [
      "{1: 3, 2: 3, 3: 1, 4: 1}\n",
      "Counter's result:  Counter({1: 3, 2: 3, 3: 1, 4: 1}) 0\n"
     ]
    }
   ],
   "source": [
    "#Counter: IT given occurence of each elelment in an iterable as dictioanry\n",
    "# count occurence of list\n",
    "lis = [1,2,1,2,2,3,4,1]\n",
    "#output = {1:3,2:3,3:1,4:1}\n",
    "\n",
    "result = {}\n",
    "\n",
    "for i in lis:\n",
    "    if i in result:\n",
    "        result[i]+=1\n",
    "    else:\n",
    "        result[i]=1\n",
    "        \n",
    "print(result)\n",
    "\n",
    "from collections import Counter\n",
    "counter_result = Counter(lis)\n",
    "print(\"Counter's result: \", counter_result, counter_result[100])"
   ]
  },
  {
   "cell_type": "code",
   "execution_count": 29,
   "id": "4fd9268f",
   "metadata": {},
   "outputs": [
    {
     "name": "stdout",
     "output_type": "stream",
     "text": [
      "<class 'collections.OrderedDict'>\n",
      "OrderedDict([('a', 96), ('b', 97), ('c', 98)]) 96\n",
      "OrderedDict([('b', 97), ('c', 98)])\n",
      "OrderedDict([('b', 97), ('c', 98), ('a', 1)])\n",
      "OrderedDict([('new_key', 'value'), ('b', 97), ('c', 98), ('a', 1)])\n"
     ]
    }
   ],
   "source": [
    "# OrderedDict\n",
    "from collections import OrderedDict\n",
    "\n",
    "ord_dic = OrderedDict()\n",
    "print(type(ord_dic))\n",
    "\n",
    "ord_dic['a']=96\n",
    "ord_dic['b']=97\n",
    "ord_dic['c']=98\n",
    "\n",
    "print(ord_dic, ord_dic['a'])\n",
    "\n",
    "ord_dic.pop('a')\n",
    "print(ord_dic)\n",
    "ord_dic['a']=1\n",
    "print(ord_dic)\n",
    "\n",
    "#add at start\n",
    "new_dic=OrderedDict()\n",
    "new_dic['new_key']='value'\n",
    "for key in ord_dic:\n",
    "    new_dic[key]=ord_dic[key]\n",
    "print(new_dic)"
   ]
  },
  {
   "cell_type": "code",
   "execution_count": 36,
   "id": "ff8f1f6e",
   "metadata": {},
   "outputs": [
    {
     "name": "stdout",
     "output_type": "stream",
     "text": [
      "ChainMap({'a': 1, 'b': 2}, {'c': 1, 'd': 3, 'a': 100})\n",
      "1\n",
      "ChainMap({'c': 1, 'd': 3, 'a': 100}, {'a': 1, 'b': 2})\n",
      "100\n"
     ]
    }
   ],
   "source": [
    "#ChainMap: it binds mutiple dictionaries together\n",
    "from collections import ChainMap\n",
    "d1 = {'a':1,'b':2}\n",
    "d2 = {'c':1,'d':3,'a':100}\n",
    "\n",
    "combined=ChainMap(d1,d2)\n",
    "print(combined)\n",
    "print(combined['a'])\n",
    "# d1+d2 = def __add__():return result\n",
    "combined_new=ChainMap(d2,d1)\n",
    "print(combined_new)\n",
    "print(combined_new['a'])"
   ]
  },
  {
   "cell_type": "code",
   "execution_count": 51,
   "id": "fcea4e48",
   "metadata": {},
   "outputs": [
    {
     "name": "stdout",
     "output_type": "stream",
     "text": [
      "2021-12-20 19:30:00\n",
      "2021-12-20 19:30:00 <class 'str'>\n",
      "2021-12-20 19:30:00 <class 'datetime.datetime'>\n",
      "2021\n",
      "today's date: 2021-12-25 20:36:57.174216 2021-12-25 20:36:57.174225\n",
      "2021/12/20 19:30:00 <class 'str'>\n"
     ]
    }
   ],
   "source": [
    "from datetime import datetime\n",
    "#datetime(yyyy,mm,dd,hh,mm,ss)\n",
    "date = datetime(2021,12,20,19,30,00)\n",
    "print(date)\n",
    "date_str = \"2021-12-20 19:30:00\"\n",
    "print(date_str, type(date_str))\n",
    "\n",
    "# for more formats of strptime refer this python document \n",
    "# link --> https://docs.python.org/3/library/datetime.html#strftime-and-strptime-behavior\n",
    "date_obj = datetime.strptime(date_str,\"%Y-%m-%d %H:%M:%S\")\n",
    "print(date_obj, type(date_obj))\n",
    "\n",
    "print(date_obj.year)\n",
    "\n",
    "print(\"today's date:\", datetime.today(), datetime.now())\n",
    "\n",
    "date_str_from_date_obj = date_obj.strftime(\"%Y/%m/%d %H:%M:%S\")\n",
    "print(date_str_from_date_obj, type(date_str_from_date_obj))"
   ]
  }
 ],
 "metadata": {
  "kernelspec": {
   "display_name": "Python 3 (ipykernel)",
   "language": "python",
   "name": "python3"
  },
  "language_info": {
   "codemirror_mode": {
    "name": "ipython",
    "version": 3
   },
   "file_extension": ".py",
   "mimetype": "text/x-python",
   "name": "python",
   "nbconvert_exporter": "python",
   "pygments_lexer": "ipython3",
   "version": "3.9.7"
  }
 },
 "nbformat": 4,
 "nbformat_minor": 5
}
