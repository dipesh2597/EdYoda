{
 "cells": [
  {
   "cell_type": "code",
   "execution_count": 46,
   "id": "fab354cc",
   "metadata": {},
   "outputs": [
    {
     "name": "stdout",
     "output_type": "stream",
     "text": [
      "['ghi', '27', '1238'] <class 'list'>\n",
      "['XYZ', '25', '1239'] <class 'list'>\n"
     ]
    }
   ],
   "source": [
    "import csv\n",
    "\n",
    "file = open('csv_data.csv','r')\n",
    "# rows=file.readlines()\n",
    "# print(rows,type(rows))\n",
    "\n",
    "#read csv_data\n",
    "csv_data = csv.reader(file)\n",
    "# csv_data_delimiter = csv.reader(file, delimiter = \"\\t\")\n",
    "# print(csv_data)\n",
    "\n",
    "# print(next(csv_data),next(csv_data_delimiter))\n",
    "# name,age,roll = next(csv_data)\n",
    "# for row in csv_data:\n",
    "#     print(row,type(row))\n",
    "# print(\"Next without none: \",next(csv_data))  \n",
    "# print(\"Next with none: \",next(csv_data, None)) \n",
    "#csv_data = [['name','age','roll'],['abc',21,'ghfcs123'],['abc',21,'ghfcs123']]\n",
    "next(csv_data)\n",
    "# csv_data = [['abc',21,'ghfcs123'],['abc',21,'ghfcs123']]\n",
    "next(csv_data)\n",
    "# csv_data = [['abc',21,'ghfcs123']]\n",
    "\n",
    "\n",
    "for row in csv_data:\n",
    "    print(row,type(row))\n",
    "#     save_student(row[0],row[1],row[2]) # will save the student"
   ]
  },
  {
   "cell_type": "code",
   "execution_count": 47,
   "id": "4a694418",
   "metadata": {},
   "outputs": [
    {
     "name": "stdout",
     "output_type": "stream",
     "text": [
      "['name', 'age', 'roll number']\n"
     ]
    }
   ],
   "source": [
    "#write csv\n",
    "file = open('csv_data_2.csv','w')\n",
    "\n",
    "csv_writer = csv.writer(file)\n",
    "\n",
    "#single row\n",
    "row = ['name','age','roll number']\n",
    "csv_writer.writerow(row)\n",
    "file.close()\n",
    "\n",
    "#reading for verification\n",
    "file = open('csv_data_2.csv','r')\n",
    "csv_data = csv.reader(file)\n",
    "\n",
    "for row in csv_data:\n",
    "    print(row)\n",
    "file.close()"
   ]
  },
  {
   "cell_type": "code",
   "execution_count": 53,
   "id": "2efdd484",
   "metadata": {},
   "outputs": [
    {
     "name": "stdout",
     "output_type": "stream",
     "text": [
      "['name', 'age', 'roll number']\n",
      "['abc', '21', '123abc']\n"
     ]
    }
   ],
   "source": [
    "#write csv\n",
    "file = open('csv_data_2.csv','w')\n",
    "\n",
    "csv_writer = csv.writer(file)\n",
    "\n",
    "#mutliple rows\n",
    "rows = [['name','age','roll number'],['abc',21,'123abc']]\n",
    "csv_writer.writerows(rows) \n",
    "# for row in rows:\n",
    "#     csv_writer.writerow(row)\n",
    "file.close()\n",
    "\n",
    "#reading for verification\n",
    "file = open('csv_data_2.csv','r')\n",
    "csv_data = csv.reader(file)\n",
    "file.close()\n",
    "\n",
    "for row in csv_data:\n",
    "    print(row)\n",
    "\n"
   ]
  }
 ],
 "metadata": {
  "kernelspec": {
   "display_name": "Python 3 (ipykernel)",
   "language": "python",
   "name": "python3"
  },
  "language_info": {
   "codemirror_mode": {
    "name": "ipython",
    "version": 3
   },
   "file_extension": ".py",
   "mimetype": "text/x-python",
   "name": "python",
   "nbconvert_exporter": "python",
   "pygments_lexer": "ipython3",
   "version": "3.9.7"
  }
 },
 "nbformat": 4,
 "nbformat_minor": 5
}
