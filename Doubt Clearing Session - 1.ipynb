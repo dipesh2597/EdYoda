{
 "cells": [
  {
   "cell_type": "code",
   "execution_count": 6,
   "id": "87c425a4",
   "metadata": {},
   "outputs": [
    {
     "name": "stdout",
     "output_type": "stream",
     "text": [
      "[1, 2]\n",
      "1\n"
     ]
    }
   ],
   "source": [
    "l = [1,2,4,8,10]\n",
    "d={'key':1,'key2':2}\n",
    "print(l[0:2])\n",
    "print(d['key'])"
   ]
  },
  {
   "cell_type": "code",
   "execution_count": 8,
   "id": "8b3e45a9",
   "metadata": {
    "scrolled": true
   },
   "outputs": [
    {
     "name": "stdout",
     "output_type": "stream",
     "text": [
      "0 1\n",
      "1 2\n",
      "2 4\n",
      "3 8\n",
      "4 10\n"
     ]
    }
   ],
   "source": [
    "for index,elem in enumerate(l): # [(0,1),(1,2),(2,4),(3,8),(4,10)]\n",
    "    print(index, elem)"
   ]
  },
  {
   "cell_type": "code",
   "execution_count": 9,
   "id": "6b0dc4f6",
   "metadata": {},
   "outputs": [
    {
     "name": "stdout",
     "output_type": "stream",
     "text": [
      "[1, 2, 4, 8, 10]\n"
     ]
    }
   ],
   "source": [
    "my_list = l\n",
    "for index,current_element in enumerate(my_list): # range(0,6)\n",
    "#     current_element = my_list[index] # = 4 at index 0\n",
    "    for next_index, next_element in enumerate(my_list[index+1:]):\n",
    "#         next_element = my_list[next_index] \n",
    "        #1st iter nex_el = 7. 2nd iter nex-el= 2\n",
    "        if next_element < current_element:\n",
    "            my_list[index] = next_element # my_list[index] = my_list[next_index]\n",
    "            my_list[next_index] = current_element\n",
    "            #[2,7,4,8,1,0]\n",
    "            current_element=next_element\n",
    "\n",
    "print(my_list)          "
   ]
  },
  {
   "cell_type": "code",
   "execution_count": 29,
   "id": "5be6928e",
   "metadata": {
    "scrolled": true
   },
   "outputs": [
    {
     "name": "stdout",
     "output_type": "stream",
     "text": [
      "<enumerate object at 0x104b2c6c0>\n",
      "key\n",
      "key2\n",
      "0 key\n",
      "1 key2\n",
      "<class 'int'> <class 'tuple'>\n",
      "<class 'int'> <class 'tuple'>\n"
     ]
    }
   ],
   "source": [
    "print(enumerate(d))\n",
    "\n",
    "for key in d:\n",
    "    print(key)\n",
    "    \n",
    "for index, key in enumerate(d):\n",
    "    print(index,key)\n",
    "\n",
    "for index,element in enumerate(d.items()):\n",
    "    print(type(index),type(element))"
   ]
  },
  {
   "cell_type": "code",
   "execution_count": 27,
   "id": "23b1f5ac",
   "metadata": {
    "scrolled": true
   },
   "outputs": [
    {
     "name": "stdout",
     "output_type": "stream",
     "text": [
      "D\n",
      "i\n",
      "p\n",
      "e\n",
      "s\n",
      "h\n",
      "(0, 'D')\n",
      "(1, 'i')\n",
      "(2, 'p')\n",
      "(3, 'e')\n",
      "(4, 's')\n",
      "(5, 'h')\n",
      "upacked element 1 2\n",
      "<class 'int'> <class 'str'>\n",
      "<class 'int'> <class 'str'>\n",
      "<class 'int'> <class 'str'>\n",
      "<class 'int'> <class 'str'>\n",
      "<class 'int'> <class 'str'>\n",
      "<class 'int'> <class 'str'>\n"
     ]
    }
   ],
   "source": [
    "my_str = 'Dipesh'\n",
    "\n",
    "for element in my_str:\n",
    "    print(element)\n",
    "     \n",
    "for enumerate_ele in enumerate(my_str):\n",
    "    print(enumerate_ele)\n",
    "    \n",
    "for index, char in enumerate(my_str):\n",
    "    print(type(index), type(char))\n",
    "    \n",
    "my_tuple = (1,2)\n",
    "first_elem, second_elem = my_tuple\n",
    "print(\"upacked element\",first_elem,second_elem)\n",
    "\n",
    "# perform enumerate for list and dictionary now. For tuple and set is your HW\n"
   ]
  },
  {
   "cell_type": "code",
   "execution_count": 31,
   "id": "a7b4bcc3",
   "metadata": {},
   "outputs": [
    {
     "ename": "TypeError",
     "evalue": "'enumerate' object is not subscriptable",
     "output_type": "error",
     "traceback": [
      "\u001b[0;31m---------------------------------------------------------------------------\u001b[0m",
      "\u001b[0;31mTypeError\u001b[0m                                 Traceback (most recent call last)",
      "\u001b[0;32m/var/folders/ym/4gb57q5n5gn5kfxbrrhr785m0000gn/T/ipykernel_57665/1993607944.py\u001b[0m in \u001b[0;36m<module>\u001b[0;34m\u001b[0m\n\u001b[0;32m----> 1\u001b[0;31m \u001b[0mprint\u001b[0m\u001b[0;34m(\u001b[0m\u001b[0menumerate\u001b[0m\u001b[0;34m(\u001b[0m\u001b[0mmy_str\u001b[0m\u001b[0;34m)\u001b[0m\u001b[0;34m[\u001b[0m\u001b[0;36m0\u001b[0m\u001b[0;34m]\u001b[0m\u001b[0;34m)\u001b[0m\u001b[0;34m\u001b[0m\u001b[0;34m\u001b[0m\u001b[0m\n\u001b[0m",
      "\u001b[0;31mTypeError\u001b[0m: 'enumerate' object is not subscriptable"
     ]
    }
   ],
   "source": [
    "print(enumerate(my_str)[0])"
   ]
  },
  {
   "cell_type": "code",
   "execution_count": 45,
   "id": "4667dd45",
   "metadata": {},
   "outputs": [
    {
     "name": "stdout",
     "output_type": "stream",
     "text": [
      "0\n",
      "{5.0: 'five'}\n"
     ]
    }
   ],
   "source": [
    "a='str'\n",
    "print(a.index('s'))\n",
    "my_dict = {25/5:'five'}\n",
    "# all possible data type for a key in dictionary: \n",
    "# string, int, float, tuple, bool\n",
    "print(my_dict)"
   ]
  },
  {
   "cell_type": "code",
   "execution_count": 48,
   "id": "31cbb10c",
   "metadata": {},
   "outputs": [
    {
     "name": "stdout",
     "output_type": "stream",
     "text": [
      "for loop block starts\n",
      "inner block\n",
      "inner block last line\n",
      "inner block\n",
      "inner block last line\n",
      "inner block\n",
      "inner block last line\n",
      "last line of for loop block\n",
      "for loop block starts\n",
      "inner block\n",
      "inner block last line\n",
      "inner block\n",
      "inner block last line\n",
      "inner block\n",
      "inner block last line\n",
      "last line of for loop block\n",
      "out of the for loop\n"
     ]
    }
   ],
   "source": [
    "for i in 'st':\n",
    "    print(\"for loop block starts\")\n",
    "    #\n",
    "    #\n",
    "    #\n",
    "    for j in 'str':\n",
    "        print(\"inner block\")\n",
    "        ##\n",
    "        ##\n",
    "        ##\n",
    "        print(\"inner block last line\")\n",
    "    #\n",
    "    #\n",
    "    #\n",
    "    print(\"last line of for loop block\")\n",
    "\n",
    "print(\"out of the for loop\")"
   ]
  },
  {
   "cell_type": "code",
   "execution_count": 9,
   "id": "985377d2",
   "metadata": {},
   "outputs": [],
   "source": [
    "import mod1"
   ]
  },
  {
   "cell_type": "code",
   "execution_count": 13,
   "id": "b308676c",
   "metadata": {},
   "outputs": [
    {
     "name": "stdout",
     "output_type": "stream",
     "text": [
      "('edyoda',)\n"
     ]
    }
   ],
   "source": [
    "a = ('edyoda',)\n",
    "print(a)"
   ]
  }
 ],
 "metadata": {
  "kernelspec": {
   "display_name": "Python 3 (ipykernel)",
   "language": "python",
   "name": "python3"
  },
  "language_info": {
   "codemirror_mode": {
    "name": "ipython",
    "version": 3
   },
   "file_extension": ".py",
   "mimetype": "text/x-python",
   "name": "python",
   "nbconvert_exporter": "python",
   "pygments_lexer": "ipython3",
   "version": "3.9.7"
  }
 },
 "nbformat": 4,
 "nbformat_minor": 5
}
