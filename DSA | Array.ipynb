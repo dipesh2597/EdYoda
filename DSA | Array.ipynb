{
 "cells": [
  {
   "cell_type": "markdown",
   "id": "e1dd1243",
   "metadata": {},
   "source": [
    "Data Structure:\n",
    "Data Structure is a way to organize the data in memory. It is a collection of data values, the relationship among them, some operations/method that can be applied on your data.\n",
    "example: my_list = [1,2,3,4,5]\n",
    "         reltionship = index values of each data vlaue/element should be incremental\n",
    "         operations = append(), insert(), pop()\n",
    "         \n",
    "list, tuple, int, str, dict are data structures available in python we can create our own data structures also\n",
    "         \n",
    "Algorithm: \n",
    "A step by step solution for a problem.\n",
    "\n",
    "Example:\n",
    "Problem: search 50 in given array = [1,4,5,6,7,8,10,20,30,40,50,60,70, -1, 0 , 2, 10, 25] if available print true else false.\n",
    "\n",
    "Solution:\n",
    "1. we will traverse the array.\n",
    "2. i = 0, N = lenght of array\n",
    "3. check is i greter than length of array\n",
    "4. if array[i] == 50 print true else repeat step 5 , 6\n",
    "5. increase value of i by 1\n",
    "6. go back to step 3\n",
    "7. print false\n",
    "\n"
   ]
  },
  {
   "cell_type": "code",
   "execution_count": 10,
   "id": "13419f3e",
   "metadata": {},
   "outputs": [
    {
     "name": "stdout",
     "output_type": "stream",
     "text": [
      "<class 'list'>\n",
      "<class 'array.array'>\n",
      "array('i', [1, 2, 3, 4, 5])\n",
      "<class 'array.array'>\n"
     ]
    }
   ],
   "source": [
    "import array as arr\n",
    "my_list = [1,'str', 5.0]\n",
    "print(type(my_list))\n",
    "\n",
    "# syntax arr.array(data_type, list_of_data_values)\n",
    "#creating an array\n",
    "my_arr = arr.array(\"i\", [1,2,3,4,5])\n",
    "print(type(my_arr[0]))\n",
    "print(my_arr)\n",
    "\n",
    "# creating an array\n",
    "my_arr2 = arr.array(\"d\", [1.0,2.5,3.6])\n",
    "print(type(my_arr2))\n",
    "\n"
   ]
  },
  {
   "cell_type": "code",
   "execution_count": 27,
   "id": "a432b758",
   "metadata": {},
   "outputs": [
    {
     "name": "stdout",
     "output_type": "stream",
     "text": [
      "acessing element by index:  10\n",
      "Traversing\n",
      "0 10\n",
      "1 20\n",
      "2 30\n",
      "3 40\n",
      "4 50\n",
      "Searching\n",
      "Index value of 20 in my arr:  1\n",
      "Insertion\n",
      "My arr after insertion:  array('i', [10, 20, 200, 30, 40, 50])\n",
      "Updation\n",
      "My arr after updation:  array('i', [100, 20, 200, 30, 40, 50])\n",
      "Deletion\n",
      "My arr after deletion:  array('i', [20, 200, 30, 40, 50])\n",
      "array('i', [20, 200, 30, 40, 50, 0, 1, 2])\n"
     ]
    }
   ],
   "source": [
    "my_arr = arr.array(\"i\", [10,20,30,40,50])\n",
    "\n",
    "#acessing element by index\n",
    "print(\"acessing element by index: \",my_arr[0])\n",
    "\n",
    "#traversing:\n",
    "print(\"Traversing\")\n",
    "for i in range(len(my_arr)):\n",
    "    print(i, my_arr[i])\n",
    "    \n",
    "print(\"Searching\")\n",
    "print(\"Index value of 20 in my arr: \",my_arr.index(20))\n",
    "# my_arr.search(20)\n",
    "\n",
    "print(\"Insertion\")\n",
    "my_arr.insert(2,200)\n",
    "print(\"My arr after insertion: \", my_arr)\n",
    "\n",
    "print(\"Updation\")\n",
    "my_arr[0] = 100\n",
    "print(\"My arr after updation: \", my_arr)\n",
    "\n",
    "print(\"Deletion\")\n",
    "my_arr.remove(100)\n",
    "print(\"My arr after deletion: \", my_arr)\n",
    "\n",
    "my_arr2 = arr.array(\"i\", [0,1,2])\n",
    "my_arr.extend(my_arr2)\n",
    "print(my_arr)"
   ]
  },
  {
   "cell_type": "code",
   "execution_count": 23,
   "id": "2436d6c6",
   "metadata": {},
   "outputs": [
    {
     "name": "stdout",
     "output_type": "stream",
     "text": [
      "[1, 2, 3, 5, 6, 7]\n"
     ]
    }
   ],
   "source": [
    "a = [1,2,3]\n",
    "b = [5,6,7]\n",
    "c=a+b\n",
    "\n",
    "def __add__(self, list1,list2):\n",
    "    return result\n",
    "print(c)"
   ]
  },
  {
   "cell_type": "code",
   "execution_count": 34,
   "id": "43692ab4",
   "metadata": {},
   "outputs": [
    {
     "name": "stdout",
     "output_type": "stream",
     "text": [
      "array('i', [20, 200, 30, 40, 50, 0, 1, 2])\n",
      "hashed array:  -1070212610609621906 <class 'int'>\n",
      "hashed array:  -1440771752368011620 <class 'int'>\n"
     ]
    }
   ],
   "source": [
    "print(my_arr)\n",
    "\n",
    "hashed_arr1 = hash((1,3,4))\n",
    "hashed_arr2 = hash((1,3))\n",
    "\n",
    "'''\n",
    "sorting and sort()\n",
    "\n",
    "hashing: \n",
    "1. hashing (hash()) works on immutable data types\n",
    "2. It created a key value in memory that is hashed\n",
    "\n",
    "Popular user of hash\n",
    "SHA (secured hash algorithm)\n",
    "'''\n",
    "print(\"hashed array: \",hashed_arr1, type(hashed_arr1))\n",
    "print(\"hashed array: \",hashed_arr2, type(hashed_arr2))"
   ]
  },
  {
   "cell_type": "markdown",
   "id": "fdb812ff",
   "metadata": {},
   "source": [
    "Applications of array:\n",
    "1. Searching from a larger data set.\n",
    "2. Managing leader board.\n",
    "3. Managing the question paper with sequence of question and marks\n",
    "4. Manging multi-dimentional values"
   ]
  },
  {
   "cell_type": "code",
   "execution_count": 35,
   "id": "886b0b36",
   "metadata": {},
   "outputs": [
    {
     "name": "stdout",
     "output_type": "stream",
     "text": [
      "1 2 \n",
      "3 4 \n"
     ]
    }
   ],
   "source": [
    "multi_dim_array = [[1,2],[3,4]]\n",
    "\n",
    "for i in multi_dim_array:\n",
    "    for j in i:\n",
    "        print(j,end=\" \")\n",
    "    print()"
   ]
  }
 ],
 "metadata": {
  "kernelspec": {
   "display_name": "Python 3 (ipykernel)",
   "language": "python",
   "name": "python3"
  },
  "language_info": {
   "codemirror_mode": {
    "name": "ipython",
    "version": 3
   },
   "file_extension": ".py",
   "mimetype": "text/x-python",
   "name": "python",
   "nbconvert_exporter": "python",
   "pygments_lexer": "ipython3",
   "version": "3.9.7"
  }
 },
 "nbformat": 4,
 "nbformat_minor": 5
}
