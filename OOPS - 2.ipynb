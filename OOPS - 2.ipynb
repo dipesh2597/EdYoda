{
 "cells": [
  {
   "cell_type": "code",
   "execution_count": 31,
   "id": "d76fadf8",
   "metadata": {},
   "outputs": [
    {
     "ename": "AttributeError",
     "evalue": "'employee' object has no attribute 'salary'",
     "output_type": "error",
     "traceback": [
      "\u001b[0;31m---------------------------------------------------------------------------\u001b[0m",
      "\u001b[0;31mAttributeError\u001b[0m                            Traceback (most recent call last)",
      "\u001b[0;32m/var/folders/ym/4gb57q5n5gn5kfxbrrhr785m0000gn/T/ipykernel_11280/1402010206.py\u001b[0m in \u001b[0;36m<module>\u001b[0;34m\u001b[0m\n\u001b[1;32m     19\u001b[0m \u001b[0memp1\u001b[0m \u001b[0;34m=\u001b[0m \u001b[0memployee\u001b[0m\u001b[0;34m(\u001b[0m\u001b[0;34m'abc'\u001b[0m\u001b[0;34m,\u001b[0m\u001b[0;36m25\u001b[0m\u001b[0;34m,\u001b[0m\u001b[0;36m15000\u001b[0m\u001b[0;34m)\u001b[0m\u001b[0;34m\u001b[0m\u001b[0;34m\u001b[0m\u001b[0m\n\u001b[1;32m     20\u001b[0m \u001b[0memp2\u001b[0m \u001b[0;34m=\u001b[0m \u001b[0memployee\u001b[0m\u001b[0;34m(\u001b[0m\u001b[0;34m'bcd'\u001b[0m\u001b[0;34m,\u001b[0m\u001b[0;36m15\u001b[0m\u001b[0;34m,\u001b[0m\u001b[0;36m25000\u001b[0m\u001b[0;34m)\u001b[0m\u001b[0;34m\u001b[0m\u001b[0;34m\u001b[0m\u001b[0m\n\u001b[0;32m---> 21\u001b[0;31m \u001b[0memp1\u001b[0m\u001b[0;34m.\u001b[0m\u001b[0msalary\u001b[0m\u001b[0;34m\u001b[0m\u001b[0;34m\u001b[0m\u001b[0m\n\u001b[0m\u001b[1;32m     22\u001b[0m \u001b[0mprint\u001b[0m\u001b[0;34m(\u001b[0m\u001b[0memp1\u001b[0m\u001b[0;34m.\u001b[0m\u001b[0mage\u001b[0m\u001b[0;34m)\u001b[0m\u001b[0;34m\u001b[0m\u001b[0;34m\u001b[0m\u001b[0m\n\u001b[1;32m     23\u001b[0m \u001b[0mprint\u001b[0m\u001b[0;34m(\u001b[0m\u001b[0memp2\u001b[0m\u001b[0;34m.\u001b[0m\u001b[0mget_salary\u001b[0m\u001b[0;34m(\u001b[0m\u001b[0;34m)\u001b[0m\u001b[0;34m)\u001b[0m\u001b[0;34m\u001b[0m\u001b[0;34m\u001b[0m\u001b[0m\n",
      "\u001b[0;31mAttributeError\u001b[0m: 'employee' object has no attribute 'salary'"
     ]
    }
   ],
   "source": [
    "class employee:\n",
    "    \n",
    "    company_name = 'edyoda'\n",
    "    \n",
    "    def __init__(self,name,age,salary):\n",
    "        self.name=name\n",
    "        self.age=age\n",
    "        # how to make a attribute as a private attribute\n",
    "        self.__salary=salary # private attribute using __ before name\n",
    "        \n",
    "# #     option1\n",
    "#     def get_salary(self): #getter methods\n",
    "#         return self.__salary\n",
    "    \n",
    "#     def set_salary(self,new_salary): #setter methods\n",
    "#         self.__salary = new_salary\n",
    "    \n",
    "    \n",
    "emp1 = employee('abc',25,15000)\n",
    "emp2 = employee('bcd',15,25000)\n",
    "emp1.salary\n",
    "print(emp1.age)\n",
    "print(emp2.get_salary())\n",
    "print(\"setting the salary\")\n",
    "emp2.set_salary(50000)\n",
    "print(emp2.get_salary())\n"
   ]
  },
  {
   "cell_type": "code",
   "execution_count": 30,
   "id": "fff2dca6",
   "metadata": {
    "scrolled": true
   },
   "outputs": [
    {
     "name": "stdout",
     "output_type": "stream",
     "text": [
      "15\n",
      "getter for salary called\n",
      "25000\n",
      "setting the salary\n",
      "getter for salary called\n",
      "Salary is sensitive\n"
     ]
    }
   ],
   "source": [
    "class employee:\n",
    "    \n",
    "    company_name = 'edyoda'\n",
    "    \n",
    "    def __init__(self,name,age,salary):\n",
    "        self.name=name\n",
    "        self.age=age\n",
    "        # how to make a attribute as a private attribute\n",
    "        self.__salary=salary # private attribute using __ before name\n",
    "        \n",
    "    #option 2 using @property\n",
    "    @property\n",
    "    def salary(self): #getter\n",
    "        print(\"getter for salary called\")\n",
    "        if self.__salary<50000:\n",
    "            return self.__salary\n",
    "        else:\n",
    "            return \"Salary is sensitive\"\n",
    "    \n",
    "    @salary.setter\n",
    "    def salary(self,new_salary): #setter\n",
    "        self.__salary = new_salary\n",
    "\n",
    "emp2 = employee('bcd',15,25000)\n",
    "print(emp2.age)\n",
    "print(emp2.salary)\n",
    "print(\"setting the salary\")\n",
    "emp2.salary=50000\n",
    "print(emp2.salary)"
   ]
  },
  {
   "cell_type": "code",
   "execution_count": 49,
   "id": "07cfb78e",
   "metadata": {},
   "outputs": [
    {
     "name": "stdout",
     "output_type": "stream",
     "text": [
      "changing branch for std1\n",
      "changing branch for std2\n",
      "Not Eligible\n",
      "IT\n",
      "MECH\n"
     ]
    }
   ],
   "source": [
    "class student:\n",
    "    \n",
    "    def __init__(self,branch,cgpa):\n",
    "        self.cgpa=cgpa\n",
    "        # how to make a attribute as a private attribute\n",
    "        self.__branch=branch # private attribute using __ before name\n",
    "\n",
    "    def get_branch(self):\n",
    "        return self.__branch\n",
    "    \n",
    "    def set_branch(self,new_branch):\n",
    "        if self.cgpa > 7.5:\n",
    "            self.__branch = new_branch\n",
    "        else:\n",
    "            print(\"Not Eligible\")\n",
    "    \n",
    "    @property\n",
    "    def branch(self):\n",
    "        return self.__branch\n",
    "    \n",
    "    @branch.setter\n",
    "    def branch(self,new_branch):\n",
    "        if self.cgpa > 7.5:\n",
    "            self.__branch = new_branch\n",
    "        else:\n",
    "            print(\"Not Eligible\")\n",
    "    \n",
    "std1 = student('CIVIL',8)\n",
    "std2 = student(\"MECH\", 5)\n",
    "\n",
    "# std1.get_branch()\n",
    "std1.branch\n",
    "\n",
    "# print(\"changing branch for std1\")\n",
    "# std1.set_branch('IT')\n",
    "# print(\"changing branch for std2\")\n",
    "# std2.set_branch('IT')\n",
    "\n",
    "# print(std1.getbranch)\n",
    "# print(std2.getbranch)\n",
    "\n",
    "print(\"changing branch for std1\")\n",
    "std1.branch='IT'\n",
    "print(\"changing branch for std2\")\n",
    "std2.branch='IT'\n",
    "\n",
    "print(std1.branch)\n",
    "print(std2.branch)"
   ]
  }
 ],
 "metadata": {
  "kernelspec": {
   "display_name": "Python 3 (ipykernel)",
   "language": "python",
   "name": "python3"
  },
  "language_info": {
   "codemirror_mode": {
    "name": "ipython",
    "version": 3
   },
   "file_extension": ".py",
   "mimetype": "text/x-python",
   "name": "python",
   "nbconvert_exporter": "python",
   "pygments_lexer": "ipython3",
   "version": "3.9.7"
  }
 },
 "nbformat": 4,
 "nbformat_minor": 5
}
